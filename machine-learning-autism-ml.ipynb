{
 "cells": [
  {
   "cell_type": "code",
   "execution_count": 1,
   "id": "1ebcc06d",
   "metadata": {
    "_cell_guid": "b1076dfc-b9ad-4769-8c92-a6c4dae69d19",
    "_uuid": "8f2839f25d086af736a60e9eeb907d3b93b6e0e5",
    "execution": {
     "iopub.execute_input": "2022-12-08T22:33:22.338019Z",
     "iopub.status.busy": "2022-12-08T22:33:22.337312Z",
     "iopub.status.idle": "2022-12-08T22:33:24.286113Z",
     "shell.execute_reply": "2022-12-08T22:33:24.285153Z"
    },
    "papermill": {
     "duration": 1.960656,
     "end_time": "2022-12-08T22:33:24.288632",
     "exception": false,
     "start_time": "2022-12-08T22:33:22.327976",
     "status": "completed"
    },
    "tags": []
   },
   "outputs": [],
   "source": [
    "from sklearn.preprocessing import StandardScaler\n",
    "import matplotlib.pyplot as plt \n",
    "import numpy as np \n",
    "import os \n",
    "import pandas as pd \n",
    "import random\n",
    "import numpy as np\n",
    "import cv2  as cv"
   ]
  },
  {
   "cell_type": "code",
   "execution_count": 2,
   "id": "89f72679",
   "metadata": {
    "execution": {
     "iopub.execute_input": "2022-12-08T22:33:24.304486Z",
     "iopub.status.busy": "2022-12-08T22:33:24.303661Z",
     "iopub.status.idle": "2022-12-08T22:33:26.439293Z",
     "shell.execute_reply": "2022-12-08T22:33:26.438197Z"
    },
    "papermill": {
     "duration": 2.145774,
     "end_time": "2022-12-08T22:33:26.441593",
     "exception": false,
     "start_time": "2022-12-08T22:33:24.295819",
     "status": "completed"
    },
    "tags": []
   },
   "outputs": [
    {
     "name": "stdout",
     "output_type": "stream",
     "text": [
      "Cloning into 'svm-gpu'...\r\n",
      "remote: Enumerating objects: 38, done.\u001b[K\r\n",
      "remote: Total 38 (delta 0), reused 0 (delta 0), pack-reused 38\u001b[K\r\n",
      "Unpacking objects: 100% (38/38), 145.62 KiB | 1.55 MiB/s, done.\r\n"
     ]
    }
   ],
   "source": [
    "!git clone https://github.com/murtazajafferji/svm-gpu.git"
   ]
  },
  {
   "cell_type": "code",
   "execution_count": 3,
   "id": "d4716f2c",
   "metadata": {
    "execution": {
     "iopub.execute_input": "2022-12-08T22:33:26.457278Z",
     "iopub.status.busy": "2022-12-08T22:33:26.456960Z",
     "iopub.status.idle": "2022-12-08T22:33:26.461620Z",
     "shell.execute_reply": "2022-12-08T22:33:26.460661Z"
    },
    "papermill": {
     "duration": 0.014698,
     "end_time": "2022-12-08T22:33:26.463545",
     "exception": false,
     "start_time": "2022-12-08T22:33:26.448847",
     "status": "completed"
    },
    "tags": []
   },
   "outputs": [],
   "source": [
    "train_dir = \"../input/autism-image-data/AutismDataset/train\"\n",
    "test_dir = \"../input/autism-image-data/AutismDataset/test\""
   ]
  },
  {
   "cell_type": "code",
   "execution_count": 4,
   "id": "923d79e5",
   "metadata": {
    "execution": {
     "iopub.execute_input": "2022-12-08T22:33:26.478855Z",
     "iopub.status.busy": "2022-12-08T22:33:26.478095Z",
     "iopub.status.idle": "2022-12-08T22:33:26.829711Z",
     "shell.execute_reply": "2022-12-08T22:33:26.828705Z"
    },
    "papermill": {
     "duration": 0.362048,
     "end_time": "2022-12-08T22:33:26.832482",
     "exception": false,
     "start_time": "2022-12-08T22:33:26.470434",
     "status": "completed"
    },
    "tags": []
   },
   "outputs": [],
   "source": [
    "# Getting 'Autistic' and 'Non-Autistic' train images from respective file names of train data\n",
    "train_non_autistic = []\n",
    "train_autistic = []\n",
    "for i in os.listdir(train_dir):\n",
    "    if 'Non_Autistic' in (\"../input/autism-image-data/AutismDataset/train/{}\".format(i)):\n",
    "        train_non_autistic.append((\"../input/autism-image-data/AutismDataset/train/{}\".format(i)))\n",
    "    else:\n",
    "        train_autistic.append((\"../input/autism-image-data/AutismDataset/train/{}\".format(i)))\n",
    "        \n",
    "# Getting test images from test data file path\n",
    "test_imgs = [\"../input/autism-image-data/AutismDataset/test/{}\".format(i) for i in os.listdir(test_dir)]\n",
    "\n",
    "\n",
    "# Concatenate 'Autistic'  and 'Non-Autistic' images and shuffle them as train_images\n",
    "train_imgs = train_autistic + train_non_autistic\n",
    "random.shuffle(train_imgs)\n"
   ]
  },
  {
   "cell_type": "code",
   "execution_count": 5,
   "id": "d2e05034",
   "metadata": {
    "execution": {
     "iopub.execute_input": "2022-12-08T22:33:26.850508Z",
     "iopub.status.busy": "2022-12-08T22:33:26.848858Z",
     "iopub.status.idle": "2022-12-08T22:33:26.895495Z",
     "shell.execute_reply": "2022-12-08T22:33:26.894619Z"
    },
    "papermill": {
     "duration": 0.057251,
     "end_time": "2022-12-08T22:33:26.897578",
     "exception": false,
     "start_time": "2022-12-08T22:33:26.840327",
     "status": "completed"
    },
    "tags": []
   },
   "outputs": [],
   "source": [
    "# Repeat the above process for validation data to get val_images\n",
    "val_autistic = \"../input/autism-image-data/AutismDataset/valid/Autistic\"\n",
    "val_non_autistic = \"../input/autism-image-data/AutismDataset/valid/Non_Autistic\"\n",
    "val_autistic_imgs = [\"../input/autism-image-data/AutismDataset/valid/Autistic/{}\".format(i) for i in os.listdir(val_autistic)]\n",
    "val_non_autistic_imgs = [\"../input/autism-image-data/AutismDataset/valid/Non_Autistic/{}\".format(i) for i in os.listdir(val_non_autistic)]\n",
    "val_imgs = val_autistic_imgs + val_non_autistic_imgs\n",
    "random.shuffle(val_imgs)\n",
    "\n",
    "# Remove the lists to save space\n",
    "del val_autistic_imgs\n",
    "del val_non_autistic_imgs"
   ]
  },
  {
   "cell_type": "markdown",
   "id": "1e6570df",
   "metadata": {
    "papermill": {
     "duration": 0.007025,
     "end_time": "2022-12-08T22:33:26.913260",
     "exception": false,
     "start_time": "2022-12-08T22:33:26.906235",
     "status": "completed"
    },
    "tags": []
   },
   "source": [
    "* We get the 'Autistic' and 'Non-Autistic' images from train data, shuffle them and use as training images\n",
    "* The dataset has 2540 train images, with 1270 images for each 'Autistic' and 'Non-Autistic' category, our dataset is well balanced among the 2 classes\n",
    "* We also get the 300 test images from file path\n",
    "* Diffrent images size \n",
    "* jpg images"
   ]
  },
  {
   "cell_type": "code",
   "execution_count": 6,
   "id": "bf8776a9",
   "metadata": {
    "execution": {
     "iopub.execute_input": "2022-12-08T22:33:26.930049Z",
     "iopub.status.busy": "2022-12-08T22:33:26.929130Z",
     "iopub.status.idle": "2022-12-08T22:33:26.935904Z",
     "shell.execute_reply": "2022-12-08T22:33:26.934873Z"
    },
    "papermill": {
     "duration": 0.017195,
     "end_time": "2022-12-08T22:33:26.937869",
     "exception": false,
     "start_time": "2022-12-08T22:33:26.920674",
     "status": "completed"
    },
    "tags": []
   },
   "outputs": [],
   "source": [
    "# Set the dimensions for images\n",
    "nrows = 150\n",
    "ncolumns  = 150\n",
    "\n",
    "# Read and process the images: Function returns X,y. X - list of resized images, y - list of labels for the images\n",
    "\n",
    "def read_and_process_image(list_of_images):\n",
    "    x = []\n",
    "    y = []\n",
    "    \n",
    "    for image in list_of_images:\n",
    "        name=image\n",
    "        image=cv.imread(image, cv.IMREAD_COLOR)\n",
    "        #image=data_preprocessing(image)\n",
    "        gray_image = cv.cvtColor(image, cv.COLOR_BGR2GRAY)\n",
    "        x.append(cv.resize(gray_image, (nrows, ncolumns)))\n",
    "        if 'Non_Autistic' in name:\n",
    "            y.append(0)\n",
    "        else:\n",
    "            y.append(1)\n",
    "    #print(y)   \n",
    "    #print(x.shape)\n",
    "    return x,y"
   ]
  },
  {
   "cell_type": "code",
   "execution_count": 7,
   "id": "65e380ae",
   "metadata": {
    "execution": {
     "iopub.execute_input": "2022-12-08T22:33:26.954079Z",
     "iopub.status.busy": "2022-12-08T22:33:26.953221Z",
     "iopub.status.idle": "2022-12-08T22:33:56.492372Z",
     "shell.execute_reply": "2022-12-08T22:33:56.491404Z"
    },
    "papermill": {
     "duration": 29.549707,
     "end_time": "2022-12-08T22:33:56.494837",
     "exception": false,
     "start_time": "2022-12-08T22:33:26.945130",
     "status": "completed"
    },
    "tags": []
   },
   "outputs": [],
   "source": [
    "x_train, y_train = read_and_process_image(train_imgs)\n"
   ]
  },
  {
   "cell_type": "code",
   "execution_count": 8,
   "id": "ba7b951e",
   "metadata": {
    "execution": {
     "iopub.execute_input": "2022-12-08T22:33:56.512358Z",
     "iopub.status.busy": "2022-12-08T22:33:56.511543Z",
     "iopub.status.idle": "2022-12-08T22:33:59.657657Z",
     "shell.execute_reply": "2022-12-08T22:33:59.656664Z"
    },
    "papermill": {
     "duration": 3.15676,
     "end_time": "2022-12-08T22:33:59.660115",
     "exception": false,
     "start_time": "2022-12-08T22:33:56.503355",
     "status": "completed"
    },
    "tags": []
   },
   "outputs": [],
   "source": [
    "x_test, y_test = read_and_process_image(test_imgs)"
   ]
  },
  {
   "cell_type": "code",
   "execution_count": 9,
   "id": "e160c89a",
   "metadata": {
    "execution": {
     "iopub.execute_input": "2022-12-08T22:33:59.677209Z",
     "iopub.status.busy": "2022-12-08T22:33:59.675584Z",
     "iopub.status.idle": "2022-12-08T22:34:00.719015Z",
     "shell.execute_reply": "2022-12-08T22:34:00.718012Z"
    },
    "papermill": {
     "duration": 1.053917,
     "end_time": "2022-12-08T22:34:00.721406",
     "exception": false,
     "start_time": "2022-12-08T22:33:59.667489",
     "status": "completed"
    },
    "tags": []
   },
   "outputs": [],
   "source": [
    "x_val,y_val=read_and_process_image(val_imgs)"
   ]
  },
  {
   "cell_type": "code",
   "execution_count": 10,
   "id": "6ea3851e",
   "metadata": {
    "execution": {
     "iopub.execute_input": "2022-12-08T22:34:00.738306Z",
     "iopub.status.busy": "2022-12-08T22:34:00.736680Z",
     "iopub.status.idle": "2022-12-08T22:34:00.761061Z",
     "shell.execute_reply": "2022-12-08T22:34:00.760120Z"
    },
    "papermill": {
     "duration": 0.034561,
     "end_time": "2022-12-08T22:34:00.763285",
     "exception": false,
     "start_time": "2022-12-08T22:34:00.728724",
     "status": "completed"
    },
    "tags": []
   },
   "outputs": [],
   "source": [
    "x_train = np.array(x_train)\n",
    "\n",
    "#x_train\n",
    "nsamples,nx,ny=x_train.shape"
   ]
  },
  {
   "cell_type": "code",
   "execution_count": 11,
   "id": "5b038c50",
   "metadata": {
    "execution": {
     "iopub.execute_input": "2022-12-08T22:34:00.779046Z",
     "iopub.status.busy": "2022-12-08T22:34:00.778770Z",
     "iopub.status.idle": "2022-12-08T22:34:00.789182Z",
     "shell.execute_reply": "2022-12-08T22:34:00.788362Z"
    },
    "papermill": {
     "duration": 0.020411,
     "end_time": "2022-12-08T22:34:00.791131",
     "exception": false,
     "start_time": "2022-12-08T22:34:00.770720",
     "status": "completed"
    },
    "tags": []
   },
   "outputs": [
    {
     "data": {
      "text/plain": [
       "(2540, 22500)"
      ]
     },
     "execution_count": 11,
     "metadata": {},
     "output_type": "execute_result"
    }
   ],
   "source": [
    "x_trainD2=x_train.reshape((nsamples,nx*ny))\n",
    "x_trainD2.shape"
   ]
  },
  {
   "cell_type": "code",
   "execution_count": 12,
   "id": "3b9ab318",
   "metadata": {
    "execution": {
     "iopub.execute_input": "2022-12-08T22:34:00.806423Z",
     "iopub.status.busy": "2022-12-08T22:34:00.806125Z",
     "iopub.status.idle": "2022-12-08T22:34:00.812437Z",
     "shell.execute_reply": "2022-12-08T22:34:00.811559Z"
    },
    "papermill": {
     "duration": 0.016201,
     "end_time": "2022-12-08T22:34:00.814434",
     "exception": false,
     "start_time": "2022-12-08T22:34:00.798233",
     "status": "completed"
    },
    "tags": []
   },
   "outputs": [],
   "source": [
    "x_test = np.array(x_test)\n",
    "#x_train\n",
    "nsamples,nx,ny=x_test.shape"
   ]
  },
  {
   "cell_type": "code",
   "execution_count": 13,
   "id": "f16a065a",
   "metadata": {
    "execution": {
     "iopub.execute_input": "2022-12-08T22:34:00.829463Z",
     "iopub.status.busy": "2022-12-08T22:34:00.829176Z",
     "iopub.status.idle": "2022-12-08T22:34:00.836054Z",
     "shell.execute_reply": "2022-12-08T22:34:00.835190Z"
    },
    "papermill": {
     "duration": 0.016714,
     "end_time": "2022-12-08T22:34:00.838034",
     "exception": false,
     "start_time": "2022-12-08T22:34:00.821320",
     "status": "completed"
    },
    "tags": []
   },
   "outputs": [
    {
     "data": {
      "text/plain": [
       "(300, 22500)"
      ]
     },
     "execution_count": 13,
     "metadata": {},
     "output_type": "execute_result"
    }
   ],
   "source": [
    "x_testD2=x_test.reshape((nsamples,nx*ny))\n",
    "x_testD2.shape"
   ]
  },
  {
   "cell_type": "markdown",
   "id": "14433f4d",
   "metadata": {
    "papermill": {
     "duration": 0.006942,
     "end_time": "2022-12-08T22:34:00.852090",
     "exception": false,
     "start_time": "2022-12-08T22:34:00.845148",
     "status": "completed"
    },
    "tags": []
   },
   "source": [
    "## Feature Extraction"
   ]
  },
  {
   "cell_type": "code",
   "execution_count": 14,
   "id": "35647764",
   "metadata": {
    "execution": {
     "iopub.execute_input": "2022-12-08T22:34:00.867614Z",
     "iopub.status.busy": "2022-12-08T22:34:00.867332Z",
     "iopub.status.idle": "2022-12-08T22:34:17.454936Z",
     "shell.execute_reply": "2022-12-08T22:34:17.453466Z"
    },
    "papermill": {
     "duration": 16.599396,
     "end_time": "2022-12-08T22:34:17.458893",
     "exception": false,
     "start_time": "2022-12-08T22:34:00.859497",
     "status": "completed"
    },
    "tags": []
   },
   "outputs": [],
   "source": [
    "from sklearn.decomposition import PCA\n",
    "\n",
    "#initialize PCA with first 10 principal components\n",
    "pca = PCA(250)\n",
    "x_train_transformed = pca.fit_transform(x_trainD2)\n",
    "x_test_transformed=pca.fit_transform(x_testD2)"
   ]
  },
  {
   "cell_type": "code",
   "execution_count": 15,
   "id": "3fe55471",
   "metadata": {
    "execution": {
     "iopub.execute_input": "2022-12-08T22:34:17.497942Z",
     "iopub.status.busy": "2022-12-08T22:34:17.497416Z",
     "iopub.status.idle": "2022-12-08T22:34:17.505302Z",
     "shell.execute_reply": "2022-12-08T22:34:17.504427Z"
    },
    "papermill": {
     "duration": 0.030671,
     "end_time": "2022-12-08T22:34:17.508326",
     "exception": false,
     "start_time": "2022-12-08T22:34:17.477655",
     "status": "completed"
    },
    "tags": []
   },
   "outputs": [
    {
     "data": {
      "text/plain": [
       "(2540, 250)"
      ]
     },
     "execution_count": 15,
     "metadata": {},
     "output_type": "execute_result"
    }
   ],
   "source": [
    "x_train_transformed.shape"
   ]
  },
  {
   "cell_type": "code",
   "execution_count": 16,
   "id": "83045f6f",
   "metadata": {
    "execution": {
     "iopub.execute_input": "2022-12-08T22:34:17.547171Z",
     "iopub.status.busy": "2022-12-08T22:34:17.546720Z",
     "iopub.status.idle": "2022-12-08T22:34:17.560685Z",
     "shell.execute_reply": "2022-12-08T22:34:17.559751Z"
    },
    "papermill": {
     "duration": 0.037241,
     "end_time": "2022-12-08T22:34:17.563972",
     "exception": false,
     "start_time": "2022-12-08T22:34:17.526731",
     "status": "completed"
    },
    "tags": []
   },
   "outputs": [
    {
     "data": {
      "text/plain": [
       "array([ 3.95701534e+03,  2.67813134e+03, -1.24684454e+03, -2.88197394e+03,\n",
       "        7.37176765e+01,  3.86686304e+02, -3.37896632e+02, -1.88937253e+03,\n",
       "       -3.15605108e+02,  1.18672753e+02,  1.50942673e+02, -1.07715811e+03,\n",
       "       -8.95885640e+02,  7.57055756e+01, -2.07351869e+02, -1.51484526e+03,\n",
       "       -9.60828460e+02, -9.80950684e+02, -6.25876304e+02, -5.49746232e+02,\n",
       "        7.72759813e+02,  1.03554792e+03, -2.79257507e+02, -8.34585933e+01,\n",
       "       -1.11317627e+03,  1.30631105e+03,  8.06331064e+02, -1.03642966e+03,\n",
       "        3.03881304e+02,  4.20432843e+02,  4.85307067e+02, -7.16793983e+02,\n",
       "        1.55695161e+02, -2.99898956e+02, -5.67742863e+00, -8.71326844e+02,\n",
       "        6.08758809e+02, -6.33923163e+02, -3.41964536e+02,  3.12784478e+02,\n",
       "        1.40437014e+02, -3.13887784e+02,  2.06654355e+02,  9.01420572e+01,\n",
       "       -1.32871078e+01,  2.82553492e+02,  4.01334031e+02,  6.52566732e+01,\n",
       "        2.76256180e+02,  8.67109582e+02, -1.88597479e+02, -2.33402237e+02,\n",
       "       -2.47217252e+02,  5.44172174e+02,  9.24757114e+01,  1.15556342e+03,\n",
       "       -4.88882393e+02, -2.87094032e+01, -1.22928331e+03, -7.68348507e+02,\n",
       "        5.07416555e+01,  2.11867483e+02, -3.28939024e+02, -5.05302056e+01,\n",
       "        2.93698641e+02,  3.79931490e+02, -2.23516082e+02, -3.79586433e+01,\n",
       "       -2.30704207e+02, -2.11967647e+02,  3.77578924e+02,  1.07600335e+02,\n",
       "        1.37888604e+02, -3.11129977e+02,  1.29189255e+02,  3.48026605e+02,\n",
       "       -1.01709687e+02,  4.11079820e+02,  1.36811894e+02, -4.01034296e+02,\n",
       "        6.25133418e+00, -2.76983716e+02, -3.90402043e+02, -3.12955946e+01,\n",
       "       -2.17979880e+02,  3.74889249e+02,  1.23171391e+02, -1.74969660e+02,\n",
       "        3.43499953e+02, -2.08772098e+02,  3.06787675e+01, -1.59902772e+01,\n",
       "        6.52344006e+01,  4.17684898e+01,  2.84121001e+01, -2.00360186e+02,\n",
       "        3.26816741e+02, -4.19170877e+01, -5.61446472e+01, -3.89978558e+01,\n",
       "       -1.64337720e+02, -2.08684662e+02, -1.09075929e+02, -9.67937214e+01,\n",
       "       -3.12241039e+02, -2.29556520e+02,  2.89877549e+01,  4.44782252e+01,\n",
       "       -6.52848842e+01,  4.48298092e+02,  1.77980545e+02, -2.73767185e+02,\n",
       "        2.17710022e+02,  2.76443075e+02,  1.36444497e+02, -4.37736515e+02,\n",
       "        1.14857053e+02,  3.60614905e+01, -1.47179393e+02,  7.05760919e+00,\n",
       "       -1.60603107e+02, -1.18579279e+02, -1.45115876e+02, -2.14895418e+01,\n",
       "        4.52305971e+01, -5.64054978e+01,  8.88866840e+01, -2.35987638e+01,\n",
       "       -2.14664283e+02,  1.36958108e+02, -2.77948143e+02, -5.39382325e+01,\n",
       "       -1.85815210e+02,  2.34812196e+02,  1.03506685e+02,  4.72457828e+00,\n",
       "        1.44325593e+02,  2.01401463e+02,  3.61286736e+02,  1.94499482e+02,\n",
       "        1.62945496e+02, -3.03809299e+02, -3.75763304e+01, -1.65213113e+02,\n",
       "        2.90533113e+02, -1.34558197e+02,  1.40424459e+02, -1.17522602e+01,\n",
       "        1.65784803e+02,  3.56866734e+02, -2.83502529e+02, -1.84953735e+02,\n",
       "       -2.11750506e+02, -2.04895727e+02,  1.00013256e+01, -1.88841830e+02,\n",
       "       -1.28681053e+02,  2.60208615e+02, -8.88258146e+01, -2.10928917e+01,\n",
       "        1.87317041e+02, -3.16304152e+02, -1.60821518e+02,  1.34762979e+02,\n",
       "        3.36839872e+02, -1.94278950e+02,  1.40017589e-01, -1.79996959e+02,\n",
       "       -6.36482120e+00,  2.58394151e+02, -1.49717328e+02,  5.42605342e+01,\n",
       "        2.04880906e+02,  1.22249443e+02,  2.87866543e+02,  3.68201254e+02,\n",
       "        1.59674228e+02, -4.78311875e+01,  1.60105890e+01, -1.58462729e+01,\n",
       "        3.18487665e+02,  2.38570393e+02,  8.18536726e+01,  3.23027925e+02,\n",
       "       -1.68410420e+02,  3.44522952e+01,  8.16147723e+01, -4.55954402e+01,\n",
       "       -7.09383476e+01, -6.92568306e+01, -1.68082191e+02,  4.75128561e+01,\n",
       "       -1.12897958e+02, -2.75716392e+02, -2.28192267e+02, -8.84465848e+01,\n",
       "        2.98466351e+02,  9.22582554e+01, -2.58530366e+02, -2.70753512e+01,\n",
       "       -4.75422095e+02,  6.21700386e+01, -1.49528062e+02,  1.45059838e+02,\n",
       "       -1.66540494e+02, -9.30150256e+00, -2.39378325e+02, -9.05582138e+01,\n",
       "        2.04493174e+02, -1.21234244e+02, -3.46741721e+02,  1.29414158e+02,\n",
       "       -5.61557696e+01, -2.30360738e+01,  3.53658312e+02,  3.01580575e+02,\n",
       "       -1.12105583e+02,  2.21349329e+02, -8.71451232e+01, -1.08113034e+02,\n",
       "        1.31039886e+02,  1.86839006e+02, -1.20436453e+02, -2.42993653e+01,\n",
       "       -1.46014215e+02, -1.93377884e+02,  1.26952689e+02, -9.45758719e+01,\n",
       "        1.55749922e+02, -3.25818193e+02,  1.79191357e+01,  1.26079508e+02,\n",
       "       -8.59890293e+00, -1.86123999e+02, -4.47106570e+01,  1.87206873e+02,\n",
       "       -5.54027732e+01, -3.95065602e+01,  3.62367542e+01, -1.10956467e+01,\n",
       "        2.34195325e+02,  1.13352026e+02,  1.61784953e+02, -3.38301184e+00,\n",
       "        7.79755462e+01,  2.30670505e+02,  2.80702053e+02,  8.26632018e+00,\n",
       "       -5.19301068e+01,  1.00207014e+02])"
      ]
     },
     "execution_count": 16,
     "metadata": {},
     "output_type": "execute_result"
    }
   ],
   "source": [
    "x_train_transformed[0]"
   ]
  },
  {
   "cell_type": "markdown",
   "id": "b74bfaab",
   "metadata": {
    "papermill": {
     "duration": 0.007159,
     "end_time": "2022-12-08T22:34:17.585252",
     "exception": false,
     "start_time": "2022-12-08T22:34:17.578093",
     "status": "completed"
    },
    "tags": []
   },
   "source": [
    "## Data quality"
   ]
  },
  {
   "cell_type": "code",
   "execution_count": 17,
   "id": "76def878",
   "metadata": {
    "execution": {
     "iopub.execute_input": "2022-12-08T22:34:17.601464Z",
     "iopub.status.busy": "2022-12-08T22:34:17.601134Z",
     "iopub.status.idle": "2022-12-08T22:34:31.692269Z",
     "shell.execute_reply": "2022-12-08T22:34:31.691100Z"
    },
    "papermill": {
     "duration": 14.101917,
     "end_time": "2022-12-08T22:34:31.694738",
     "exception": false,
     "start_time": "2022-12-08T22:34:17.592821",
     "status": "completed"
    },
    "tags": []
   },
   "outputs": [
    {
     "name": "stdout",
     "output_type": "stream",
     "text": [
      "Collecting sewar\r\n",
      "  Downloading sewar-0.4.5.tar.gz (11 kB)\r\n",
      "  Preparing metadata (setup.py) ... \u001b[?25l-\b \bdone\r\n",
      "\u001b[?25hRequirement already satisfied: numpy in /opt/conda/lib/python3.7/site-packages (from sewar) (1.21.6)\r\n",
      "Requirement already satisfied: scipy in /opt/conda/lib/python3.7/site-packages (from sewar) (1.7.3)\r\n",
      "Requirement already satisfied: Pillow in /opt/conda/lib/python3.7/site-packages (from sewar) (9.1.1)\r\n",
      "Building wheels for collected packages: sewar\r\n",
      "  Building wheel for sewar (setup.py) ... \u001b[?25l-\b \b\\\b \bdone\r\n",
      "\u001b[?25h  Created wheel for sewar: filename=sewar-0.4.5-py3-none-any.whl size=10608 sha256=9f5f175373856557cc8d1a170f1063c4bf5cf95a4a7edbfee6e521a51f3353d0\r\n",
      "  Stored in directory: /root/.cache/pip/wheels/7a/38/6b/d066cfcb2b1c1c9b059b9ce1bdc4803b469359214e8dad4e3e\r\n",
      "Successfully built sewar\r\n",
      "Installing collected packages: sewar\r\n",
      "Successfully installed sewar-0.4.5\r\n",
      "\u001b[33mWARNING: Running pip as the 'root' user can result in broken permissions and conflicting behaviour with the system package manager. It is recommended to use a virtual environment instead: https://pip.pypa.io/warnings/venv\u001b[0m\u001b[33m\r\n",
      "\u001b[0m"
     ]
    }
   ],
   "source": [
    "!pip install sewar"
   ]
  },
  {
   "cell_type": "code",
   "execution_count": 18,
   "id": "b9445aae",
   "metadata": {
    "execution": {
     "iopub.execute_input": "2022-12-08T22:34:31.712844Z",
     "iopub.status.busy": "2022-12-08T22:34:31.712266Z",
     "iopub.status.idle": "2022-12-08T22:34:31.825131Z",
     "shell.execute_reply": "2022-12-08T22:34:31.824165Z"
    },
    "papermill": {
     "duration": 0.124257,
     "end_time": "2022-12-08T22:34:31.827363",
     "exception": false,
     "start_time": "2022-12-08T22:34:31.703106",
     "status": "completed"
    },
    "tags": []
   },
   "outputs": [],
   "source": [
    " from sewar.full_ref import *"
   ]
  },
  {
   "cell_type": "markdown",
   "id": "99d50817",
   "metadata": {
    "papermill": {
     "duration": 0.007967,
     "end_time": "2022-12-08T22:34:31.843546",
     "exception": false,
     "start_time": "2022-12-08T22:34:31.835579",
     "status": "completed"
    },
    "tags": []
   },
   "source": [
    "## uqi metric"
   ]
  },
  {
   "cell_type": "code",
   "execution_count": 19,
   "id": "6a2cb03e",
   "metadata": {
    "execution": {
     "iopub.execute_input": "2022-12-08T22:34:31.861572Z",
     "iopub.status.busy": "2022-12-08T22:34:31.860643Z",
     "iopub.status.idle": "2022-12-08T22:34:32.152492Z",
     "shell.execute_reply": "2022-12-08T22:34:32.150909Z"
    },
    "papermill": {
     "duration": 0.303015,
     "end_time": "2022-12-08T22:34:32.154732",
     "exception": false,
     "start_time": "2022-12-08T22:34:31.851717",
     "status": "completed"
    },
    "tags": []
   },
   "outputs": [
    {
     "name": "stdout",
     "output_type": "stream",
     "text": [
      "L'image de classe : Autistic\n",
      "le metrique uqi niveau de gray: 1.0\n",
      "le metrique uqi niveau de laplacien: 0.0012364513084843318\n",
      "le metrique uqi niveau de sobelx: 0.17806395291508478\n",
      "L'image de classe : Non_Autistic\n",
      "le metrique uqi niveau de gray: 1.0\n",
      "le metrique uqi niveau de laplacien: 0.0001476399814618108\n",
      "le metrique uqi niveau de sobelx: 0.27625789588044036\n",
      "L'image de classe : Non_Autistic\n",
      "le metrique uqi niveau de gray: 1.0\n",
      "le metrique uqi niveau de laplacien: 0.00012173912975487145\n",
      "le metrique uqi niveau de sobelx: 0.32665023036904334\n",
      "L'image de classe : Non_Autistic\n",
      "le metrique uqi niveau de gray: 1.0\n",
      "le metrique uqi niveau de laplacien: 0.0002528094777047013\n",
      "le metrique uqi niveau de sobelx: 0.36494326234423563\n",
      "L'image de classe : Autistic\n",
      "le metrique uqi niveau de gray: 1.0\n",
      "le metrique uqi niveau de laplacien: 0.0007356506970073577\n",
      "le metrique uqi niveau de sobelx: 0.29016903156808144\n",
      "L'image de classe : Autistic\n",
      "le metrique uqi niveau de gray: 1.0\n",
      "le metrique uqi niveau de laplacien: 0.0018698370280374646\n",
      "le metrique uqi niveau de sobelx: 0.2781131427568249\n",
      "L'image de classe : Non_Autistic\n",
      "le metrique uqi niveau de gray: 1.0\n",
      "le metrique uqi niveau de laplacien: 0.001540612678977295\n",
      "le metrique uqi niveau de sobelx: 0.2599623047186573\n",
      "L'image de classe : Autistic\n",
      "le metrique uqi niveau de gray: 1.0\n"
     ]
    },
    {
     "name": "stderr",
     "output_type": "stream",
     "text": [
      "/opt/conda/lib/python3.7/site-packages/sewar/utils.py:18: UserWarning: Supplied images have different dtypes uint8 and float64\n",
      "  warnings.warn(msg)\n"
     ]
    },
    {
     "name": "stdout",
     "output_type": "stream",
     "text": [
      "le metrique uqi niveau de laplacien: 0.0009258469132522364\n",
      "le metrique uqi niveau de sobelx: 0.2912682635062908\n",
      "L'image de classe : Autistic\n",
      "le metrique uqi niveau de gray: 1.0\n",
      "le metrique uqi niveau de laplacien: 0.0032067482596592123\n",
      "le metrique uqi niveau de sobelx: 0.19786897629268418\n",
      "L'image de classe : Non_Autistic\n",
      "le metrique uqi niveau de gray: 1.0\n",
      "le metrique uqi niveau de laplacien: 0.00036579447426481537\n",
      "le metrique uqi niveau de sobelx: 0.3212439783642211\n"
     ]
    }
   ],
   "source": [
    "    index=0\n",
    "    for image in train_imgs:\n",
    "        if(index==10):\n",
    "             break\n",
    "        y= 0\n",
    "        test=False\n",
    "        name=image\n",
    "        original=image\n",
    "        type=\"\"\n",
    "        original=cv.imread(original, cv.IMREAD_COLOR)\n",
    "        transformedImage=original = cv.cvtColor(original, cv.COLOR_BGR2GRAY)\n",
    "        img = cv.GaussianBlur(original,(3,3),3)\n",
    "        laplacian = cv.Laplacian(img,cv.CV_64F)\n",
    "        sobelx = cv.Sobel(img,cv.CV_64F,1,0,ksize=5)\n",
    "        if 'Non_Autistic' in name:\n",
    "            y=0\n",
    "            type=\"Non_Autistic\"\n",
    "        else:\n",
    "            y=1\n",
    "            type=\"Autistic\"\n",
    "        print(f\"L'image de classe : {type}\")\n",
    "        print(f\"le metrique uqi niveau de gray: {uqi(original,transformedImage)}\")\n",
    "        print(f\"le metrique uqi niveau de laplacien: {uqi(original,laplacian)}\")\n",
    "        print(f\"le metrique uqi niveau de sobelx: {uqi(original,sobelx)}\")\n",
    "\n",
    "        index=index+1\n",
    "        \n",
    "        \n",
    "    "
   ]
  },
  {
   "cell_type": "code",
   "execution_count": 20,
   "id": "430a46a2",
   "metadata": {
    "execution": {
     "iopub.execute_input": "2022-12-08T22:34:32.174494Z",
     "iopub.status.busy": "2022-12-08T22:34:32.174160Z",
     "iopub.status.idle": "2022-12-08T22:34:32.429348Z",
     "shell.execute_reply": "2022-12-08T22:34:32.427447Z"
    },
    "papermill": {
     "duration": 0.267993,
     "end_time": "2022-12-08T22:34:32.431809",
     "exception": false,
     "start_time": "2022-12-08T22:34:32.163816",
     "status": "completed"
    },
    "tags": []
   },
   "outputs": [
    {
     "name": "stdout",
     "output_type": "stream",
     "text": [
      "L'image de classe : Autistic\n",
      "le metrique uqi niveau de gray: 1.0\n",
      "le metrique uqi niveau de laplacien: 0.0012364513084843318\n",
      "le metrique uqi niveau de sobelx: 0.17806395291508478\n",
      "L'image de classe : Non_Autistic\n",
      "le metrique uqi niveau de gray: 1.0\n",
      "le metrique uqi niveau de laplacien: 0.0001476399814618108\n",
      "le metrique uqi niveau de sobelx: 0.27625789588044036\n",
      "L'image de classe : Non_Autistic\n",
      "le metrique uqi niveau de gray: 1.0\n",
      "le metrique uqi niveau de laplacien: 0.00012173912975487145\n",
      "le metrique uqi niveau de sobelx: 0.32665023036904334\n",
      "L'image de classe : Non_Autistic\n",
      "le metrique uqi niveau de gray: 1.0\n",
      "le metrique uqi niveau de laplacien: 0.0002528094777047013\n",
      "le metrique uqi niveau de sobelx: 0.36494326234423563\n",
      "L'image de classe : Autistic\n",
      "le metrique uqi niveau de gray: 1.0\n",
      "le metrique uqi niveau de laplacien: 0.0007356506970073577\n",
      "le metrique uqi niveau de sobelx: 0.29016903156808144\n",
      "L'image de classe : Autistic\n",
      "le metrique uqi niveau de gray: 1.0\n",
      "le metrique uqi niveau de laplacien: 0.0018698370280374646\n",
      "le metrique uqi niveau de sobelx: 0.2781131427568249\n",
      "L'image de classe : Non_Autistic\n",
      "le metrique uqi niveau de gray: 1.0\n",
      "le metrique uqi niveau de laplacien: 0.001540612678977295\n",
      "le metrique uqi niveau de sobelx: 0.2599623047186573\n",
      "L'image de classe : Autistic\n",
      "le metrique uqi niveau de gray: 1.0\n",
      "le metrique uqi niveau de laplacien: 0.0009258469132522364\n",
      "le metrique uqi niveau de sobelx: 0.2912682635062908\n",
      "L'image de classe : Autistic\n",
      "le metrique uqi niveau de gray: 1.0\n",
      "le metrique uqi niveau de laplacien: 0.0032067482596592123\n",
      "le metrique uqi niveau de sobelx: 0.19786897629268418\n",
      "L'image de classe : Non_Autistic\n",
      "le metrique uqi niveau de gray: 1.0\n",
      "le metrique uqi niveau de laplacien: 0.00036579447426481537\n",
      "le metrique uqi niveau de sobelx: 0.3212439783642211\n"
     ]
    }
   ],
   "source": [
    "    index=0\n",
    "    for image in train_imgs:\n",
    "        if(index==10):\n",
    "             break\n",
    "        y= 0\n",
    "        test=False\n",
    "        name=image\n",
    "        original=image\n",
    "        type=\"\"\n",
    "        original=cv.imread(original, cv.IMREAD_COLOR)\n",
    "        transformedImage=original = cv.cvtColor(original, cv.COLOR_BGR2GRAY)\n",
    "        img = cv.GaussianBlur(original,(3,3),3)\n",
    "        laplacian = cv.Laplacian(img,cv.CV_64F)\n",
    "        sobelx = cv.Sobel(img,cv.CV_64F,1,0,ksize=5)\n",
    "        if 'Non_Autistic' in name:\n",
    "            y=0\n",
    "            type=\"Non_Autistic\"\n",
    "        else:\n",
    "            y=1\n",
    "            type=\"Autistic\"\n",
    "        print(f\"L'image de classe : {type}\")\n",
    "        print(f\"le metrique uqi niveau de gray: {uqi(original,transformedImage)}\")\n",
    "        print(f\"le metrique uqi niveau de laplacien: {uqi(original,laplacian)}\")\n",
    "        print(f\"le metrique uqi niveau de sobelx: {uqi(original,sobelx)}\")\n",
    "\n",
    "        index=index+1\n",
    "        \n",
    "        \n",
    "    "
   ]
  },
  {
   "cell_type": "markdown",
   "id": "85921bd1",
   "metadata": {
    "papermill": {
     "duration": 0.009121,
     "end_time": "2022-12-08T22:34:32.450303",
     "exception": false,
     "start_time": "2022-12-08T22:34:32.441182",
     "status": "completed"
    },
    "tags": []
   },
   "source": [
    "## mse"
   ]
  },
  {
   "cell_type": "code",
   "execution_count": 21,
   "id": "2f6908bf",
   "metadata": {
    "execution": {
     "iopub.execute_input": "2022-12-08T22:34:32.470442Z",
     "iopub.status.busy": "2022-12-08T22:34:32.469640Z",
     "iopub.status.idle": "2022-12-08T22:34:32.551854Z",
     "shell.execute_reply": "2022-12-08T22:34:32.550358Z"
    },
    "papermill": {
     "duration": 0.094639,
     "end_time": "2022-12-08T22:34:32.554130",
     "exception": false,
     "start_time": "2022-12-08T22:34:32.459491",
     "status": "completed"
    },
    "tags": []
   },
   "outputs": [
    {
     "name": "stdout",
     "output_type": "stream",
     "text": [
      "L'image de classe : Autistic\n",
      "le metrique uqi niveau de gray: 0.0\n",
      "le metrique uqi niveau de laplacien: 18348.313975346686\n",
      "le metrique uqi niveau de sobelx: 944639.0205701079\n",
      "L'image de classe : Non_Autistic\n",
      "le metrique uqi niveau de gray: 0.0\n",
      "le metrique uqi niveau de laplacien: 20224.791376870802\n",
      "le metrique uqi niveau de sobelx: 143127.82030331413\n",
      "L'image de classe : Non_Autistic\n",
      "le metrique uqi niveau de gray: 0.0\n",
      "le metrique uqi niveau de laplacien: 28737.11578200468\n",
      "le metrique uqi niveau de sobelx: 317995.8385699348\n",
      "L'image de classe : Non_Autistic\n",
      "le metrique uqi niveau de gray: 0.0\n",
      "le metrique uqi niveau de laplacien: 39562.67974361532\n",
      "le metrique uqi niveau de sobelx: 229218.57686552274\n",
      "L'image de classe : Autistic\n",
      "le metrique uqi niveau de gray: 0.0\n",
      "le metrique uqi niveau de laplacien: 26449.99854053545\n",
      "le metrique uqi niveau de sobelx: 433935.65979305946\n",
      "L'image de classe : Autistic\n",
      "le metrique uqi niveau de gray: 0.0\n",
      "le metrique uqi niveau de laplacien: 27546.823725490198\n",
      "le metrique uqi niveau de sobelx: 517985.12714460783\n",
      "L'image de classe : Non_Autistic\n",
      "le metrique uqi niveau de gray: 0.0\n",
      "le metrique uqi niveau de laplacien: 24477.08977762607\n",
      "le metrique uqi niveau de sobelx: 501351.6174384648\n",
      "L'image de classe : Autistic\n",
      "le metrique uqi niveau de gray: 0.0\n",
      "le metrique uqi niveau de laplacien: 24955.02947161465\n",
      "le metrique uqi niveau de sobelx: 444092.7247972475\n",
      "L'image de classe : Autistic\n",
      "le metrique uqi niveau de gray: 0.0\n",
      "le metrique uqi niveau de laplacien: 21894.752118588483\n",
      "le metrique uqi niveau de sobelx: 811548.9309064673\n",
      "L'image de classe : Non_Autistic\n",
      "le metrique uqi niveau de gray: 0.0\n",
      "le metrique uqi niveau de laplacien: 24751.808015210347\n",
      "le metrique uqi niveau de sobelx: 320570.99832777836\n"
     ]
    }
   ],
   "source": [
    "    index=0\n",
    "    for image in train_imgs:\n",
    "        if(index==10):\n",
    "             break\n",
    "        y= 0\n",
    "        test=False\n",
    "        name=image\n",
    "        original=image\n",
    "        type=\"\"\n",
    "        original=cv.imread(original, cv.IMREAD_COLOR)\n",
    "        transformedImage=original = cv.cvtColor(original, cv.COLOR_BGR2GRAY)\n",
    "        img = cv.GaussianBlur(original,(3,3),3)\n",
    "        laplacian = cv.Laplacian(img,cv.CV_64F)\n",
    "        sobelx = cv.Sobel(img,cv.CV_64F,1,0,ksize=5)\n",
    "        if 'Non_Autistic' in name:\n",
    "            y=0\n",
    "            type=\"Non_Autistic\"\n",
    "        else:\n",
    "            y=1\n",
    "            type=\"Autistic\"\n",
    "        print(f\"L'image de classe : {type}\")\n",
    "        print(f\"le metrique uqi niveau de gray: {mse(original,transformedImage)}\")\n",
    "        print(f\"le metrique uqi niveau de laplacien: {mse(original,laplacian)}\")\n",
    "        print(f\"le metrique uqi niveau de sobelx: {mse(original,sobelx)}\")\n",
    "\n",
    "        index=index+1\n",
    "        \n",
    "        \n",
    "    "
   ]
  },
  {
   "cell_type": "markdown",
   "id": "599c2a72",
   "metadata": {
    "papermill": {
     "duration": 0.008475,
     "end_time": "2022-12-08T22:34:32.571522",
     "exception": false,
     "start_time": "2022-12-08T22:34:32.563047",
     "status": "completed"
    },
    "tags": []
   },
   "source": [
    "## rmse"
   ]
  },
  {
   "cell_type": "code",
   "execution_count": 22,
   "id": "cc8f314c",
   "metadata": {
    "execution": {
     "iopub.execute_input": "2022-12-08T22:34:32.590014Z",
     "iopub.status.busy": "2022-12-08T22:34:32.589563Z",
     "iopub.status.idle": "2022-12-08T22:34:32.671080Z",
     "shell.execute_reply": "2022-12-08T22:34:32.669351Z"
    },
    "papermill": {
     "duration": 0.09329,
     "end_time": "2022-12-08T22:34:32.673431",
     "exception": false,
     "start_time": "2022-12-08T22:34:32.580141",
     "status": "completed"
    },
    "tags": []
   },
   "outputs": [
    {
     "name": "stdout",
     "output_type": "stream",
     "text": [
      "L'image de classe : Autistic\n",
      "le metrique uqi niveau de gray: 0.0\n",
      "le metrique uqi niveau de laplacien: 135.45594846793065\n",
      "le metrique uqi niveau de sobelx: 971.925419242705\n",
      "L'image de classe : Non_Autistic\n",
      "le metrique uqi niveau de gray: 0.0\n",
      "le metrique uqi niveau de laplacien: 142.21389305152573\n",
      "le metrique uqi niveau de sobelx: 378.32237615995456\n",
      "L'image de classe : Non_Autistic\n",
      "le metrique uqi niveau de gray: 0.0\n",
      "le metrique uqi niveau de laplacien: 169.52025183441853\n",
      "le metrique uqi niveau de sobelx: 563.9111974149253\n",
      "L'image de classe : Non_Autistic\n",
      "le metrique uqi niveau de gray: 0.0\n",
      "le metrique uqi niveau de laplacien: 198.90369464546234\n",
      "le metrique uqi niveau de sobelx: 478.7677692425867\n",
      "L'image de classe : Autistic\n",
      "le metrique uqi niveau de gray: 0.0\n",
      "le metrique uqi niveau de laplacien: 162.63455518596118\n",
      "le metrique uqi niveau de sobelx: 658.7379295236152\n",
      "L'image de classe : Autistic\n",
      "le metrique uqi niveau de gray: 0.0\n",
      "le metrique uqi niveau de laplacien: 165.972358317553\n",
      "le metrique uqi niveau de sobelx: 719.7118361848774\n",
      "L'image de classe : Non_Autistic\n",
      "le metrique uqi niveau de gray: 0.0\n",
      "le metrique uqi niveau de laplacien: 156.4515572873152\n",
      "le metrique uqi niveau de sobelx: 708.0618740184115\n",
      "L'image de classe : Autistic\n",
      "le metrique uqi niveau de gray: 0.0\n",
      "le metrique uqi niveau de laplacien: 157.9716097012835\n",
      "le metrique uqi niveau de sobelx: 666.40282472184\n",
      "L'image de classe : Autistic\n",
      "le metrique uqi niveau de gray: 0.0\n",
      "le metrique uqi niveau de laplacien: 147.96875385901066\n",
      "le metrique uqi niveau de sobelx: 900.8601061799036\n",
      "L'image de classe : Non_Autistic\n",
      "le metrique uqi niveau de gray: 0.0\n",
      "le metrique uqi niveau de laplacien: 157.32707337013025\n",
      "le metrique uqi niveau de sobelx: 566.1898959958385\n"
     ]
    }
   ],
   "source": [
    "    index=0\n",
    "    for image in train_imgs:\n",
    "        if(index==10):\n",
    "             break\n",
    "        y= 0\n",
    "        test=False\n",
    "        name=image\n",
    "        original=image\n",
    "        type=\"\"\n",
    "        original=cv.imread(original, cv.IMREAD_COLOR)\n",
    "        transformedImage=original = cv.cvtColor(original, cv.COLOR_BGR2GRAY)\n",
    "        img = cv.GaussianBlur(original,(3,3),3)\n",
    "        laplacian = cv.Laplacian(img,cv.CV_64F)\n",
    "        sobelx = cv.Sobel(img,cv.CV_64F,1,0,ksize=5)\n",
    "        if 'Non_Autistic' in name:\n",
    "            y=0\n",
    "            type=\"Non_Autistic\"\n",
    "        else:\n",
    "            y=1\n",
    "            type=\"Autistic\"\n",
    "        print(f\"L'image de classe : {type}\")\n",
    "        print(f\"le metrique uqi niveau de gray: {rmse(original,transformedImage)}\")\n",
    "        print(f\"le metrique uqi niveau de laplacien: {rmse(original,laplacian)}\")\n",
    "        print(f\"le metrique uqi niveau de sobelx: {rmse(original,sobelx)}\")\n",
    "\n",
    "        index=index+1\n",
    "        \n",
    "        \n",
    "    "
   ]
  },
  {
   "cell_type": "markdown",
   "id": "b0b64443",
   "metadata": {
    "papermill": {
     "duration": 0.008727,
     "end_time": "2022-12-08T22:34:32.691151",
     "exception": false,
     "start_time": "2022-12-08T22:34:32.682424",
     "status": "completed"
    },
    "tags": []
   },
   "source": [
    "## psnr"
   ]
  },
  {
   "cell_type": "code",
   "execution_count": 23,
   "id": "898501a5",
   "metadata": {
    "execution": {
     "iopub.execute_input": "2022-12-08T22:34:32.710076Z",
     "iopub.status.busy": "2022-12-08T22:34:32.709391Z",
     "iopub.status.idle": "2022-12-08T22:34:32.790101Z",
     "shell.execute_reply": "2022-12-08T22:34:32.788641Z"
    },
    "papermill": {
     "duration": 0.092389,
     "end_time": "2022-12-08T22:34:32.792106",
     "exception": false,
     "start_time": "2022-12-08T22:34:32.699717",
     "status": "completed"
    },
    "tags": []
   },
   "outputs": [
    {
     "name": "stdout",
     "output_type": "stream",
     "text": [
      "L'image de classe : Autistic\n",
      "le metrique uqi niveau de gray: inf\n",
      "le metrique uqi niveau de laplacien: 5.494841977209237\n",
      "le metrique uqi niveau de sobelx: -11.621855203137699\n",
      "L'image de classe : Non_Autistic\n",
      "le metrique uqi niveau de gray: inf\n",
      "le metrique uqi niveau de laplacien: 5.07196310402691\n",
      "le metrique uqi niveau de sobelx: -3.426436965809361\n",
      "L'image de classe : Non_Autistic\n",
      "le metrique uqi niveau de gray: inf\n",
      "le metrique uqi niveau de laplacien: 3.5463718311065158\n",
      "le metrique uqi niveau de sobelx: -6.893410757896684\n",
      "L'image de classe : Non_Autistic\n",
      "le metrique uqi niveau de gray: inf\n",
      "le metrique uqi niveau de laplacien: 2.1579466038842723\n",
      "le metrique uqi niveau de sobelx: -5.471694509582134\n",
      "L'image de classe : Autistic\n",
      "le metrique uqi niveau de gray: inf\n",
      "le metrique uqi niveau de laplacien: 3.9065470846031323\n",
      "le metrique uqi niveau de sobelx: -8.243449800080127\n",
      "L'image de classe : Autistic\n",
      "le metrique uqi niveau de gray: inf\n",
      "le metrique uqi niveau de laplacien: 3.7300883092937465\n",
      "le metrique uqi niveau de sobelx: -9.012369292021155\n",
      "L'image de classe : Non_Autistic\n",
      "le metrique uqi niveau de gray: inf\n",
      "le metrique uqi niveau de laplacien: 4.243205801007155\n",
      "le metrique uqi niveau de sobelx: -8.870620595134625\n",
      "L'image de classe : Autistic\n",
      "le metrique uqi niveau de gray: inf\n",
      "le metrique uqi niveau de laplacien: 4.159222737684717\n",
      "le metrique uqi niveau de sobelx: -8.343932976777754\n",
      "L'image de classe : Autistic\n",
      "le metrique uqi niveau de gray: inf\n",
      "le metrique uqi niveau de laplacien: 4.727403281764221\n",
      "le metrique uqi niveau de sobelx: -10.96234349100911\n",
      "L'image de classe : Non_Autistic\n",
      "le metrique uqi niveau de gray: inf\n",
      "le metrique uqi niveau de laplacien: 4.194734330589219\n",
      "le metrique uqi niveau de sobelx: -6.9284386882852536\n"
     ]
    }
   ],
   "source": [
    "    index=0\n",
    "    for image in train_imgs:\n",
    "        if(index==10):\n",
    "             break\n",
    "        y= 0\n",
    "        test=False\n",
    "        name=image\n",
    "        original=image\n",
    "        type=\"\"\n",
    "        original=cv.imread(original, cv.IMREAD_COLOR)\n",
    "        transformedImage=original = cv.cvtColor(original, cv.COLOR_BGR2GRAY)\n",
    "        img = cv.GaussianBlur(original,(3,3),3)\n",
    "        laplacian = cv.Laplacian(img,cv.CV_64F)\n",
    "        sobelx = cv.Sobel(img,cv.CV_64F,1,0,ksize=5)\n",
    "        if 'Non_Autistic' in name:\n",
    "            y=0\n",
    "            type=\"Non_Autistic\"\n",
    "        else:\n",
    "            y=1\n",
    "            type=\"Autistic\"\n",
    "        print(f\"L'image de classe : {type}\")\n",
    "        print(f\"le metrique uqi niveau de gray: {psnr(original,transformedImage)}\")\n",
    "        print(f\"le metrique uqi niveau de laplacien: {psnr(original,laplacian)}\")\n",
    "        print(f\"le metrique uqi niveau de sobelx: {psnr(original,sobelx)}\")\n",
    "\n",
    "        index=index+1\n",
    "        \n",
    "        \n",
    "    "
   ]
  },
  {
   "cell_type": "markdown",
   "id": "38ce3975",
   "metadata": {
    "papermill": {
     "duration": 0.008372,
     "end_time": "2022-12-08T22:34:32.809216",
     "exception": false,
     "start_time": "2022-12-08T22:34:32.800844",
     "status": "completed"
    },
    "tags": []
   },
   "source": [
    "## Modeling \n"
   ]
  },
  {
   "cell_type": "markdown",
   "id": "9656f24c",
   "metadata": {
    "papermill": {
     "duration": 0.008337,
     "end_time": "2022-12-08T22:34:32.826239",
     "exception": false,
     "start_time": "2022-12-08T22:34:32.817902",
     "status": "completed"
    },
    "tags": []
   },
   "source": [
    "### Xgboost with pca"
   ]
  },
  {
   "cell_type": "code",
   "execution_count": 24,
   "id": "9cfd4a72",
   "metadata": {
    "execution": {
     "iopub.execute_input": "2022-12-08T22:34:32.844882Z",
     "iopub.status.busy": "2022-12-08T22:34:32.844079Z",
     "iopub.status.idle": "2022-12-08T22:35:34.092840Z",
     "shell.execute_reply": "2022-12-08T22:35:34.091824Z"
    },
    "papermill": {
     "duration": 61.265588,
     "end_time": "2022-12-08T22:35:34.100316",
     "exception": false,
     "start_time": "2022-12-08T22:34:32.834728",
     "status": "completed"
    },
    "tags": []
   },
   "outputs": [
    {
     "data": {
      "text/plain": [
       "XGBClassifier(base_score=0.5, booster='gbtree', callbacks=None,\n",
       "              colsample_bylevel=1, colsample_bynode=1, colsample_bytree=1,\n",
       "              early_stopping_rounds=None, enable_categorical=False,\n",
       "              eval_metric=None, gamma=0, gpu_id=1, grow_policy='depthwise',\n",
       "              importance_type=None, interaction_constraints='',\n",
       "              learning_rate=0.1, max_bin=256, max_cat_to_onehot=4,\n",
       "              max_delta_step=0, max_depth=6, max_leaves=0, min_child_weight=1,\n",
       "              missing=nan, monotone_constraints='()', n_estimators=700,\n",
       "              n_jobs=0, num_parallel_tree=1, predictor='auto', random_state=0,\n",
       "              reg_alpha=0, reg_lambda=1, ...)"
      ]
     },
     "execution_count": 24,
     "metadata": {},
     "output_type": "execute_result"
    }
   ],
   "source": [
    "from xgboost import XGBClassifier\n",
    "xboost = XGBClassifier(n_estimators = 700, learning_rate = 0.1,gpu_id=1)\n",
    "xboost.fit(x_train_transformed,y_train)\n"
   ]
  },
  {
   "cell_type": "code",
   "execution_count": 25,
   "id": "c3716988",
   "metadata": {
    "execution": {
     "iopub.execute_input": "2022-12-08T22:35:34.119366Z",
     "iopub.status.busy": "2022-12-08T22:35:34.118441Z",
     "iopub.status.idle": "2022-12-08T22:35:34.137550Z",
     "shell.execute_reply": "2022-12-08T22:35:34.136665Z"
    },
    "papermill": {
     "duration": 0.030521,
     "end_time": "2022-12-08T22:35:34.139443",
     "exception": false,
     "start_time": "2022-12-08T22:35:34.108922",
     "status": "completed"
    },
    "tags": []
   },
   "outputs": [
    {
     "name": "stdout",
     "output_type": "stream",
     "text": [
      "[1 0 0 0 1 1 1 0 1 0 0 1 1 0 1 1 0 0 0 1 1 1 0 0 1 1 1 1 1 0 0 1 1 0 1 0 0\n",
      " 1 1 1 0 1 1 1 0 0 1 1 1 0 0 0 1 0 1 0 0 1 0 0 1 0 0 0 0 1 0 1 0 0 1 0 0 1\n",
      " 1 1 1 1 1 1 1 1 1 1 1 1 1 1 1 1 1 1 0 1 1 1 1 1 0 0 0 1 1 0 0 1 1 1 0 1 1\n",
      " 0 0 1 0 1 0 0 1 0 0 0 0 0 1 0 1 1 0 0 0 1 1 1 1 1 1 0 0 0 1 0 0 1 0 0 1 1\n",
      " 1 0 1 0 1 1 0 1 0 0 1 0 1 1 1 1 1 0 0 0 1 0 1 1 0 1 1 1 0 1 1 0 0 1 1 1 0\n",
      " 1 1 1 1 0 0 1 1 0 0 1 1 0 0 0 1 0 1 0 1 1 1 1 0 0 1 1 1 1 1 1 0 1 1 1 0 0\n",
      " 0 1 0 1 0 0 0 0 0 0 1 1 1 1 1 0 0 1 0 1 1 1 0 1 0 1 0 1 0 0 0 0 1 1 0 1 1\n",
      " 1 0 0 0 0 0 1 1 1 1 1 0 0 0 0 0 1 0 1 1 1 1 0 0 0 0 1 0 1 0 0 1 0 1 0 1 1\n",
      " 1 0 0 0]\n",
      "Accuracy == 0.6133333333333333\n",
      "[[85 65]\n",
      " [51 99]]\n"
     ]
    }
   ],
   "source": [
    "from sklearn.metrics import confusion_matrix,accuracy_score\n",
    "y_pred_X =xboost.predict(x_test_transformed)\n",
    "print(y_pred_X)\n",
    "cm_X = confusion_matrix(y_test,y_pred_X)\n",
    "print('Accuracy == {0}'.format(accuracy_score(y_test,y_pred_X)))\n",
    "print(cm_X)"
   ]
  },
  {
   "cell_type": "markdown",
   "id": "fa793fdc",
   "metadata": {
    "papermill": {
     "duration": 0.008733,
     "end_time": "2022-12-08T22:35:34.157687",
     "exception": false,
     "start_time": "2022-12-08T22:35:34.148954",
     "status": "completed"
    },
    "tags": []
   },
   "source": [
    "### KNN with pca"
   ]
  },
  {
   "cell_type": "code",
   "execution_count": 26,
   "id": "142a1ecc",
   "metadata": {
    "execution": {
     "iopub.execute_input": "2022-12-08T22:35:34.176002Z",
     "iopub.status.busy": "2022-12-08T22:35:34.175732Z",
     "iopub.status.idle": "2022-12-08T22:35:34.223432Z",
     "shell.execute_reply": "2022-12-08T22:35:34.222276Z"
    },
    "papermill": {
     "duration": 0.059552,
     "end_time": "2022-12-08T22:35:34.225756",
     "exception": false,
     "start_time": "2022-12-08T22:35:34.166204",
     "status": "completed"
    },
    "tags": []
   },
   "outputs": [
    {
     "data": {
      "text/plain": [
       "KNeighborsClassifier()"
      ]
     },
     "execution_count": 26,
     "metadata": {},
     "output_type": "execute_result"
    }
   ],
   "source": [
    "\n",
    "from sklearn.neighbors import KNeighborsClassifier\n",
    "\n",
    "model = KNeighborsClassifier(n_neighbors=5)\n",
    "\n",
    "# Train the model using the training sets\n",
    "model.fit(x_train_transformed,y_train)\n",
    "\n"
   ]
  },
  {
   "cell_type": "code",
   "execution_count": 27,
   "id": "a999f11d",
   "metadata": {
    "execution": {
     "iopub.execute_input": "2022-12-08T22:35:34.245168Z",
     "iopub.status.busy": "2022-12-08T22:35:34.244903Z",
     "iopub.status.idle": "2022-12-08T22:35:34.298735Z",
     "shell.execute_reply": "2022-12-08T22:35:34.297451Z"
    },
    "papermill": {
     "duration": 0.066996,
     "end_time": "2022-12-08T22:35:34.302072",
     "exception": false,
     "start_time": "2022-12-08T22:35:34.235076",
     "status": "completed"
    },
    "tags": []
   },
   "outputs": [],
   "source": [
    "\n",
    "#Predict Output\n",
    "y_pred_KNN= model.predict(x_test_transformed) \n"
   ]
  },
  {
   "cell_type": "code",
   "execution_count": 28,
   "id": "5fa9cecf",
   "metadata": {
    "execution": {
     "iopub.execute_input": "2022-12-08T22:35:34.351988Z",
     "iopub.status.busy": "2022-12-08T22:35:34.351362Z",
     "iopub.status.idle": "2022-12-08T22:35:34.361323Z",
     "shell.execute_reply": "2022-12-08T22:35:34.359950Z"
    },
    "papermill": {
     "duration": 0.038814,
     "end_time": "2022-12-08T22:35:34.364857",
     "exception": false,
     "start_time": "2022-12-08T22:35:34.326043",
     "status": "completed"
    },
    "tags": []
   },
   "outputs": [
    {
     "name": "stdout",
     "output_type": "stream",
     "text": [
      "Accuracy == 0.5933333333333334\n",
      "[[129  21]\n",
      " [101  49]]\n"
     ]
    }
   ],
   "source": [
    "cm_X = confusion_matrix(y_test,y_pred_KNN)\n",
    "print('Accuracy == {0}'.format(accuracy_score(y_test,y_pred_KNN)))\n",
    "print(cm_X)"
   ]
  }
 ],
 "metadata": {
  "kernelspec": {
   "display_name": "Python 3",
   "language": "python",
   "name": "python3"
  },
  "language_info": {
   "codemirror_mode": {
    "name": "ipython",
    "version": 3
   },
   "file_extension": ".py",
   "mimetype": "text/x-python",
   "name": "python",
   "nbconvert_exporter": "python",
   "pygments_lexer": "ipython3",
   "version": "3.7.12"
  },
  "papermill": {
   "default_parameters": {},
   "duration": 145.144554,
   "end_time": "2022-12-08T22:35:36.980583",
   "environment_variables": {},
   "exception": null,
   "input_path": "__notebook__.ipynb",
   "output_path": "__notebook__.ipynb",
   "parameters": {},
   "start_time": "2022-12-08T22:33:11.836029",
   "version": "2.3.4"
  }
 },
 "nbformat": 4,
 "nbformat_minor": 5
}
