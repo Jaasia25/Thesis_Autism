{
 "cells": [
  {
   "cell_type": "markdown",
   "id": "caring-greece",
   "metadata": {
    "papermill": {
     "duration": 0.044202,
     "end_time": "2022-12-25T15:37:05.047117",
     "exception": false,
     "start_time": "2022-12-25T15:37:05.002915",
     "status": "completed"
    },
    "tags": []
   },
   "source": [
    "## Introduction"
   ]
  },
  {
   "cell_type": "markdown",
   "id": "frozen-delta",
   "metadata": {
    "papermill": {
     "duration": 0.042833,
     "end_time": "2022-12-25T15:37:05.134467",
     "exception": false,
     "start_time": "2022-12-25T15:37:05.091634",
     "status": "completed"
    },
    "tags": []
   },
   "source": [
    "* [Introduction](#1)\n",
    "* [Importing Libraries](#2)\n",
    "* [Data Preprocessing](#3)\n",
    "* [Setting Up Necessary Functions](#4)\n",
    "* [Training The Model](#5)\n",
    "* [Observing the Results](#6)\n",
    "* [Conclusion](#7)"
   ]
  },
  {
   "cell_type": "markdown",
   "id": "sacred-future",
   "metadata": {
    "papermill": {
     "duration": 0.044528,
     "end_time": "2022-12-25T15:37:05.222237",
     "exception": false,
     "start_time": "2022-12-25T15:37:05.177709",
     "status": "completed"
    },
    "tags": []
   },
   "source": [
    "<a id=\"1\"></a><br>\n",
    "## Introduction\n",
    "\n",
    "\n"
   ]
  },
  {
   "cell_type": "markdown",
   "id": "other-antique",
   "metadata": {
    "papermill": {
     "duration": 0.04231,
     "end_time": "2022-12-25T15:37:05.309237",
     "exception": false,
     "start_time": "2022-12-25T15:37:05.266927",
     "status": "completed"
    },
    "tags": []
   },
   "source": [
    "## In this notebook, we try to use the CLIP model of OpenAI to train on image and text data of two different ASD datasets. Then we use that model to predict the tabular data for each image.\n"
   ]
  },
  {
   "cell_type": "markdown",
   "id": "applicable-incentive",
   "metadata": {
    "papermill": {
     "duration": 0.042455,
     "end_time": "2022-12-25T15:37:05.394196",
     "exception": false,
     "start_time": "2022-12-25T15:37:05.351741",
     "status": "completed"
    },
    "tags": []
   },
   "source": [
    "### I kept a lot of explanatory texts in the notebook to explain this simple implementation of the CLIP model."
   ]
  },
  {
   "cell_type": "markdown",
   "id": "ordinary-council",
   "metadata": {
    "papermill": {
     "duration": 0.042636,
     "end_time": "2022-12-25T15:37:05.479147",
     "exception": false,
     "start_time": "2022-12-25T15:37:05.436511",
     "status": "completed"
    },
    "tags": []
   },
   "source": [
    "It was in January of 2021 that **OpenAI** announced two new models: **DALL-E** and **CLIP**, both **multi-modality** models connecting **texts and images** in some way. In this article we are going to implement CLIP model from scratch in **PyTorch**. OpenAI has open-sourced some of the code relating to CLIP model but I found it intimidating and it was far from something short and simple. I also came across a good tutorial inspired by CLIP model on Keras code examples and I translated some parts of it into PyTorch to build this tutorial totally with our beloved PyTorch!"
   ]
  },
  {
   "cell_type": "markdown",
   "id": "reported-functionality",
   "metadata": {
    "papermill": {
     "duration": 0.042409,
     "end_time": "2022-12-25T15:37:05.563984",
     "exception": false,
     "start_time": "2022-12-25T15:37:05.521575",
     "status": "completed"
    },
    "tags": []
   },
   "source": [
    "### What does CLIP do? Why is it fun?"
   ]
  },
  {
   "cell_type": "markdown",
   "id": "manual-phenomenon",
   "metadata": {
    "papermill": {
     "duration": 0.042978,
     "end_time": "2022-12-25T15:37:05.650762",
     "exception": false,
     "start_time": "2022-12-25T15:37:05.607784",
     "status": "completed"
    },
    "tags": []
   },
   "source": [
    "In [Learning Transferable Visual Models From Natural Language Supervision paper](https://arxiv.org/abs/2103.00020), OpenAI introduces their new model which is called **CLIP**, for **Contrastive Language-Image Pre-training**. In a nutshell, this model learns the relationship between a whole sentence and the image it describes; in a sense that when the model is trained, given an input sentence it will be able to retrieve the most related images corresponding to that sentence. The important thing here is that it is trained on full sentences instead of single classes like car, dog, etc. The intuition is that when trained on whole sentences, the model can learn a lot more things and finds some pattern between images and texts.\n",
    "They also show that when this model is trained on a huge dataset of images and their corresponding texts, it can also act as a classifier too. I encourage you to study the paper to learn more about this exciting model and their astonishing results on benchmarking datasets . To mention just one, CLIP model trained with this strategy classifies ImageNet better than those SOTA models trained on the ImageNet itself optimized for the only task of classification!"
   ]
  },
  {
   "cell_type": "markdown",
   "id": "experienced-cutting",
   "metadata": {
    "papermill": {
     "duration": 0.046322,
     "end_time": "2022-12-25T15:37:05.742958",
     "exception": false,
     "start_time": "2022-12-25T15:37:05.696636",
     "status": "completed"
    },
    "tags": []
   },
   "source": [
    "<a id=\"2\"></a><br>\n",
    "## Importing Libraries"
   ]
  },
  {
   "cell_type": "code",
   "execution_count": 1,
   "id": "curious-stevens",
   "metadata": {
    "_kg_hide-input": true,
    "execution": {
     "iopub.execute_input": "2022-12-25T15:37:05.843030Z",
     "iopub.status.busy": "2022-12-25T15:37:05.842474Z",
     "iopub.status.idle": "2022-12-25T15:37:13.989066Z",
     "shell.execute_reply": "2022-12-25T15:37:13.988002Z"
    },
    "papermill": {
     "duration": 8.197352,
     "end_time": "2022-12-25T15:37:13.989316",
     "exception": false,
     "start_time": "2022-12-25T15:37:05.791964",
     "status": "completed"
    },
    "tags": []
   },
   "outputs": [
    {
     "name": "stdout",
     "output_type": "stream",
     "text": [
      "Collecting timm\r\n",
      "  Downloading timm-0.6.12-py3-none-any.whl (549 kB)\r\n",
      "\u001b[K     |████████████████████████████████| 549 kB 4.3 MB/s \r\n",
      "\u001b[?25hRequirement already satisfied: pyyaml in /opt/conda/lib/python3.7/site-packages (from timm) (5.3.1)\r\n",
      "Collecting huggingface-hub\r\n",
      "  Downloading huggingface_hub-0.11.1-py3-none-any.whl (182 kB)\r\n",
      "\u001b[K     |████████████████████████████████| 182 kB 57.2 MB/s \r\n",
      "\u001b[?25hRequirement already satisfied: torch>=1.7 in /opt/conda/lib/python3.7/site-packages (from timm) (1.7.0)\r\n",
      "Requirement already satisfied: torchvision in /opt/conda/lib/python3.7/site-packages (from timm) (0.8.1)\r\n",
      "Requirement already satisfied: future in /opt/conda/lib/python3.7/site-packages (from torch>=1.7->timm) (0.18.2)\r\n",
      "Requirement already satisfied: typing_extensions in /opt/conda/lib/python3.7/site-packages (from torch>=1.7->timm) (3.7.4.3)\r\n",
      "Requirement already satisfied: dataclasses in /opt/conda/lib/python3.7/site-packages (from torch>=1.7->timm) (0.6)\r\n",
      "Requirement already satisfied: numpy in /opt/conda/lib/python3.7/site-packages (from torch>=1.7->timm) (1.19.5)\r\n",
      "Requirement already satisfied: tqdm in /opt/conda/lib/python3.7/site-packages (from huggingface-hub->timm) (4.56.2)\r\n",
      "Requirement already satisfied: packaging>=20.9 in /opt/conda/lib/python3.7/site-packages (from huggingface-hub->timm) (20.9)\r\n",
      "Requirement already satisfied: requests in /opt/conda/lib/python3.7/site-packages (from huggingface-hub->timm) (2.25.1)\r\n",
      "Requirement already satisfied: importlib-metadata in /opt/conda/lib/python3.7/site-packages (from huggingface-hub->timm) (3.4.0)\r\n",
      "Requirement already satisfied: filelock in /opt/conda/lib/python3.7/site-packages (from huggingface-hub->timm) (3.0.12)\r\n",
      "Requirement already satisfied: pyparsing>=2.0.2 in /opt/conda/lib/python3.7/site-packages (from packaging>=20.9->huggingface-hub->timm) (2.4.7)\r\n",
      "Requirement already satisfied: zipp>=0.5 in /opt/conda/lib/python3.7/site-packages (from importlib-metadata->huggingface-hub->timm) (3.4.0)\r\n",
      "Requirement already satisfied: idna<3,>=2.5 in /opt/conda/lib/python3.7/site-packages (from requests->huggingface-hub->timm) (2.10)\r\n",
      "Requirement already satisfied: certifi>=2017.4.17 in /opt/conda/lib/python3.7/site-packages (from requests->huggingface-hub->timm) (2020.12.5)\r\n",
      "Requirement already satisfied: chardet<5,>=3.0.2 in /opt/conda/lib/python3.7/site-packages (from requests->huggingface-hub->timm) (3.0.4)\r\n",
      "Requirement already satisfied: urllib3<1.27,>=1.21.1 in /opt/conda/lib/python3.7/site-packages (from requests->huggingface-hub->timm) (1.26.3)\r\n",
      "Requirement already satisfied: pillow>=4.1.1 in /opt/conda/lib/python3.7/site-packages (from torchvision->timm) (7.2.0)\r\n",
      "Installing collected packages: huggingface-hub, timm\r\n",
      "Successfully installed huggingface-hub-0.11.1 timm-0.6.12\r\n"
     ]
    }
   ],
   "source": [
    "!pip install timm"
   ]
  },
  {
   "cell_type": "code",
   "execution_count": null,
   "id": "compliant-contrary",
   "metadata": {
    "papermill": {
     "duration": 0.066467,
     "end_time": "2022-12-25T15:37:14.122953",
     "exception": false,
     "start_time": "2022-12-25T15:37:14.056486",
     "status": "completed"
    },
    "tags": []
   },
   "outputs": [],
   "source": []
  },
  {
   "cell_type": "code",
   "execution_count": 2,
   "id": "derived-buyer",
   "metadata": {
    "execution": {
     "iopub.execute_input": "2022-12-25T15:37:14.272199Z",
     "iopub.status.busy": "2022-12-25T15:37:14.271339Z",
     "iopub.status.idle": "2022-12-25T15:37:18.849453Z",
     "shell.execute_reply": "2022-12-25T15:37:18.848862Z"
    },
    "papermill": {
     "duration": 4.662265,
     "end_time": "2022-12-25T15:37:18.849604",
     "exception": false,
     "start_time": "2022-12-25T15:37:14.187339",
     "status": "completed"
    },
    "tags": []
   },
   "outputs": [
    {
     "name": "stderr",
     "output_type": "stream",
     "text": [
      "/opt/conda/lib/python3.7/site-packages/ipykernel_launcher.py:7: TqdmExperimentalWarning: Using `tqdm.autonotebook.tqdm` in notebook mode. Use `tqdm.tqdm` instead to force console mode (e.g. in jupyter console)\n",
      "  import sys\n"
     ]
    }
   ],
   "source": [
    "import os\n",
    "import cv2\n",
    "import gc\n",
    "import numpy as np\n",
    "import pandas as pd\n",
    "import itertools\n",
    "from tqdm.autonotebook import tqdm\n",
    "import albumentations as A\n",
    "import matplotlib.pyplot as plt\n",
    "\n",
    "import torch\n",
    "from torch import nn\n",
    "import torch.nn.functional as F\n",
    "import timm\n",
    "from transformers import DistilBertModel, DistilBertConfig, DistilBertTokenizer"
   ]
  },
  {
   "cell_type": "code",
   "execution_count": 3,
   "id": "outstanding-separate",
   "metadata": {
    "execution": {
     "iopub.execute_input": "2022-12-25T15:37:18.950503Z",
     "iopub.status.busy": "2022-12-25T15:37:18.949905Z",
     "iopub.status.idle": "2022-12-25T15:37:18.988405Z",
     "shell.execute_reply": "2022-12-25T15:37:18.988789Z"
    },
    "papermill": {
     "duration": 0.091614,
     "end_time": "2022-12-25T15:37:18.988941",
     "exception": false,
     "start_time": "2022-12-25T15:37:18.897327",
     "status": "completed"
    },
    "tags": []
   },
   "outputs": [
    {
     "data": {
      "text/html": [
       "<div>\n",
       "<style scoped>\n",
       "    .dataframe tbody tr th:only-of-type {\n",
       "        vertical-align: middle;\n",
       "    }\n",
       "\n",
       "    .dataframe tbody tr th {\n",
       "        vertical-align: top;\n",
       "    }\n",
       "\n",
       "    .dataframe thead th {\n",
       "        text-align: right;\n",
       "    }\n",
       "</style>\n",
       "<table border=\"1\" class=\"dataframe\">\n",
       "  <thead>\n",
       "    <tr style=\"text-align: right;\">\n",
       "      <th></th>\n",
       "      <th>Case_No</th>\n",
       "      <th>A1</th>\n",
       "      <th>A2</th>\n",
       "      <th>A3</th>\n",
       "      <th>A4</th>\n",
       "      <th>A5</th>\n",
       "      <th>A6</th>\n",
       "      <th>A7</th>\n",
       "      <th>A8</th>\n",
       "      <th>A9</th>\n",
       "      <th>A10</th>\n",
       "      <th>Age_Mons</th>\n",
       "      <th>Qchat-10-Score</th>\n",
       "      <th>Sex</th>\n",
       "      <th>Ethnicity</th>\n",
       "      <th>Jaundice</th>\n",
       "      <th>Family_mem_with_ASD</th>\n",
       "      <th>Who completed the test</th>\n",
       "      <th>Class/ASD Traits</th>\n",
       "    </tr>\n",
       "  </thead>\n",
       "  <tbody>\n",
       "    <tr>\n",
       "      <th>0</th>\n",
       "      <td>1</td>\n",
       "      <td>0</td>\n",
       "      <td>0</td>\n",
       "      <td>0</td>\n",
       "      <td>0</td>\n",
       "      <td>0</td>\n",
       "      <td>0</td>\n",
       "      <td>1</td>\n",
       "      <td>1</td>\n",
       "      <td>0</td>\n",
       "      <td>1</td>\n",
       "      <td>28</td>\n",
       "      <td>3</td>\n",
       "      <td>f</td>\n",
       "      <td>middle eastern</td>\n",
       "      <td>yes</td>\n",
       "      <td>no</td>\n",
       "      <td>family member</td>\n",
       "      <td>No</td>\n",
       "    </tr>\n",
       "    <tr>\n",
       "      <th>1</th>\n",
       "      <td>2</td>\n",
       "      <td>1</td>\n",
       "      <td>1</td>\n",
       "      <td>0</td>\n",
       "      <td>0</td>\n",
       "      <td>0</td>\n",
       "      <td>1</td>\n",
       "      <td>1</td>\n",
       "      <td>0</td>\n",
       "      <td>0</td>\n",
       "      <td>0</td>\n",
       "      <td>36</td>\n",
       "      <td>4</td>\n",
       "      <td>m</td>\n",
       "      <td>White European</td>\n",
       "      <td>yes</td>\n",
       "      <td>no</td>\n",
       "      <td>family member</td>\n",
       "      <td>Yes</td>\n",
       "    </tr>\n",
       "    <tr>\n",
       "      <th>2</th>\n",
       "      <td>3</td>\n",
       "      <td>1</td>\n",
       "      <td>0</td>\n",
       "      <td>0</td>\n",
       "      <td>0</td>\n",
       "      <td>0</td>\n",
       "      <td>0</td>\n",
       "      <td>1</td>\n",
       "      <td>1</td>\n",
       "      <td>0</td>\n",
       "      <td>1</td>\n",
       "      <td>36</td>\n",
       "      <td>4</td>\n",
       "      <td>m</td>\n",
       "      <td>middle eastern</td>\n",
       "      <td>yes</td>\n",
       "      <td>no</td>\n",
       "      <td>family member</td>\n",
       "      <td>Yes</td>\n",
       "    </tr>\n",
       "    <tr>\n",
       "      <th>3</th>\n",
       "      <td>4</td>\n",
       "      <td>1</td>\n",
       "      <td>1</td>\n",
       "      <td>1</td>\n",
       "      <td>1</td>\n",
       "      <td>1</td>\n",
       "      <td>1</td>\n",
       "      <td>1</td>\n",
       "      <td>1</td>\n",
       "      <td>1</td>\n",
       "      <td>1</td>\n",
       "      <td>24</td>\n",
       "      <td>10</td>\n",
       "      <td>m</td>\n",
       "      <td>Hispanic</td>\n",
       "      <td>no</td>\n",
       "      <td>no</td>\n",
       "      <td>family member</td>\n",
       "      <td>Yes</td>\n",
       "    </tr>\n",
       "    <tr>\n",
       "      <th>4</th>\n",
       "      <td>5</td>\n",
       "      <td>1</td>\n",
       "      <td>1</td>\n",
       "      <td>0</td>\n",
       "      <td>1</td>\n",
       "      <td>1</td>\n",
       "      <td>1</td>\n",
       "      <td>1</td>\n",
       "      <td>1</td>\n",
       "      <td>1</td>\n",
       "      <td>1</td>\n",
       "      <td>20</td>\n",
       "      <td>9</td>\n",
       "      <td>f</td>\n",
       "      <td>White European</td>\n",
       "      <td>no</td>\n",
       "      <td>yes</td>\n",
       "      <td>family member</td>\n",
       "      <td>Yes</td>\n",
       "    </tr>\n",
       "  </tbody>\n",
       "</table>\n",
       "</div>"
      ],
      "text/plain": [
       "   Case_No  A1  A2  A3  A4  A5  A6  A7  A8  A9  A10  Age_Mons  Qchat-10-Score  \\\n",
       "0        1   0   0   0   0   0   0   1   1   0    1        28               3   \n",
       "1        2   1   1   0   0   0   1   1   0   0    0        36               4   \n",
       "2        3   1   0   0   0   0   0   1   1   0    1        36               4   \n",
       "3        4   1   1   1   1   1   1   1   1   1    1        24              10   \n",
       "4        5   1   1   0   1   1   1   1   1   1    1        20               9   \n",
       "\n",
       "  Sex       Ethnicity Jaundice Family_mem_with_ASD Who completed the test  \\\n",
       "0   f  middle eastern      yes                  no          family member   \n",
       "1   m  White European      yes                  no          family member   \n",
       "2   m  middle eastern      yes                  no          family member   \n",
       "3   m        Hispanic       no                  no          family member   \n",
       "4   f  White European       no                 yes          family member   \n",
       "\n",
       "  Class/ASD Traits   \n",
       "0                No  \n",
       "1               Yes  \n",
       "2               Yes  \n",
       "3               Yes  \n",
       "4               Yes  "
      ]
     },
     "execution_count": 3,
     "metadata": {},
     "output_type": "execute_result"
    }
   ],
   "source": [
    "table_df = pd.read_csv(\"/kaggle/input/autism-screening-for-toddlers/Toddler Autism dataset July 2018.csv\")\n",
    "table_df.head()"
   ]
  },
  {
   "cell_type": "code",
   "execution_count": 4,
   "id": "respected-raleigh",
   "metadata": {
    "execution": {
     "iopub.execute_input": "2022-12-25T15:37:19.085886Z",
     "iopub.status.busy": "2022-12-25T15:37:19.084975Z",
     "iopub.status.idle": "2022-12-25T15:37:19.088781Z",
     "shell.execute_reply": "2022-12-25T15:37:19.089322Z"
    },
    "papermill": {
     "duration": 0.054447,
     "end_time": "2022-12-25T15:37:19.089462",
     "exception": false,
     "start_time": "2022-12-25T15:37:19.035015",
     "status": "completed"
    },
    "tags": []
   },
   "outputs": [
    {
     "data": {
      "text/plain": [
       "(1054, 19)"
      ]
     },
     "execution_count": 4,
     "metadata": {},
     "output_type": "execute_result"
    }
   ],
   "source": [
    "table_df.shape"
   ]
  },
  {
   "cell_type": "markdown",
   "id": "hollywood-walker",
   "metadata": {
    "papermill": {
     "duration": 0.046775,
     "end_time": "2022-12-25T15:37:19.182845",
     "exception": false,
     "start_time": "2022-12-25T15:37:19.136070",
     "status": "completed"
    },
    "tags": []
   },
   "source": [
    "<a id=\"3\"></a><br>\n",
    "## Data Preprocessing"
   ]
  },
  {
   "cell_type": "markdown",
   "id": "celtic-machine",
   "metadata": {
    "papermill": {
     "duration": 0.046309,
     "end_time": "2022-12-25T15:37:19.276276",
     "exception": false,
     "start_time": "2022-12-25T15:37:19.229967",
     "status": "completed"
    },
    "tags": []
   },
   "source": [
    "One-hot encoding the class data."
   ]
  },
  {
   "cell_type": "code",
   "execution_count": 5,
   "id": "sunrise-tennessee",
   "metadata": {
    "execution": {
     "iopub.execute_input": "2022-12-25T15:37:19.377149Z",
     "iopub.status.busy": "2022-12-25T15:37:19.376414Z",
     "iopub.status.idle": "2022-12-25T15:37:19.379347Z",
     "shell.execute_reply": "2022-12-25T15:37:19.378887Z"
    },
    "papermill": {
     "duration": 0.056165,
     "end_time": "2022-12-25T15:37:19.379470",
     "exception": false,
     "start_time": "2022-12-25T15:37:19.323305",
     "status": "completed"
    },
    "tags": []
   },
   "outputs": [],
   "source": [
    "table_df.loc[table_df['Class/ASD Traits '] == 'Yes', 'Class/ASD Traits '] = 1\n",
    "table_df.loc[table_df['Class/ASD Traits '] == 'No', 'Class/ASD Traits '] = 0"
   ]
  },
  {
   "cell_type": "code",
   "execution_count": 6,
   "id": "surprised-tract",
   "metadata": {
    "execution": {
     "iopub.execute_input": "2022-12-25T15:37:19.489787Z",
     "iopub.status.busy": "2022-12-25T15:37:19.488877Z",
     "iopub.status.idle": "2022-12-25T15:37:19.492520Z",
     "shell.execute_reply": "2022-12-25T15:37:19.492974Z"
    },
    "papermill": {
     "duration": 0.065852,
     "end_time": "2022-12-25T15:37:19.493111",
     "exception": false,
     "start_time": "2022-12-25T15:37:19.427259",
     "status": "completed"
    },
    "tags": []
   },
   "outputs": [
    {
     "data": {
      "text/html": [
       "<div>\n",
       "<style scoped>\n",
       "    .dataframe tbody tr th:only-of-type {\n",
       "        vertical-align: middle;\n",
       "    }\n",
       "\n",
       "    .dataframe tbody tr th {\n",
       "        vertical-align: top;\n",
       "    }\n",
       "\n",
       "    .dataframe thead th {\n",
       "        text-align: right;\n",
       "    }\n",
       "</style>\n",
       "<table border=\"1\" class=\"dataframe\">\n",
       "  <thead>\n",
       "    <tr style=\"text-align: right;\">\n",
       "      <th></th>\n",
       "      <th>Case_No</th>\n",
       "      <th>A1</th>\n",
       "      <th>A2</th>\n",
       "      <th>A3</th>\n",
       "      <th>A4</th>\n",
       "      <th>A5</th>\n",
       "      <th>A6</th>\n",
       "      <th>A7</th>\n",
       "      <th>A8</th>\n",
       "      <th>A9</th>\n",
       "      <th>A10</th>\n",
       "      <th>Age_Mons</th>\n",
       "      <th>Qchat-10-Score</th>\n",
       "      <th>Sex</th>\n",
       "      <th>Ethnicity</th>\n",
       "      <th>Jaundice</th>\n",
       "      <th>Family_mem_with_ASD</th>\n",
       "      <th>Who completed the test</th>\n",
       "      <th>Class/ASD Traits</th>\n",
       "    </tr>\n",
       "  </thead>\n",
       "  <tbody>\n",
       "    <tr>\n",
       "      <th>0</th>\n",
       "      <td>1</td>\n",
       "      <td>0</td>\n",
       "      <td>0</td>\n",
       "      <td>0</td>\n",
       "      <td>0</td>\n",
       "      <td>0</td>\n",
       "      <td>0</td>\n",
       "      <td>1</td>\n",
       "      <td>1</td>\n",
       "      <td>0</td>\n",
       "      <td>1</td>\n",
       "      <td>28</td>\n",
       "      <td>3</td>\n",
       "      <td>f</td>\n",
       "      <td>middle eastern</td>\n",
       "      <td>yes</td>\n",
       "      <td>no</td>\n",
       "      <td>family member</td>\n",
       "      <td>0</td>\n",
       "    </tr>\n",
       "    <tr>\n",
       "      <th>1</th>\n",
       "      <td>2</td>\n",
       "      <td>1</td>\n",
       "      <td>1</td>\n",
       "      <td>0</td>\n",
       "      <td>0</td>\n",
       "      <td>0</td>\n",
       "      <td>1</td>\n",
       "      <td>1</td>\n",
       "      <td>0</td>\n",
       "      <td>0</td>\n",
       "      <td>0</td>\n",
       "      <td>36</td>\n",
       "      <td>4</td>\n",
       "      <td>m</td>\n",
       "      <td>White European</td>\n",
       "      <td>yes</td>\n",
       "      <td>no</td>\n",
       "      <td>family member</td>\n",
       "      <td>1</td>\n",
       "    </tr>\n",
       "    <tr>\n",
       "      <th>2</th>\n",
       "      <td>3</td>\n",
       "      <td>1</td>\n",
       "      <td>0</td>\n",
       "      <td>0</td>\n",
       "      <td>0</td>\n",
       "      <td>0</td>\n",
       "      <td>0</td>\n",
       "      <td>1</td>\n",
       "      <td>1</td>\n",
       "      <td>0</td>\n",
       "      <td>1</td>\n",
       "      <td>36</td>\n",
       "      <td>4</td>\n",
       "      <td>m</td>\n",
       "      <td>middle eastern</td>\n",
       "      <td>yes</td>\n",
       "      <td>no</td>\n",
       "      <td>family member</td>\n",
       "      <td>1</td>\n",
       "    </tr>\n",
       "    <tr>\n",
       "      <th>3</th>\n",
       "      <td>4</td>\n",
       "      <td>1</td>\n",
       "      <td>1</td>\n",
       "      <td>1</td>\n",
       "      <td>1</td>\n",
       "      <td>1</td>\n",
       "      <td>1</td>\n",
       "      <td>1</td>\n",
       "      <td>1</td>\n",
       "      <td>1</td>\n",
       "      <td>1</td>\n",
       "      <td>24</td>\n",
       "      <td>10</td>\n",
       "      <td>m</td>\n",
       "      <td>Hispanic</td>\n",
       "      <td>no</td>\n",
       "      <td>no</td>\n",
       "      <td>family member</td>\n",
       "      <td>1</td>\n",
       "    </tr>\n",
       "    <tr>\n",
       "      <th>4</th>\n",
       "      <td>5</td>\n",
       "      <td>1</td>\n",
       "      <td>1</td>\n",
       "      <td>0</td>\n",
       "      <td>1</td>\n",
       "      <td>1</td>\n",
       "      <td>1</td>\n",
       "      <td>1</td>\n",
       "      <td>1</td>\n",
       "      <td>1</td>\n",
       "      <td>1</td>\n",
       "      <td>20</td>\n",
       "      <td>9</td>\n",
       "      <td>f</td>\n",
       "      <td>White European</td>\n",
       "      <td>no</td>\n",
       "      <td>yes</td>\n",
       "      <td>family member</td>\n",
       "      <td>1</td>\n",
       "    </tr>\n",
       "  </tbody>\n",
       "</table>\n",
       "</div>"
      ],
      "text/plain": [
       "   Case_No  A1  A2  A3  A4  A5  A6  A7  A8  A9  A10  Age_Mons  Qchat-10-Score  \\\n",
       "0        1   0   0   0   0   0   0   1   1   0    1        28               3   \n",
       "1        2   1   1   0   0   0   1   1   0   0    0        36               4   \n",
       "2        3   1   0   0   0   0   0   1   1   0    1        36               4   \n",
       "3        4   1   1   1   1   1   1   1   1   1    1        24              10   \n",
       "4        5   1   1   0   1   1   1   1   1   1    1        20               9   \n",
       "\n",
       "  Sex       Ethnicity Jaundice Family_mem_with_ASD Who completed the test  \\\n",
       "0   f  middle eastern      yes                  no          family member   \n",
       "1   m  White European      yes                  no          family member   \n",
       "2   m  middle eastern      yes                  no          family member   \n",
       "3   m        Hispanic       no                  no          family member   \n",
       "4   f  White European       no                 yes          family member   \n",
       "\n",
       "  Class/ASD Traits   \n",
       "0                 0  \n",
       "1                 1  \n",
       "2                 1  \n",
       "3                 1  \n",
       "4                 1  "
      ]
     },
     "execution_count": 6,
     "metadata": {},
     "output_type": "execute_result"
    }
   ],
   "source": [
    "table_df.head()"
   ]
  },
  {
   "cell_type": "code",
   "execution_count": 7,
   "id": "tutorial-disney",
   "metadata": {
    "execution": {
     "iopub.execute_input": "2022-12-25T15:37:19.598469Z",
     "iopub.status.busy": "2022-12-25T15:37:19.597327Z",
     "iopub.status.idle": "2022-12-25T15:37:19.602934Z",
     "shell.execute_reply": "2022-12-25T15:37:19.603546Z"
    },
    "papermill": {
     "duration": 0.060401,
     "end_time": "2022-12-25T15:37:19.603781",
     "exception": false,
     "start_time": "2022-12-25T15:37:19.543380",
     "status": "completed"
    },
    "tags": []
   },
   "outputs": [
    {
     "name": "stdout",
     "output_type": "stream",
     "text": [
      "(728, 19)\n"
     ]
    },
    {
     "data": {
      "text/plain": [
       "(326, 19)"
      ]
     },
     "execution_count": 7,
     "metadata": {},
     "output_type": "execute_result"
    }
   ],
   "source": [
    "table_df_1 = table_df[table_df['Class/ASD Traits '] == 1]\n",
    "table_df_0 = table_df[table_df['Class/ASD Traits '] == 0]\n",
    "print(table_df_1.shape)\n",
    "table_df_0.shape"
   ]
  },
  {
   "cell_type": "markdown",
   "id": "fresh-findings",
   "metadata": {
    "papermill": {
     "duration": 0.047863,
     "end_time": "2022-12-25T15:37:19.699670",
     "exception": false,
     "start_time": "2022-12-25T15:37:19.651807",
     "status": "completed"
    },
    "tags": []
   },
   "source": [
    "#### Dropping class labels and case_no as we don't want our model to know the labels."
   ]
  },
  {
   "cell_type": "code",
   "execution_count": 8,
   "id": "tested-brook",
   "metadata": {
    "execution": {
     "iopub.execute_input": "2022-12-25T15:37:19.803327Z",
     "iopub.status.busy": "2022-12-25T15:37:19.802509Z",
     "iopub.status.idle": "2022-12-25T15:37:19.805454Z",
     "shell.execute_reply": "2022-12-25T15:37:19.804899Z"
    },
    "papermill": {
     "duration": 0.058699,
     "end_time": "2022-12-25T15:37:19.805604",
     "exception": false,
     "start_time": "2022-12-25T15:37:19.746905",
     "status": "completed"
    },
    "tags": []
   },
   "outputs": [],
   "source": [
    "table_df_1 = table_df_1.drop('Case_No', axis=1)\n",
    "table_df_1 = table_df_1.drop('Class/ASD Traits ', axis=1)"
   ]
  },
  {
   "cell_type": "code",
   "execution_count": 9,
   "id": "distributed-metallic",
   "metadata": {
    "execution": {
     "iopub.execute_input": "2022-12-25T15:37:19.906621Z",
     "iopub.status.busy": "2022-12-25T15:37:19.905714Z",
     "iopub.status.idle": "2022-12-25T15:37:19.910063Z",
     "shell.execute_reply": "2022-12-25T15:37:19.909598Z"
    },
    "papermill": {
     "duration": 0.056409,
     "end_time": "2022-12-25T15:37:19.910192",
     "exception": false,
     "start_time": "2022-12-25T15:37:19.853783",
     "status": "completed"
    },
    "tags": []
   },
   "outputs": [
    {
     "data": {
      "text/plain": [
       "Index(['A1', 'A2', 'A3', 'A4', 'A5', 'A6', 'A7', 'A8', 'A9', 'A10', 'Age_Mons',\n",
       "       'Qchat-10-Score', 'Sex', 'Ethnicity', 'Jaundice', 'Family_mem_with_ASD',\n",
       "       'Who completed the test'],\n",
       "      dtype='object')"
      ]
     },
     "execution_count": 9,
     "metadata": {},
     "output_type": "execute_result"
    }
   ],
   "source": [
    "table_df_1.columns"
   ]
  },
  {
   "cell_type": "code",
   "execution_count": 10,
   "id": "traditional-focus",
   "metadata": {
    "execution": {
     "iopub.execute_input": "2022-12-25T15:37:20.013323Z",
     "iopub.status.busy": "2022-12-25T15:37:20.012753Z",
     "iopub.status.idle": "2022-12-25T15:37:20.017831Z",
     "shell.execute_reply": "2022-12-25T15:37:20.017418Z"
    },
    "papermill": {
     "duration": 0.059886,
     "end_time": "2022-12-25T15:37:20.017944",
     "exception": false,
     "start_time": "2022-12-25T15:37:19.958058",
     "status": "completed"
    },
    "tags": []
   },
   "outputs": [
    {
     "data": {
      "text/plain": [
       "Index(['A1', 'A2', 'A3', 'A4', 'A5', 'A6', 'A7', 'A8', 'A9', 'A10', 'Age_Mons',\n",
       "       'Qchat-10-Score', 'Sex', 'Ethnicity', 'Jaundice', 'Family_mem_with_ASD',\n",
       "       'Who completed the test'],\n",
       "      dtype='object')"
      ]
     },
     "execution_count": 10,
     "metadata": {},
     "output_type": "execute_result"
    }
   ],
   "source": [
    "table_df_0 = table_df_0.drop('Case_No', axis=1)\n",
    "table_df_0 = table_df_0.drop('Class/ASD Traits ', axis=1)\n",
    "table_df_0.columns"
   ]
  },
  {
   "cell_type": "code",
   "execution_count": 11,
   "id": "looking-paris",
   "metadata": {
    "execution": {
     "iopub.execute_input": "2022-12-25T15:37:20.119159Z",
     "iopub.status.busy": "2022-12-25T15:37:20.118451Z",
     "iopub.status.idle": "2022-12-25T15:37:20.122213Z",
     "shell.execute_reply": "2022-12-25T15:37:20.122746Z"
    },
    "papermill": {
     "duration": 0.056784,
     "end_time": "2022-12-25T15:37:20.122932",
     "exception": false,
     "start_time": "2022-12-25T15:37:20.066148",
     "status": "completed"
    },
    "tags": []
   },
   "outputs": [
    {
     "name": "stdout",
     "output_type": "stream",
     "text": [
      "(326, 17) (728, 17)\n"
     ]
    }
   ],
   "source": [
    "print(table_df_0.shape, table_df_1.shape)"
   ]
  },
  {
   "cell_type": "markdown",
   "id": "molecular-locking",
   "metadata": {
    "papermill": {
     "duration": 0.048222,
     "end_time": "2022-12-25T15:37:20.221297",
     "exception": false,
     "start_time": "2022-12-25T15:37:20.173075",
     "status": "completed"
    },
    "tags": []
   },
   "source": [
    "### Converting the tabular data's rows into strings"
   ]
  },
  {
   "cell_type": "code",
   "execution_count": 12,
   "id": "individual-insulation",
   "metadata": {
    "execution": {
     "iopub.execute_input": "2022-12-25T15:37:20.342272Z",
     "iopub.status.busy": "2022-12-25T15:37:20.341467Z",
     "iopub.status.idle": "2022-12-25T15:37:20.411617Z",
     "shell.execute_reply": "2022-12-25T15:37:20.411064Z"
    },
    "papermill": {
     "duration": 0.14172,
     "end_time": "2022-12-25T15:37:20.411747",
     "exception": false,
     "start_time": "2022-12-25T15:37:20.270027",
     "status": "completed"
    },
    "tags": []
   },
   "outputs": [],
   "source": [
    "x = table_df_1.to_string(header=False,\n",
    "                  index=False,\n",
    "                  index_names=False).split('\\n')\n",
    "vals_1 = [' '.join(ele.split()) for ele in x]\n",
    "\n",
    "x = table_df_0.to_string(header=False,\n",
    "                  index=False,\n",
    "                  index_names=False).split('\\n')\n",
    "vals_0 = [' '.join(ele.split()) for ele in x]\n",
    "# print(vals)"
   ]
  },
  {
   "cell_type": "code",
   "execution_count": 13,
   "id": "painted-serial",
   "metadata": {
    "execution": {
     "iopub.execute_input": "2022-12-25T15:37:20.538286Z",
     "iopub.status.busy": "2022-12-25T15:37:20.534540Z",
     "iopub.status.idle": "2022-12-25T15:37:20.556569Z",
     "shell.execute_reply": "2022-12-25T15:37:20.560267Z"
    },
    "papermill": {
     "duration": 0.096334,
     "end_time": "2022-12-25T15:37:20.560680",
     "exception": false,
     "start_time": "2022-12-25T15:37:20.464346",
     "status": "completed"
    },
    "tags": []
   },
   "outputs": [
    {
     "name": "stdout",
     "output_type": "stream",
     "text": [
      "728 326\n"
     ]
    }
   ],
   "source": [
    "print(len(vals_1),len(vals_0))"
   ]
  },
  {
   "cell_type": "code",
   "execution_count": 14,
   "id": "balanced-campbell",
   "metadata": {
    "execution": {
     "iopub.execute_input": "2022-12-25T15:37:20.827368Z",
     "iopub.status.busy": "2022-12-25T15:37:20.826328Z",
     "iopub.status.idle": "2022-12-25T15:37:20.832547Z",
     "shell.execute_reply": "2022-12-25T15:37:20.833358Z"
    },
    "papermill": {
     "duration": 0.112149,
     "end_time": "2022-12-25T15:37:20.833569",
     "exception": false,
     "start_time": "2022-12-25T15:37:20.721420",
     "status": "completed"
    },
    "tags": []
   },
   "outputs": [
    {
     "name": "stdout",
     "output_type": "stream",
     "text": [
      "(728, 1) (326, 1)\n"
     ]
    }
   ],
   "source": [
    "toddler_df_1 = pd.DataFrame(vals_1)\n",
    "toddler_df_0 = pd.DataFrame(vals_0)\n",
    "print(toddler_df_1.shape, toddler_df_0.shape)"
   ]
  },
  {
   "cell_type": "code",
   "execution_count": 15,
   "id": "consistent-evening",
   "metadata": {
    "execution": {
     "iopub.execute_input": "2022-12-25T15:37:21.026841Z",
     "iopub.status.busy": "2022-12-25T15:37:21.024595Z",
     "iopub.status.idle": "2022-12-25T15:37:21.031221Z",
     "shell.execute_reply": "2022-12-25T15:37:21.031803Z"
    },
    "papermill": {
     "duration": 0.099777,
     "end_time": "2022-12-25T15:37:21.032017",
     "exception": false,
     "start_time": "2022-12-25T15:37:20.932240",
     "status": "completed"
    },
    "tags": []
   },
   "outputs": [
    {
     "name": "stdout",
     "output_type": "stream",
     "text": [
      "                                                   0\n",
      "0  1 1 0 0 0 1 1 0 0 0 36 4 m White European yes ...\n",
      "1  1 0 0 0 0 0 1 1 0 1 36 4 m middle eastern yes ...\n",
      "2  1 1 1 1 1 1 1 1 1 1 24 10 m Hispanic no no fam...\n",
      "3  1 1 0 1 1 1 1 1 1 1 20 9 f White European no y...\n",
      "4  1 1 0 0 1 1 1 1 1 1 21 8 m black no no family ...                                                    0\n",
      "0  0 0 0 0 0 0 1 1 0 1 28 3 f middle eastern yes ...\n",
      "1  0 0 0 0 0 0 1 0 0 1 36 2 m asian no no family ...\n",
      "2  0 0 0 0 0 0 0 0 0 0 25 0 f middle eastern yes ...\n",
      "3  0 0 0 0 0 0 0 0 0 0 18 0 m middle eastern no n...\n",
      "4  0 0 0 0 0 0 0 0 0 0 36 0 m middle eastern no y...\n"
     ]
    }
   ],
   "source": [
    "print(toddler_df_1.head(), toddler_df_0.head())"
   ]
  },
  {
   "cell_type": "code",
   "execution_count": 16,
   "id": "substantial-document",
   "metadata": {
    "execution": {
     "iopub.execute_input": "2022-12-25T15:37:21.211997Z",
     "iopub.status.busy": "2022-12-25T15:37:21.210968Z",
     "iopub.status.idle": "2022-12-25T15:37:21.215232Z",
     "shell.execute_reply": "2022-12-25T15:37:21.215661Z"
    },
    "papermill": {
     "duration": 0.10488,
     "end_time": "2022-12-25T15:37:21.215814",
     "exception": false,
     "start_time": "2022-12-25T15:37:21.110934",
     "status": "completed"
    },
    "tags": []
   },
   "outputs": [
    {
     "name": "stdout",
     "output_type": "stream",
     "text": [
      "                                                     0\n",
      "0    1 1 0 0 0 1 1 0 0 0 36 4 m White European yes ...\n",
      "1    1 0 0 0 0 0 1 1 0 1 36 4 m middle eastern yes ...\n",
      "2    1 1 1 1 1 1 1 1 1 1 24 10 m Hispanic no no fam...\n",
      "3    1 1 0 1 1 1 1 1 1 1 20 9 f White European no y...\n",
      "4    1 1 0 0 1 1 1 1 1 1 21 8 m black no no family ...\n",
      "..                                                 ...\n",
      "723  0 1 0 1 1 1 1 1 1 0 24 7 f middle eastern no n...\n",
      "724  1 1 0 0 1 1 1 0 0 0 30 5 f White European no n...\n",
      "725  0 0 1 1 1 0 1 0 1 0 12 5 m black yes no family...\n",
      "726  1 0 1 1 1 1 1 1 1 1 18 9 m middle eastern yes ...\n",
      "727  1 1 0 0 1 1 0 1 1 0 24 6 m asian yes yes famil...\n",
      "\n",
      "[728 rows x 1 columns]\n"
     ]
    }
   ],
   "source": [
    "print(toddler_df_1)"
   ]
  },
  {
   "cell_type": "code",
   "execution_count": 17,
   "id": "actual-dimension",
   "metadata": {
    "execution": {
     "iopub.execute_input": "2022-12-25T15:37:21.324662Z",
     "iopub.status.busy": "2022-12-25T15:37:21.324065Z",
     "iopub.status.idle": "2022-12-25T15:37:21.409707Z",
     "shell.execute_reply": "2022-12-25T15:37:21.408822Z"
    },
    "papermill": {
     "duration": 0.142681,
     "end_time": "2022-12-25T15:37:21.409844",
     "exception": false,
     "start_time": "2022-12-25T15:37:21.267163",
     "status": "completed"
    },
    "tags": []
   },
   "outputs": [
    {
     "data": {
      "text/html": [
       "<div>\n",
       "<style scoped>\n",
       "    .dataframe tbody tr th:only-of-type {\n",
       "        vertical-align: middle;\n",
       "    }\n",
       "\n",
       "    .dataframe tbody tr th {\n",
       "        vertical-align: top;\n",
       "    }\n",
       "\n",
       "    .dataframe thead th {\n",
       "        text-align: right;\n",
       "    }\n",
       "</style>\n",
       "<table border=\"1\" class=\"dataframe\">\n",
       "  <thead>\n",
       "    <tr style=\"text-align: right;\">\n",
       "      <th></th>\n",
       "      <th>filename</th>\n",
       "      <th>category</th>\n",
       "    </tr>\n",
       "  </thead>\n",
       "  <tbody>\n",
       "    <tr>\n",
       "      <th>0</th>\n",
       "      <td>Non_Autistic.609.jpg</td>\n",
       "      <td>0</td>\n",
       "    </tr>\n",
       "    <tr>\n",
       "      <th>1</th>\n",
       "      <td>Autistic.1124.jpg</td>\n",
       "      <td>1</td>\n",
       "    </tr>\n",
       "    <tr>\n",
       "      <th>2</th>\n",
       "      <td>Non_Autistic.979.jpg</td>\n",
       "      <td>0</td>\n",
       "    </tr>\n",
       "    <tr>\n",
       "      <th>3</th>\n",
       "      <td>Autistic.886.jpg</td>\n",
       "      <td>1</td>\n",
       "    </tr>\n",
       "    <tr>\n",
       "      <th>4</th>\n",
       "      <td>Non_Autistic.469.jpg</td>\n",
       "      <td>0</td>\n",
       "    </tr>\n",
       "  </tbody>\n",
       "</table>\n",
       "</div>"
      ],
      "text/plain": [
       "               filename category\n",
       "0  Non_Autistic.609.jpg        0\n",
       "1     Autistic.1124.jpg        1\n",
       "2  Non_Autistic.979.jpg        0\n",
       "3      Autistic.886.jpg        1\n",
       "4  Non_Autistic.469.jpg        0"
      ]
     },
     "execution_count": 17,
     "metadata": {},
     "output_type": "execute_result"
    }
   ],
   "source": [
    "filenames = os.listdir(\"../input/autism-image-data/AutismDataset/train\")\n",
    "categories = []\n",
    "for filename in filenames:\n",
    "    category = filename.split('.')[0]\n",
    "    if category == 'Autistic':\n",
    "        categories.append(str(1))\n",
    "    else:\n",
    "        categories.append(str(0))\n",
    "\n",
    "train_df = pd.DataFrame({\n",
    "    'filename': filenames,\n",
    "    'category': categories\n",
    "})\n",
    "\n",
    "train_df.head()"
   ]
  },
  {
   "cell_type": "code",
   "execution_count": 18,
   "id": "floppy-piece",
   "metadata": {
    "execution": {
     "iopub.execute_input": "2022-12-25T15:37:21.517860Z",
     "iopub.status.busy": "2022-12-25T15:37:21.517298Z",
     "iopub.status.idle": "2022-12-25T15:37:21.602755Z",
     "shell.execute_reply": "2022-12-25T15:37:21.602099Z"
    },
    "papermill": {
     "duration": 0.141182,
     "end_time": "2022-12-25T15:37:21.602906",
     "exception": false,
     "start_time": "2022-12-25T15:37:21.461724",
     "status": "completed"
    },
    "tags": []
   },
   "outputs": [],
   "source": [
    "test_filenames = os.listdir(\"../input/autism-image-data/AutismDataset/test\")\n",
    "categories = []\n",
    "for filename in filenames:\n",
    "    category = filename.split('.')[0]\n",
    "    if category == 'Autistic':\n",
    "        categories.append(str(1))\n",
    "    else:\n",
    "        categories.append(str(0))\n",
    "\n",
    "test_df = pd.DataFrame({\n",
    "    'filename': filenames,\n",
    "    'category': categories\n",
    "})"
   ]
  },
  {
   "cell_type": "code",
   "execution_count": 19,
   "id": "occupied-clear",
   "metadata": {
    "execution": {
     "iopub.execute_input": "2022-12-25T15:37:21.714290Z",
     "iopub.status.busy": "2022-12-25T15:37:21.713379Z",
     "iopub.status.idle": "2022-12-25T15:37:21.717447Z",
     "shell.execute_reply": "2022-12-25T15:37:21.716960Z"
    },
    "papermill": {
     "duration": 0.063072,
     "end_time": "2022-12-25T15:37:21.717565",
     "exception": false,
     "start_time": "2022-12-25T15:37:21.654493",
     "status": "completed"
    },
    "tags": []
   },
   "outputs": [
    {
     "data": {
      "text/html": [
       "<div>\n",
       "<style scoped>\n",
       "    .dataframe tbody tr th:only-of-type {\n",
       "        vertical-align: middle;\n",
       "    }\n",
       "\n",
       "    .dataframe tbody tr th {\n",
       "        vertical-align: top;\n",
       "    }\n",
       "\n",
       "    .dataframe thead th {\n",
       "        text-align: right;\n",
       "    }\n",
       "</style>\n",
       "<table border=\"1\" class=\"dataframe\">\n",
       "  <thead>\n",
       "    <tr style=\"text-align: right;\">\n",
       "      <th></th>\n",
       "      <th>filename</th>\n",
       "      <th>category</th>\n",
       "    </tr>\n",
       "  </thead>\n",
       "  <tbody>\n",
       "    <tr>\n",
       "      <th>0</th>\n",
       "      <td>Non_Autistic.609.jpg</td>\n",
       "      <td>0</td>\n",
       "    </tr>\n",
       "    <tr>\n",
       "      <th>1</th>\n",
       "      <td>Autistic.1124.jpg</td>\n",
       "      <td>1</td>\n",
       "    </tr>\n",
       "    <tr>\n",
       "      <th>2</th>\n",
       "      <td>Non_Autistic.979.jpg</td>\n",
       "      <td>0</td>\n",
       "    </tr>\n",
       "    <tr>\n",
       "      <th>3</th>\n",
       "      <td>Autistic.886.jpg</td>\n",
       "      <td>1</td>\n",
       "    </tr>\n",
       "    <tr>\n",
       "      <th>4</th>\n",
       "      <td>Non_Autistic.469.jpg</td>\n",
       "      <td>0</td>\n",
       "    </tr>\n",
       "  </tbody>\n",
       "</table>\n",
       "</div>"
      ],
      "text/plain": [
       "               filename category\n",
       "0  Non_Autistic.609.jpg        0\n",
       "1     Autistic.1124.jpg        1\n",
       "2  Non_Autistic.979.jpg        0\n",
       "3      Autistic.886.jpg        1\n",
       "4  Non_Autistic.469.jpg        0"
      ]
     },
     "execution_count": 19,
     "metadata": {},
     "output_type": "execute_result"
    }
   ],
   "source": [
    "test_df.head()"
   ]
  },
  {
   "cell_type": "code",
   "execution_count": 20,
   "id": "executive-above",
   "metadata": {
    "execution": {
     "iopub.execute_input": "2022-12-25T15:37:21.827295Z",
     "iopub.status.busy": "2022-12-25T15:37:21.826508Z",
     "iopub.status.idle": "2022-12-25T15:37:21.830909Z",
     "shell.execute_reply": "2022-12-25T15:37:21.830298Z"
    },
    "papermill": {
     "duration": 0.060823,
     "end_time": "2022-12-25T15:37:21.831064",
     "exception": false,
     "start_time": "2022-12-25T15:37:21.770241",
     "status": "completed"
    },
    "tags": []
   },
   "outputs": [
    {
     "name": "stdout",
     "output_type": "stream",
     "text": [
      "(2540, 2) (2540, 2)\n"
     ]
    }
   ],
   "source": [
    "print(train_df.shape, test_df.shape)"
   ]
  },
  {
   "cell_type": "code",
   "execution_count": 21,
   "id": "remarkable-retrieval",
   "metadata": {
    "execution": {
     "iopub.execute_input": "2022-12-25T15:37:21.944346Z",
     "iopub.status.busy": "2022-12-25T15:37:21.943713Z",
     "iopub.status.idle": "2022-12-25T15:37:21.947639Z",
     "shell.execute_reply": "2022-12-25T15:37:21.947205Z"
    },
    "papermill": {
     "duration": 0.062559,
     "end_time": "2022-12-25T15:37:21.947755",
     "exception": false,
     "start_time": "2022-12-25T15:37:21.885196",
     "status": "completed"
    },
    "tags": []
   },
   "outputs": [],
   "source": [
    "# relation_df = pd.DataFrame(columns=['image_no','table_no','relation(0-|1+)'])\n",
    "relation_df = pd.DataFrame(columns=['image','caption_number','caption','id'])"
   ]
  },
  {
   "cell_type": "code",
   "execution_count": 22,
   "id": "needed-graphics",
   "metadata": {
    "execution": {
     "iopub.execute_input": "2022-12-25T15:37:22.057089Z",
     "iopub.status.busy": "2022-12-25T15:37:22.056442Z",
     "iopub.status.idle": "2022-12-25T15:37:22.060183Z",
     "shell.execute_reply": "2022-12-25T15:37:22.060709Z"
    },
    "papermill": {
     "duration": 0.060921,
     "end_time": "2022-12-25T15:37:22.060910",
     "exception": false,
     "start_time": "2022-12-25T15:37:21.999989",
     "status": "completed"
    },
    "tags": []
   },
   "outputs": [
    {
     "name": "stdout",
     "output_type": "stream",
     "text": [
      "Non_Autistic.609.jpg\n"
     ]
    }
   ],
   "source": [
    "for image in train_df.iterrows():\n",
    "    print(image[1][0])\n",
    "    break"
   ]
  },
  {
   "cell_type": "markdown",
   "id": "interstate-masters",
   "metadata": {
    "papermill": {
     "duration": 0.052794,
     "end_time": "2022-12-25T15:37:22.166868",
     "exception": false,
     "start_time": "2022-12-25T15:37:22.114074",
     "status": "completed"
    },
    "tags": []
   },
   "source": [
    "### Creating a dataframe to associate an image with 5 captions"
   ]
  },
  {
   "cell_type": "code",
   "execution_count": 23,
   "id": "false-marketing",
   "metadata": {
    "execution": {
     "iopub.execute_input": "2022-12-25T15:37:22.284345Z",
     "iopub.status.busy": "2022-12-25T15:37:22.283435Z",
     "iopub.status.idle": "2022-12-25T15:37:22.286072Z",
     "shell.execute_reply": "2022-12-25T15:37:22.286483Z"
    },
    "papermill": {
     "duration": 0.066718,
     "end_time": "2022-12-25T15:37:22.286646",
     "exception": false,
     "start_time": "2022-12-25T15:37:22.219928",
     "status": "completed"
    },
    "tags": []
   },
   "outputs": [],
   "source": [
    "import random\n",
    "\n",
    "def make_dataframe(df, relation_df):\n",
    "    new_df = pd.DataFrame()\n",
    "    i=-1\n",
    "    for image in df.iterrows():\n",
    "        i += 1\n",
    "        indexes = []\n",
    "        for x in range(5):\n",
    "            if(int(image[1][1])==1):\n",
    "                size = toddler_df_1.shape[0]\n",
    "                index =random.randint(0,size-1)\n",
    "                while index in indexes:\n",
    "                    index = randint(0,size-1)\n",
    "                data = {  \"image\": [image[1][0]],  \"caption_number\": [x], \"caption\": [vals_1[index]]}\n",
    "                new_df = pd.DataFrame(data)\n",
    "\n",
    "            if(int(image[1][1])==0):\n",
    "                size = toddler_df_0.shape[0]\n",
    "                index = random.randint(0,size-1)\n",
    "                while index in indexes:\n",
    "                    index = randint(0,size-1)\n",
    "                data = {  \"image\": [image[1][0]],  \"caption_number\": [x], \"caption\": [vals_0[index]]}\n",
    "                new_df = pd.DataFrame(data)\n",
    "\n",
    "\n",
    "    #         print(new_df)\n",
    "            relation_df = relation_df.append(new_df)\n",
    "#         break\n",
    "    print(relation_df.shape)\n",
    "    return relation_df"
   ]
  },
  {
   "cell_type": "code",
   "execution_count": 24,
   "id": "facial-spiritual",
   "metadata": {
    "execution": {
     "iopub.execute_input": "2022-12-25T15:37:22.511603Z",
     "iopub.status.busy": "2022-12-25T15:37:22.500506Z",
     "iopub.status.idle": "2022-12-25T15:39:00.926159Z",
     "shell.execute_reply": "2022-12-25T15:39:00.926666Z"
    },
    "papermill": {
     "duration": 98.587166,
     "end_time": "2022-12-25T15:39:00.926837",
     "exception": false,
     "start_time": "2022-12-25T15:37:22.339671",
     "status": "completed"
    },
    "tags": []
   },
   "outputs": [
    {
     "name": "stdout",
     "output_type": "stream",
     "text": [
      "(12700, 4)\n",
      "(12700, 4)\n",
      "(25400, 4)\n",
      "(25400, 4)\n"
     ]
    }
   ],
   "source": [
    "relation_df = make_dataframe(train_df,relation_df)\n",
    "print(relation_df.shape)\n",
    "relation_df = make_dataframe(test_df,relation_df)\n",
    "print(relation_df.shape)"
   ]
  },
  {
   "cell_type": "code",
   "execution_count": 25,
   "id": "foreign-disclosure",
   "metadata": {
    "execution": {
     "iopub.execute_input": "2022-12-25T15:39:01.043610Z",
     "iopub.status.busy": "2022-12-25T15:39:01.042723Z",
     "iopub.status.idle": "2022-12-25T15:39:01.046362Z",
     "shell.execute_reply": "2022-12-25T15:39:01.046807Z"
    },
    "papermill": {
     "duration": 0.067077,
     "end_time": "2022-12-25T15:39:01.046945",
     "exception": false,
     "start_time": "2022-12-25T15:39:00.979868",
     "status": "completed"
    },
    "tags": []
   },
   "outputs": [
    {
     "data": {
      "text/html": [
       "<div>\n",
       "<style scoped>\n",
       "    .dataframe tbody tr th:only-of-type {\n",
       "        vertical-align: middle;\n",
       "    }\n",
       "\n",
       "    .dataframe tbody tr th {\n",
       "        vertical-align: top;\n",
       "    }\n",
       "\n",
       "    .dataframe thead th {\n",
       "        text-align: right;\n",
       "    }\n",
       "</style>\n",
       "<table border=\"1\" class=\"dataframe\">\n",
       "  <thead>\n",
       "    <tr style=\"text-align: right;\">\n",
       "      <th></th>\n",
       "      <th>image</th>\n",
       "      <th>caption_number</th>\n",
       "      <th>caption</th>\n",
       "      <th>id</th>\n",
       "    </tr>\n",
       "  </thead>\n",
       "  <tbody>\n",
       "    <tr>\n",
       "      <th>0</th>\n",
       "      <td>Non_Autistic.609.jpg</td>\n",
       "      <td>0</td>\n",
       "      <td>0 0 0 0 0 0 0 0 0 0 31 0 m White European yes ...</td>\n",
       "      <td>NaN</td>\n",
       "    </tr>\n",
       "    <tr>\n",
       "      <th>1</th>\n",
       "      <td>Non_Autistic.609.jpg</td>\n",
       "      <td>1</td>\n",
       "      <td>0 0 0 0 0 0 0 1 0 0 24 1 m asian yes no family...</td>\n",
       "      <td>NaN</td>\n",
       "    </tr>\n",
       "    <tr>\n",
       "      <th>2</th>\n",
       "      <td>Non_Autistic.609.jpg</td>\n",
       "      <td>2</td>\n",
       "      <td>0 0 1 0 1 0 0 0 0 1 33 3 m asian no yes family...</td>\n",
       "      <td>NaN</td>\n",
       "    </tr>\n",
       "    <tr>\n",
       "      <th>3</th>\n",
       "      <td>Non_Autistic.609.jpg</td>\n",
       "      <td>3</td>\n",
       "      <td>0 0 0 0 0 0 1 0 0 0 30 1 f White European yes ...</td>\n",
       "      <td>NaN</td>\n",
       "    </tr>\n",
       "    <tr>\n",
       "      <th>4</th>\n",
       "      <td>Non_Autistic.609.jpg</td>\n",
       "      <td>4</td>\n",
       "      <td>0 0 0 0 1 0 0 0 1 1 12 3 f White European no n...</td>\n",
       "      <td>NaN</td>\n",
       "    </tr>\n",
       "  </tbody>\n",
       "</table>\n",
       "</div>"
      ],
      "text/plain": [
       "                  image caption_number  \\\n",
       "0  Non_Autistic.609.jpg              0   \n",
       "1  Non_Autistic.609.jpg              1   \n",
       "2  Non_Autistic.609.jpg              2   \n",
       "3  Non_Autistic.609.jpg              3   \n",
       "4  Non_Autistic.609.jpg              4   \n",
       "\n",
       "                                             caption   id  \n",
       "0  0 0 0 0 0 0 0 0 0 0 31 0 m White European yes ...  NaN  \n",
       "1  0 0 0 0 0 0 0 1 0 0 24 1 m asian yes no family...  NaN  \n",
       "2  0 0 1 0 1 0 0 0 0 1 33 3 m asian no yes family...  NaN  \n",
       "3  0 0 0 0 0 0 1 0 0 0 30 1 f White European yes ...  NaN  \n",
       "4  0 0 0 0 1 0 0 0 1 1 12 3 f White European no n...  NaN  "
      ]
     },
     "execution_count": 25,
     "metadata": {},
     "output_type": "execute_result"
    }
   ],
   "source": [
    "relation_df.reset_index(drop=True, inplace=True)\n",
    "relation_df.head()"
   ]
  },
  {
   "cell_type": "code",
   "execution_count": 26,
   "id": "known-rachel",
   "metadata": {
    "execution": {
     "iopub.execute_input": "2022-12-25T15:39:01.174164Z",
     "iopub.status.busy": "2022-12-25T15:39:01.173328Z",
     "iopub.status.idle": "2022-12-25T15:39:01.176752Z",
     "shell.execute_reply": "2022-12-25T15:39:01.177193Z"
    },
    "papermill": {
     "duration": 0.075746,
     "end_time": "2022-12-25T15:39:01.177342",
     "exception": false,
     "start_time": "2022-12-25T15:39:01.101596",
     "status": "completed"
    },
    "tags": []
   },
   "outputs": [
    {
     "data": {
      "text/html": [
       "<div>\n",
       "<style scoped>\n",
       "    .dataframe tbody tr th:only-of-type {\n",
       "        vertical-align: middle;\n",
       "    }\n",
       "\n",
       "    .dataframe tbody tr th {\n",
       "        vertical-align: top;\n",
       "    }\n",
       "\n",
       "    .dataframe thead th {\n",
       "        text-align: right;\n",
       "    }\n",
       "</style>\n",
       "<table border=\"1\" class=\"dataframe\">\n",
       "  <thead>\n",
       "    <tr style=\"text-align: right;\">\n",
       "      <th></th>\n",
       "      <th>image</th>\n",
       "      <th>caption_number</th>\n",
       "      <th>caption</th>\n",
       "      <th>id</th>\n",
       "    </tr>\n",
       "  </thead>\n",
       "  <tbody>\n",
       "    <tr>\n",
       "      <th>0</th>\n",
       "      <td>Non_Autistic.609.jpg</td>\n",
       "      <td>0</td>\n",
       "      <td>0 0 0 0 0 0 0 0 0 0 31 0 m White European yes ...</td>\n",
       "      <td>0</td>\n",
       "    </tr>\n",
       "    <tr>\n",
       "      <th>1</th>\n",
       "      <td>Non_Autistic.609.jpg</td>\n",
       "      <td>1</td>\n",
       "      <td>0 0 0 0 0 0 0 1 0 0 24 1 m asian yes no family...</td>\n",
       "      <td>0</td>\n",
       "    </tr>\n",
       "    <tr>\n",
       "      <th>2</th>\n",
       "      <td>Non_Autistic.609.jpg</td>\n",
       "      <td>2</td>\n",
       "      <td>0 0 1 0 1 0 0 0 0 1 33 3 m asian no yes family...</td>\n",
       "      <td>0</td>\n",
       "    </tr>\n",
       "    <tr>\n",
       "      <th>3</th>\n",
       "      <td>Non_Autistic.609.jpg</td>\n",
       "      <td>3</td>\n",
       "      <td>0 0 0 0 0 0 1 0 0 0 30 1 f White European yes ...</td>\n",
       "      <td>0</td>\n",
       "    </tr>\n",
       "    <tr>\n",
       "      <th>4</th>\n",
       "      <td>Non_Autistic.609.jpg</td>\n",
       "      <td>4</td>\n",
       "      <td>0 0 0 0 1 0 0 0 1 1 12 3 f White European no n...</td>\n",
       "      <td>0</td>\n",
       "    </tr>\n",
       "  </tbody>\n",
       "</table>\n",
       "</div>"
      ],
      "text/plain": [
       "                  image caption_number  \\\n",
       "0  Non_Autistic.609.jpg              0   \n",
       "1  Non_Autistic.609.jpg              1   \n",
       "2  Non_Autistic.609.jpg              2   \n",
       "3  Non_Autistic.609.jpg              3   \n",
       "4  Non_Autistic.609.jpg              4   \n",
       "\n",
       "                                             caption  id  \n",
       "0  0 0 0 0 0 0 0 0 0 0 31 0 m White European yes ...   0  \n",
       "1  0 0 0 0 0 0 0 1 0 0 24 1 m asian yes no family...   0  \n",
       "2  0 0 1 0 1 0 0 0 0 1 33 3 m asian no yes family...   0  \n",
       "3  0 0 0 0 0 0 1 0 0 0 30 1 f White European yes ...   0  \n",
       "4  0 0 0 0 1 0 0 0 1 1 12 3 f White European no n...   0  "
      ]
     },
     "execution_count": 26,
     "metadata": {},
     "output_type": "execute_result"
    }
   ],
   "source": [
    "ids = [id_ for id_ in range(len(relation_df) // 5) for i in range(5)]\n",
    "relation_df['id'] = ids\n",
    "relation_df.head()"
   ]
  },
  {
   "cell_type": "code",
   "execution_count": 27,
   "id": "particular-phase",
   "metadata": {
    "execution": {
     "iopub.execute_input": "2022-12-25T15:39:01.289682Z",
     "iopub.status.busy": "2022-12-25T15:39:01.289147Z",
     "iopub.status.idle": "2022-12-25T15:39:01.618519Z",
     "shell.execute_reply": "2022-12-25T15:39:01.617700Z"
    },
    "papermill": {
     "duration": 0.386301,
     "end_time": "2022-12-25T15:39:01.618655",
     "exception": false,
     "start_time": "2022-12-25T15:39:01.232354",
     "status": "completed"
    },
    "tags": []
   },
   "outputs": [],
   "source": [
    "relation_df.to_csv('captions2.csv', index=False)"
   ]
  },
  {
   "cell_type": "code",
   "execution_count": 28,
   "id": "answering-essence",
   "metadata": {
    "execution": {
     "iopub.execute_input": "2022-12-25T15:39:01.733765Z",
     "iopub.status.busy": "2022-12-25T15:39:01.732715Z",
     "iopub.status.idle": "2022-12-25T15:39:01.762488Z",
     "shell.execute_reply": "2022-12-25T15:39:01.762868Z"
    },
    "papermill": {
     "duration": 0.090098,
     "end_time": "2022-12-25T15:39:01.763018",
     "exception": false,
     "start_time": "2022-12-25T15:39:01.672920",
     "status": "completed"
    },
    "tags": []
   },
   "outputs": [
    {
     "data": {
      "text/html": [
       "<div>\n",
       "<style scoped>\n",
       "    .dataframe tbody tr th:only-of-type {\n",
       "        vertical-align: middle;\n",
       "    }\n",
       "\n",
       "    .dataframe tbody tr th {\n",
       "        vertical-align: top;\n",
       "    }\n",
       "\n",
       "    .dataframe thead th {\n",
       "        text-align: right;\n",
       "    }\n",
       "</style>\n",
       "<table border=\"1\" class=\"dataframe\">\n",
       "  <thead>\n",
       "    <tr style=\"text-align: right;\">\n",
       "      <th></th>\n",
       "      <th>image</th>\n",
       "      <th>caption_number</th>\n",
       "      <th>caption</th>\n",
       "      <th>id</th>\n",
       "    </tr>\n",
       "  </thead>\n",
       "  <tbody>\n",
       "    <tr>\n",
       "      <th>0</th>\n",
       "      <td>Non_Autistic.609.jpg</td>\n",
       "      <td>0</td>\n",
       "      <td>0 0 0 0 0 0 0 0 0 0 31 0 m White European yes ...</td>\n",
       "      <td>0</td>\n",
       "    </tr>\n",
       "    <tr>\n",
       "      <th>1</th>\n",
       "      <td>Non_Autistic.609.jpg</td>\n",
       "      <td>1</td>\n",
       "      <td>0 0 0 0 0 0 0 1 0 0 24 1 m asian yes no family...</td>\n",
       "      <td>0</td>\n",
       "    </tr>\n",
       "    <tr>\n",
       "      <th>2</th>\n",
       "      <td>Non_Autistic.609.jpg</td>\n",
       "      <td>2</td>\n",
       "      <td>0 0 1 0 1 0 0 0 0 1 33 3 m asian no yes family...</td>\n",
       "      <td>0</td>\n",
       "    </tr>\n",
       "    <tr>\n",
       "      <th>3</th>\n",
       "      <td>Non_Autistic.609.jpg</td>\n",
       "      <td>3</td>\n",
       "      <td>0 0 0 0 0 0 1 0 0 0 30 1 f White European yes ...</td>\n",
       "      <td>0</td>\n",
       "    </tr>\n",
       "    <tr>\n",
       "      <th>4</th>\n",
       "      <td>Non_Autistic.609.jpg</td>\n",
       "      <td>4</td>\n",
       "      <td>0 0 0 0 1 0 0 0 1 1 12 3 f White European no n...</td>\n",
       "      <td>0</td>\n",
       "    </tr>\n",
       "  </tbody>\n",
       "</table>\n",
       "</div>"
      ],
      "text/plain": [
       "                  image  caption_number  \\\n",
       "0  Non_Autistic.609.jpg               0   \n",
       "1  Non_Autistic.609.jpg               1   \n",
       "2  Non_Autistic.609.jpg               2   \n",
       "3  Non_Autistic.609.jpg               3   \n",
       "4  Non_Autistic.609.jpg               4   \n",
       "\n",
       "                                             caption  id  \n",
       "0  0 0 0 0 0 0 0 0 0 0 31 0 m White European yes ...   0  \n",
       "1  0 0 0 0 0 0 0 1 0 0 24 1 m asian yes no family...   0  \n",
       "2  0 0 1 0 1 0 0 0 0 1 33 3 m asian no yes family...   0  \n",
       "3  0 0 0 0 0 0 1 0 0 0 30 1 f White European yes ...   0  \n",
       "4  0 0 0 0 1 0 0 0 1 1 12 3 f White European no n...   0  "
      ]
     },
     "execution_count": 28,
     "metadata": {},
     "output_type": "execute_result"
    }
   ],
   "source": [
    "df2 = pd.read_csv(\"/kaggle/working/captions2.csv\")\n",
    "df2.head()"
   ]
  },
  {
   "cell_type": "code",
   "execution_count": 29,
   "id": "informational-contrary",
   "metadata": {
    "execution": {
     "iopub.execute_input": "2022-12-25T15:39:01.881599Z",
     "iopub.status.busy": "2022-12-25T15:39:01.880915Z",
     "iopub.status.idle": "2022-12-25T15:39:01.884266Z",
     "shell.execute_reply": "2022-12-25T15:39:01.884866Z"
    },
    "papermill": {
     "duration": 0.065627,
     "end_time": "2022-12-25T15:39:01.885051",
     "exception": false,
     "start_time": "2022-12-25T15:39:01.819424",
     "status": "completed"
    },
    "tags": []
   },
   "outputs": [
    {
     "name": "stdout",
     "output_type": "stream",
     "text": [
      "5079\n"
     ]
    }
   ],
   "source": [
    "max_id = df2[\"id\"].max()\n",
    "print(max_id)"
   ]
  },
  {
   "cell_type": "markdown",
   "id": "enabling-pastor",
   "metadata": {
    "papermill": {
     "duration": 0.05566,
     "end_time": "2022-12-25T15:39:01.997652",
     "exception": false,
     "start_time": "2022-12-25T15:39:01.941992",
     "status": "completed"
    },
    "tags": []
   },
   "source": [
    "<a id=\"4\"></a><br>\n",
    "## Setting Up Necessary Functions"
   ]
  },
  {
   "cell_type": "markdown",
   "id": "painted-grain",
   "metadata": {
    "papermill": {
     "duration": 0.055414,
     "end_time": "2022-12-25T15:39:02.108329",
     "exception": false,
     "start_time": "2022-12-25T15:39:02.052915",
     "status": "completed"
    },
    "tags": []
   },
   "source": [
    "## Config"
   ]
  },
  {
   "cell_type": "markdown",
   "id": "registered-century",
   "metadata": {
    "papermill": {
     "duration": 0.055235,
     "end_time": "2022-12-25T15:39:02.217588",
     "exception": false,
     "start_time": "2022-12-25T15:39:02.162353",
     "status": "completed"
    },
    "tags": []
   },
   "source": [
    "*A note on config and CFG: I wrote the codes with python scripts and then converted it into a Jupyter Notebook. So, in case of python scripts, config is a normal python file where I put all the hyperparameters and in the case of Jupyter Notebook, its a class defined in the beginning of the notebook to keep all the hyperparameters.*"
   ]
  },
  {
   "cell_type": "code",
   "execution_count": 30,
   "id": "express-ladder",
   "metadata": {
    "execution": {
     "iopub.execute_input": "2022-12-25T15:39:02.397630Z",
     "iopub.status.busy": "2022-12-25T15:39:02.396809Z",
     "iopub.status.idle": "2022-12-25T15:39:02.399928Z",
     "shell.execute_reply": "2022-12-25T15:39:02.399426Z"
    },
    "papermill": {
     "duration": 0.128076,
     "end_time": "2022-12-25T15:39:02.400056",
     "exception": false,
     "start_time": "2022-12-25T15:39:02.271980",
     "status": "completed"
    },
    "tags": []
   },
   "outputs": [],
   "source": [
    "class CFG:\n",
    "    debug = False\n",
    "#     image_path = \"../input/flickr-image-dataset/flickr30k_images/flickr30k_images\"\n",
    "    image_path = \"/kaggle/input/autism-image-data/AutismDataset/train\"\n",
    "    captions_path = \"/kaggle/working/\"\n",
    "    batch_size = 32\n",
    "    num_workers = 4\n",
    "    head_lr = 1e-3\n",
    "    image_encoder_lr = 1e-4\n",
    "    text_encoder_lr = 1e-5\n",
    "    weight_decay = 1e-3\n",
    "    patience = 1\n",
    "    factor = 0.8\n",
    "    epochs = 2\n",
    "    device = torch.device(\"cuda\" if torch.cuda.is_available() else \"cpu\")\n",
    "\n",
    "    model_name = 'resnet50'\n",
    "    image_embedding = 2048\n",
    "    text_encoder_model = \"distilbert-base-uncased\"\n",
    "    text_embedding = 768\n",
    "    text_tokenizer = \"distilbert-base-uncased\"\n",
    "    max_length = 200\n",
    "\n",
    "    pretrained = True # for both image encoder and text encoder\n",
    "    trainable = True # for both image encoder and text encoder\n",
    "    temperature = 1.0\n",
    "\n",
    "    # image size\n",
    "    size = 224\n",
    "\n",
    "    # for projection head; used for both image and text encoders\n",
    "    num_projection_layers = 1\n",
    "    projection_dim = 256 \n",
    "    dropout = 0.1"
   ]
  },
  {
   "cell_type": "markdown",
   "id": "approved-tourism",
   "metadata": {
    "papermill": {
     "duration": 0.05499,
     "end_time": "2022-12-25T15:39:02.509941",
     "exception": false,
     "start_time": "2022-12-25T15:39:02.454951",
     "status": "completed"
    },
    "tags": []
   },
   "source": [
    "## Utils"
   ]
  },
  {
   "cell_type": "code",
   "execution_count": 31,
   "id": "peripheral-arthur",
   "metadata": {
    "execution": {
     "iopub.execute_input": "2022-12-25T15:39:02.626355Z",
     "iopub.status.busy": "2022-12-25T15:39:02.625397Z",
     "iopub.status.idle": "2022-12-25T15:39:02.627705Z",
     "shell.execute_reply": "2022-12-25T15:39:02.628153Z"
    },
    "papermill": {
     "duration": 0.063436,
     "end_time": "2022-12-25T15:39:02.628296",
     "exception": false,
     "start_time": "2022-12-25T15:39:02.564860",
     "status": "completed"
    },
    "tags": []
   },
   "outputs": [],
   "source": [
    "class AvgMeter:\n",
    "    def __init__(self, name=\"Metric\"):\n",
    "        self.name = name\n",
    "        self.reset()\n",
    "\n",
    "    def reset(self):\n",
    "        self.avg, self.sum, self.count = [0] * 3\n",
    "\n",
    "    def update(self, val, count=1):\n",
    "        self.count += count\n",
    "        self.sum += val * count\n",
    "        self.avg = self.sum / self.count\n",
    "\n",
    "    def __repr__(self):\n",
    "        text = f\"{self.name}: {self.avg:.4f}\"\n",
    "        return text\n",
    "\n",
    "def get_lr(optimizer):\n",
    "    for param_group in optimizer.param_groups:\n",
    "        return param_group[\"lr\"]\n"
   ]
  },
  {
   "cell_type": "markdown",
   "id": "administrative-watch",
   "metadata": {
    "papermill": {
     "duration": 0.054453,
     "end_time": "2022-12-25T15:39:02.737660",
     "exception": false,
     "start_time": "2022-12-25T15:39:02.683207",
     "status": "completed"
    },
    "tags": []
   },
   "source": [
    "## Dataset"
   ]
  },
  {
   "cell_type": "markdown",
   "id": "artistic-tanzania",
   "metadata": {
    "papermill": {
     "duration": 0.055314,
     "end_time": "2022-12-25T15:39:02.847877",
     "exception": false,
     "start_time": "2022-12-25T15:39:02.792563",
     "status": "completed"
    },
    "tags": []
   },
   "source": [
    "As you can see in the tittle image of this article, we need to encode both images and their describing texts. So, the dataset needs to **return both images and texts**. Of course we are not going to feed raw text to our text encoder! We will use **DistilBERT** model (which is smaller than BERT but performs nearly as well as BERT) from **HuggingFace** library as our text encoder; so, we need to **tokenize** the sentences (captions) with DistilBERT tokenizer and then feed the token ids (input_ids) and the attention masks to DistilBERT. Therefore, the dataset needs to take care of the tokenization as well. Below you can see the dataset's code. Below that I'll explain the most important things that is happening in the code."
   ]
  },
  {
   "cell_type": "markdown",
   "id": "subjective-medicine",
   "metadata": {
    "papermill": {
     "duration": 0.055476,
     "end_time": "2022-12-25T15:39:02.959579",
     "exception": false,
     "start_time": "2022-12-25T15:39:02.904103",
     "status": "completed"
    },
    "tags": []
   },
   "source": [
    "In the **\\_\\_init\\_\\_** we receive a tokenizer object which is actually a HuggingFace tokinzer; this tokenizer will be loaded when running the model. We are padding and truncating the captions to a specified max_length. In the **\\_\\_getitem\\_\\_** we will first load an encoded caption which is a dictionary with keys input_ids and attention_mask, make tensors out of its values and after that we will load the corresponding image, transform and augment it (if there is any!) and then we make it a tensor and put it in the dictionary with \"image\" as the key. Finally we put the raw text of the caption with the key \"caption\" in the dictionary only for visualization purposes. \n",
    "\n",
    "I did not use additional data augmentations but you can add them if you want to improve the model's performance."
   ]
  },
  {
   "cell_type": "code",
   "execution_count": 32,
   "id": "bright-maintenance",
   "metadata": {
    "execution": {
     "iopub.execute_input": "2022-12-25T15:39:03.080840Z",
     "iopub.status.busy": "2022-12-25T15:39:03.080035Z",
     "iopub.status.idle": "2022-12-25T15:39:03.082796Z",
     "shell.execute_reply": "2022-12-25T15:39:03.082379Z"
    },
    "papermill": {
     "duration": 0.067701,
     "end_time": "2022-12-25T15:39:03.082915",
     "exception": false,
     "start_time": "2022-12-25T15:39:03.015214",
     "status": "completed"
    },
    "tags": []
   },
   "outputs": [],
   "source": [
    "class CLIPDataset(torch.utils.data.Dataset):\n",
    "    def __init__(self, image_filenames, captions, tokenizer, transforms):\n",
    "        \"\"\"\n",
    "        image_filenames and cpations must have the same length; so, if there are\n",
    "        multiple captions for each image, the image_filenames must have repetitive\n",
    "        file names \n",
    "        \"\"\"\n",
    "\n",
    "        self.image_filenames = image_filenames\n",
    "        self.captions = list(captions)\n",
    "        print(len(self.captions))\n",
    "        self.encoded_captions = tokenizer(\n",
    "            list(captions), padding=True, truncation=True, max_length=CFG.max_length\n",
    "        )\n",
    "        self.transforms = transforms\n",
    "\n",
    "    def __getitem__(self, idx):\n",
    "        item = {\n",
    "            key: torch.tensor(values[idx])\n",
    "            for key, values in self.encoded_captions.items()\n",
    "        }\n",
    "\n",
    "        image = cv2.imread(f\"{CFG.image_path}/{self.image_filenames[idx]}\")\n",
    "        image = cv2.cvtColor(image, cv2.COLOR_BGR2RGB)\n",
    "        image = self.transforms(image=image)['image']\n",
    "        item['image'] = torch.tensor(image).permute(2, 0, 1).float()\n",
    "        item['caption'] = self.captions[idx]\n",
    "\n",
    "        return item\n",
    "\n",
    "\n",
    "    def __len__(self):\n",
    "        return len(self.captions)\n",
    "\n",
    "\n",
    "\n",
    "def get_transforms(mode=\"train\"):\n",
    "    if mode == \"train\":\n",
    "        return A.Compose(\n",
    "            [\n",
    "                A.Resize(CFG.size, CFG.size, always_apply=True),\n",
    "                A.Normalize(max_pixel_value=255.0, always_apply=True),\n",
    "            ]\n",
    "        )\n",
    "    else:\n",
    "        return A.Compose(\n",
    "            [\n",
    "                A.Resize(CFG.size, CFG.size, always_apply=True),\n",
    "                A.Normalize(max_pixel_value=255.0, always_apply=True),\n",
    "            ]\n",
    "        )"
   ]
  },
  {
   "cell_type": "markdown",
   "id": "temporal-beads",
   "metadata": {
    "papermill": {
     "duration": 0.055298,
     "end_time": "2022-12-25T15:39:03.193868",
     "exception": false,
     "start_time": "2022-12-25T15:39:03.138570",
     "status": "completed"
    },
    "tags": []
   },
   "source": [
    "## Image Encoder"
   ]
  },
  {
   "cell_type": "markdown",
   "id": "arabic-affiliate",
   "metadata": {
    "papermill": {
     "duration": 0.070879,
     "end_time": "2022-12-25T15:39:03.321571",
     "exception": false,
     "start_time": "2022-12-25T15:39:03.250692",
     "status": "completed"
    },
    "tags": []
   },
   "source": [
    "The image encoder code is straight forward. I'm using PyTorch Image Models library (timm) here which makes a lot of different image models available from ResNets to EfficientNets and many more. Here we will use a ResNet50 as our image encoder. You can easily use torchvision library to use ResNets if you don't want to install a new library."
   ]
  },
  {
   "cell_type": "markdown",
   "id": "atlantic-celtic",
   "metadata": {
    "papermill": {
     "duration": 0.055686,
     "end_time": "2022-12-25T15:39:03.433769",
     "exception": false,
     "start_time": "2022-12-25T15:39:03.378083",
     "status": "completed"
    },
    "tags": []
   },
   "source": [
    "The code encodes each image to a fixed size vector with the size of the model's output channels (in case of ResNet50 the vector size will be **2048**). This is the output after the nn.AdaptiveAvgPool2d() layer."
   ]
  },
  {
   "cell_type": "code",
   "execution_count": 33,
   "id": "august-documentary",
   "metadata": {
    "execution": {
     "iopub.execute_input": "2022-12-25T15:39:03.549605Z",
     "iopub.status.busy": "2022-12-25T15:39:03.548895Z",
     "iopub.status.idle": "2022-12-25T15:39:03.552007Z",
     "shell.execute_reply": "2022-12-25T15:39:03.551484Z"
    },
    "papermill": {
     "duration": 0.063207,
     "end_time": "2022-12-25T15:39:03.552120",
     "exception": false,
     "start_time": "2022-12-25T15:39:03.488913",
     "status": "completed"
    },
    "tags": []
   },
   "outputs": [],
   "source": [
    "class ImageEncoder(nn.Module):\n",
    "    \"\"\"\n",
    "    Encode images to a fixed size vector\n",
    "    \"\"\"\n",
    "\n",
    "    def __init__(\n",
    "        self, model_name=CFG.model_name, pretrained=CFG.pretrained, trainable=CFG.trainable\n",
    "    ):\n",
    "        super().__init__()\n",
    "        self.model = timm.create_model(\n",
    "            model_name, pretrained, num_classes=0, global_pool=\"avg\"\n",
    "        )\n",
    "        for p in self.model.parameters():\n",
    "            p.requires_grad = trainable\n",
    "\n",
    "    def forward(self, x):\n",
    "        return self.model(x)"
   ]
  },
  {
   "cell_type": "markdown",
   "id": "sharing-tender",
   "metadata": {
    "papermill": {
     "duration": 0.054513,
     "end_time": "2022-12-25T15:39:03.661656",
     "exception": false,
     "start_time": "2022-12-25T15:39:03.607143",
     "status": "completed"
    },
    "tags": []
   },
   "source": [
    "## Text Encoder"
   ]
  },
  {
   "cell_type": "markdown",
   "id": "green-tomato",
   "metadata": {
    "papermill": {
     "duration": 0.054714,
     "end_time": "2022-12-25T15:39:03.771807",
     "exception": false,
     "start_time": "2022-12-25T15:39:03.717093",
     "status": "completed"
    },
    "tags": []
   },
   "source": [
    "As I mentioned before, I'll use DistilBERT as the text encoder. Like its bigger brother BERT, two special tokens will be added to the actual input tokens: **CLS** and **SEP** which mark the start and end of a sentence. To grab the whole representation of a sentence (as the related BERT and DistilBERT papers point out) we use the final representations of the CLS token and we hope that this representation captures the overall meaning of the sentence (caption). Thinking it in this way, it is similar to what we did to images and converted them into a fixed size vector.\n",
    "\n",
    "In the case of DistilBERT (and also BERT) the output hidden representation for each token is a vector with size **768**. So, the whole caption will be encoded in the CLS token representation whose size is 768."
   ]
  },
  {
   "cell_type": "code",
   "execution_count": 34,
   "id": "angry-magnitude",
   "metadata": {
    "execution": {
     "iopub.execute_input": "2022-12-25T15:39:03.890556Z",
     "iopub.status.busy": "2022-12-25T15:39:03.889836Z",
     "iopub.status.idle": "2022-12-25T15:39:03.892926Z",
     "shell.execute_reply": "2022-12-25T15:39:03.892470Z"
    },
    "papermill": {
     "duration": 0.065194,
     "end_time": "2022-12-25T15:39:03.893042",
     "exception": false,
     "start_time": "2022-12-25T15:39:03.827848",
     "status": "completed"
    },
    "tags": []
   },
   "outputs": [],
   "source": [
    "class TextEncoder(nn.Module):\n",
    "    def __init__(self, model_name=CFG.text_encoder_model, pretrained=CFG.pretrained, trainable=CFG.trainable):\n",
    "        super().__init__()\n",
    "        if pretrained:\n",
    "            self.model = DistilBertModel.from_pretrained(model_name)\n",
    "        else:\n",
    "            self.model = DistilBertModel(config=DistilBertConfig())\n",
    "            \n",
    "        for p in self.model.parameters():\n",
    "            p.requires_grad = trainable\n",
    "\n",
    "        # we are using the CLS token hidden representation as the sentence's embedding\n",
    "        self.target_token_idx = 0\n",
    "\n",
    "    def forward(self, input_ids, attention_mask):\n",
    "        output = self.model(input_ids=input_ids, attention_mask=attention_mask)\n",
    "        last_hidden_state = output.last_hidden_state\n",
    "        return last_hidden_state[:, self.target_token_idx, :]"
   ]
  },
  {
   "cell_type": "markdown",
   "id": "internal-sunday",
   "metadata": {
    "papermill": {
     "duration": 0.055545,
     "end_time": "2022-12-25T15:39:04.005240",
     "exception": false,
     "start_time": "2022-12-25T15:39:03.949695",
     "status": "completed"
    },
    "tags": []
   },
   "source": [
    "## Projection Head"
   ]
  },
  {
   "cell_type": "markdown",
   "id": "attended-safety",
   "metadata": {
    "papermill": {
     "duration": 0.054982,
     "end_time": "2022-12-25T15:39:04.116891",
     "exception": false,
     "start_time": "2022-12-25T15:39:04.061909",
     "status": "completed"
    },
    "tags": []
   },
   "source": [
    "I used [Keras code example implementation](https://keras.io/examples/nlp/nl_image_search/) of projection head to write the following in PyTorch.\n",
    "Now that we have encoded both our images and texts into fixed size vectors (2048 for image and 768 for text) we need to bring (project) them into a **new world** (!) with **similar dimensions** for both images and texts in order to be able to compare them and push apart the non-relevant image and texts and pull together those that match. So, the following code will bring the 2048 and 768 dimensional vectors into a 256 (projection_dim) dimensional world, where we can **compare** them.\n",
    "\n",
    "\"embedding_dim\" is the size of the input vector (2048 for images and 768 for texts) and \"projection_dim\" is the the size of the output vector which will be 256 for our case. For understanding the details of this part you can refer to the CLIP paper."
   ]
  },
  {
   "cell_type": "code",
   "execution_count": 35,
   "id": "boxed-point",
   "metadata": {
    "execution": {
     "iopub.execute_input": "2022-12-25T15:39:04.235551Z",
     "iopub.status.busy": "2022-12-25T15:39:04.234622Z",
     "iopub.status.idle": "2022-12-25T15:39:04.237483Z",
     "shell.execute_reply": "2022-12-25T15:39:04.237891Z"
    },
    "papermill": {
     "duration": 0.065059,
     "end_time": "2022-12-25T15:39:04.238034",
     "exception": false,
     "start_time": "2022-12-25T15:39:04.172975",
     "status": "completed"
    },
    "tags": []
   },
   "outputs": [],
   "source": [
    "class ProjectionHead(nn.Module):\n",
    "    def __init__(\n",
    "        self,\n",
    "        embedding_dim,\n",
    "        projection_dim=CFG.projection_dim,\n",
    "        dropout=CFG.dropout\n",
    "    ):\n",
    "        super().__init__()\n",
    "        self.projection = nn.Linear(embedding_dim, projection_dim)\n",
    "        self.gelu = nn.GELU()\n",
    "        self.fc = nn.Linear(projection_dim, projection_dim)\n",
    "        self.dropout = nn.Dropout(dropout)\n",
    "        self.layer_norm = nn.LayerNorm(projection_dim)\n",
    "    \n",
    "    def forward(self, x):\n",
    "        projected = self.projection(x)\n",
    "        x = self.gelu(projected)\n",
    "        x = self.fc(x)\n",
    "        x = self.dropout(x)\n",
    "        x = x + projected\n",
    "        x = self.layer_norm(x)\n",
    "        return x"
   ]
  },
  {
   "cell_type": "markdown",
   "id": "provincial-modification",
   "metadata": {
    "papermill": {
     "duration": 0.055412,
     "end_time": "2022-12-25T15:39:04.350117",
     "exception": false,
     "start_time": "2022-12-25T15:39:04.294705",
     "status": "completed"
    },
    "tags": []
   },
   "source": [
    "## CLIP"
   ]
  },
  {
   "cell_type": "markdown",
   "id": "fuzzy-wonder",
   "metadata": {
    "papermill": {
     "duration": 0.057364,
     "end_time": "2022-12-25T15:39:04.463183",
     "exception": false,
     "start_time": "2022-12-25T15:39:04.405819",
     "status": "completed"
    },
    "tags": []
   },
   "source": [
    "This part is where all the fun happens! I'll also talk about the loss function here. I translated some of the code from Keras code examples into PyTorch for writing this part. Take a look at the code and then read the explanation below this code block."
   ]
  },
  {
   "cell_type": "markdown",
   "id": "speaking-ozone",
   "metadata": {
    "papermill": {
     "duration": 0.055961,
     "end_time": "2022-12-25T15:39:04.575893",
     "exception": false,
     "start_time": "2022-12-25T15:39:04.519932",
     "status": "completed"
    },
    "tags": []
   },
   "source": [
    "Here we will use the previous modules that we built to implement the main model. The \\_\\_init\\_\\_ function is self-explanatory. In the forward function, we first encode the images and texts separately into fixed size vectors (with different dimensionalities). After that, using separate projection modules we project them to that shared world (space) that I talked about previously. Here the encodings will become of similar shape (256 in our case). After that we will compute the loss. Again I recommend reading CLIP paper to get it better but I'll try my best to explain this part.\n",
    "\n",
    "In **Linear Algebra**, one common way to measure if two vectors are of similar characteristics (they are like each other) is to calculate their **dot product** (multiplying the matching entries and take the sum of them); if the final number is big, they are alike and if it is small they are not (relatively speaking)!"
   ]
  },
  {
   "cell_type": "markdown",
   "id": "simplified-priest",
   "metadata": {
    "papermill": {
     "duration": 0.055705,
     "end_time": "2022-12-25T15:39:04.687160",
     "exception": false,
     "start_time": "2022-12-25T15:39:04.631455",
     "status": "completed"
    },
    "tags": []
   },
   "source": [
    "Okay! What I just said is the most important thing to have in mind to understand this loss function. Let's continue. We talked about two vectors, but, what do we have here? We have image_embeddings, a matrix with shape (batch_size, 256) and text_embeddings with shape (batch_size, 256). Easy enough! it means we have two groups of vectors instead of two single vectors. How do we measure how similar two groups of vectors (two matrices) are to each other? Again, with dot product (@ operator in PyTorch does the dot product or matrix multiplication in this case). To be able to multiply these two matrices together, we transpose the second one. Okay, we get a matrix with shape (batch_size, batch_size) which we will call logits. (temperature is equal to 1.0 in our case, so, it does not make a difference. You can play with it and see what difference it makes. Also look at the paper to see why it is here!)."
   ]
  },
  {
   "cell_type": "markdown",
   "id": "protective-incident",
   "metadata": {
    "papermill": {
     "duration": 0.055715,
     "end_time": "2022-12-25T15:39:04.798079",
     "exception": false,
     "start_time": "2022-12-25T15:39:04.742364",
     "status": "completed"
    },
    "tags": []
   },
   "source": [
    "I hope you are still with me! If not it's okay, just review the code and check their shapes. Now that we have our logits, we need targets. I need to say that there is a more straight forward way to obtain targets but I had to do this for our case (I'll talk about why in a next paragraph)."
   ]
  },
  {
   "cell_type": "markdown",
   "id": "moved-carter",
   "metadata": {
    "papermill": {
     "duration": 0.058386,
     "end_time": "2022-12-25T15:39:04.912324",
     "exception": false,
     "start_time": "2022-12-25T15:39:04.853938",
     "status": "completed"
    },
    "tags": []
   },
   "source": [
    "Let's consider what we hope that this model learns: **we want it to learn \"similar representations (vectors)\" for a given image and the caption describing it. Meaning that either we give it an image or the text describing it, we want it to produce same 256 sized vectors for both.**"
   ]
  },
  {
   "cell_type": "markdown",
   "id": "varied-payroll",
   "metadata": {
    "papermill": {
     "duration": 0.058113,
     "end_time": "2022-12-25T15:39:05.028941",
     "exception": false,
     "start_time": "2022-12-25T15:39:04.970828",
     "status": "completed"
    },
    "tags": []
   },
   "source": [
    "#### Check the cell below this code block for the continue of the explanations"
   ]
  },
  {
   "cell_type": "code",
   "execution_count": 36,
   "id": "renewable-michael",
   "metadata": {
    "execution": {
     "iopub.execute_input": "2022-12-25T15:39:05.150706Z",
     "iopub.status.busy": "2022-12-25T15:39:05.149868Z",
     "iopub.status.idle": "2022-12-25T15:39:05.152306Z",
     "shell.execute_reply": "2022-12-25T15:39:05.152689Z"
    },
    "papermill": {
     "duration": 0.067383,
     "end_time": "2022-12-25T15:39:05.152838",
     "exception": false,
     "start_time": "2022-12-25T15:39:05.085455",
     "status": "completed"
    },
    "tags": []
   },
   "outputs": [],
   "source": [
    "class CLIPModel(nn.Module):\n",
    "    def __init__(\n",
    "        self,\n",
    "        temperature=CFG.temperature,\n",
    "        image_embedding=CFG.image_embedding,\n",
    "        text_embedding=CFG.text_embedding,\n",
    "    ):\n",
    "        super().__init__()\n",
    "        self.image_encoder = ImageEncoder()\n",
    "        self.text_encoder = TextEncoder()\n",
    "        self.image_projection = ProjectionHead(embedding_dim=image_embedding)\n",
    "        self.text_projection = ProjectionHead(embedding_dim=text_embedding)\n",
    "        self.temperature = temperature\n",
    "\n",
    "    def forward(self, batch):\n",
    "        # Getting Image and Text Features\n",
    "        image_features = self.image_encoder(batch[\"image\"])\n",
    "        text_features = self.text_encoder(\n",
    "            input_ids=batch[\"input_ids\"], attention_mask=batch[\"attention_mask\"]\n",
    "        )\n",
    "        # Getting Image and Text Embeddings (with same dimension)\n",
    "        image_embeddings = self.image_projection(image_features)\n",
    "        text_embeddings = self.text_projection(text_features)\n",
    "\n",
    "        # Calculating the Loss\n",
    "        logits = (text_embeddings @ image_embeddings.T) / self.temperature\n",
    "        images_similarity = image_embeddings @ image_embeddings.T\n",
    "        texts_similarity = text_embeddings @ text_embeddings.T\n",
    "        targets = F.softmax(\n",
    "            (images_similarity + texts_similarity) / 2 * self.temperature, dim=-1\n",
    "        )\n",
    "        texts_loss = cross_entropy(logits, targets, reduction='none')\n",
    "        images_loss = cross_entropy(logits.T, targets.T, reduction='none')\n",
    "        loss =  (images_loss + texts_loss) / 2.0 # shape: (batch_size)\n",
    "        return loss.mean()\n",
    "\n",
    "\n",
    "def cross_entropy(preds, targets, reduction='none'):\n",
    "    log_softmax = nn.LogSoftmax(dim=-1)\n",
    "    loss = (-targets * log_softmax(preds)).sum(1)\n",
    "    if reduction == \"none\":\n",
    "        return loss\n",
    "    elif reduction == \"mean\":\n",
    "        return loss.mean()"
   ]
  },
  {
   "cell_type": "markdown",
   "id": "expected-judgment",
   "metadata": {
    "papermill": {
     "duration": 0.055579,
     "end_time": "2022-12-25T15:39:05.264001",
     "exception": false,
     "start_time": "2022-12-25T15:39:05.208422",
     "status": "completed"
    },
    "tags": []
   },
   "source": [
    "So, in the best case scenario, text_embeddings and image_embedding matricies should be the same because they are describing similar things. Let's think now: if this happens, what would the logits matrix be like? Let's see with a simple example!"
   ]
  },
  {
   "cell_type": "code",
   "execution_count": 37,
   "id": "spectacular-commercial",
   "metadata": {
    "execution": {
     "iopub.execute_input": "2022-12-25T15:39:05.381817Z",
     "iopub.status.busy": "2022-12-25T15:39:05.381089Z",
     "iopub.status.idle": "2022-12-25T15:39:05.509476Z",
     "shell.execute_reply": "2022-12-25T15:39:05.510064Z"
    },
    "papermill": {
     "duration": 0.190286,
     "end_time": "2022-12-25T15:39:05.510272",
     "exception": false,
     "start_time": "2022-12-25T15:39:05.319986",
     "status": "completed"
    },
    "tags": []
   },
   "outputs": [
    {
     "name": "stdout",
     "output_type": "stream",
     "text": [
      "tensor([[1., 0., 0., 0.],\n",
      "        [0., 1., 0., 0.],\n",
      "        [0., 0., 1., 0.],\n",
      "        [0., 0., 0., 1.]])\n"
     ]
    }
   ],
   "source": [
    "# A simple Example\n",
    "\n",
    "batch_size = 4\n",
    "dim = 256\n",
    "embeddings = torch.randn(batch_size, dim)\n",
    "out = embeddings @ embeddings.T\n",
    "print(F.softmax(out, dim=-1))"
   ]
  },
  {
   "cell_type": "markdown",
   "id": "compound-boutique",
   "metadata": {
    "papermill": {
     "duration": 0.055364,
     "end_time": "2022-12-25T15:39:05.622906",
     "exception": false,
     "start_time": "2022-12-25T15:39:05.567542",
     "status": "completed"
    },
    "tags": []
   },
   "source": [
    "So logits, in the best case, will be a matrix that if we take its softmax, will have 1.0s in the diagonal (An identity matrix to call it with fancy words!). As the loss function's job is to make model's predictions similar to targets (at least in most cases!), we want such a matrix as our target. That's the reason why we are calculating images_similarity and texts_similarity matrices in the code block above."
   ]
  },
  {
   "cell_type": "markdown",
   "id": "gentle-diary",
   "metadata": {
    "papermill": {
     "duration": 0.059644,
     "end_time": "2022-12-25T15:39:05.740071",
     "exception": false,
     "start_time": "2022-12-25T15:39:05.680427",
     "status": "completed"
    },
    "tags": []
   },
   "source": [
    "Now that we've got our targets matrix, we will use simple cross entropy to calculate the actual loss. I've written the full matrix form of cross entropy as a function which you can see in the bottom of the code block. Okay! We are done! Wasn't it simple?! Alright, you can ignore the next paragraph but if you are curious, there is an important note in that."
   ]
  },
  {
   "cell_type": "markdown",
   "id": "aggressive-undergraduate",
   "metadata": {
    "papermill": {
     "duration": 0.059692,
     "end_time": "2022-12-25T15:39:05.857786",
     "exception": false,
     "start_time": "2022-12-25T15:39:05.798094",
     "status": "completed"
    },
    "tags": []
   },
   "source": [
    "**Here's why I didn't use a simpler approach**: I need to admit that there's a simpler way to calculate this loss in PyTorch; by doing this: nn.CrossEntropyLoss()(logits, torch.arange(batch_size)). Why I did not use it here? For 2 reasons. 1- The dataset we are using has multiple captions for a single image; so, there is the possibility that two identical images with their similar captions exist in a batch (it is rare but it can happen). Taking the loss with this easier method will ignore this possibility and the model learns to pull apart two representations (assume them different)  that are actually the same. Obviously, we don't want this to happen so I calculated the whole target matrix in a way that takes care of these edge cases. 2- Doing it the way I did, gave me a better understanding of what is happening in this loss function; so, I thought it would give you a better intuition as well!"
   ]
  },
  {
   "cell_type": "markdown",
   "id": "illegal-guest",
   "metadata": {
    "papermill": {
     "duration": 0.056472,
     "end_time": "2022-12-25T15:39:05.969859",
     "exception": false,
     "start_time": "2022-12-25T15:39:05.913387",
     "status": "completed"
    },
    "tags": []
   },
   "source": [
    "<a id=\"5\"></a><br>\n",
    "## Training The Model"
   ]
  },
  {
   "cell_type": "markdown",
   "id": "matched-doctrine",
   "metadata": {
    "papermill": {
     "duration": 0.055788,
     "end_time": "2022-12-25T15:39:06.085846",
     "exception": false,
     "start_time": "2022-12-25T15:39:06.030058",
     "status": "completed"
    },
    "tags": []
   },
   "source": [
    "## Train"
   ]
  },
  {
   "cell_type": "markdown",
   "id": "round-advertiser",
   "metadata": {
    "papermill": {
     "duration": 0.055753,
     "end_time": "2022-12-25T15:39:06.197879",
     "exception": false,
     "start_time": "2022-12-25T15:39:06.142126",
     "status": "completed"
    },
    "tags": []
   },
   "source": [
    "Here are some funtions to help us load train and valid dataloaders, our model and then train and evaluate our model on those. There's not much going on here; just simple training loop and utility functions"
   ]
  },
  {
   "cell_type": "code",
   "execution_count": 38,
   "id": "transsexual-jewel",
   "metadata": {
    "execution": {
     "iopub.execute_input": "2022-12-25T15:39:06.318937Z",
     "iopub.status.busy": "2022-12-25T15:39:06.318105Z",
     "iopub.status.idle": "2022-12-25T15:39:06.321042Z",
     "shell.execute_reply": "2022-12-25T15:39:06.320629Z"
    },
    "papermill": {
     "duration": 0.066263,
     "end_time": "2022-12-25T15:39:06.321187",
     "exception": false,
     "start_time": "2022-12-25T15:39:06.254924",
     "status": "completed"
    },
    "tags": []
   },
   "outputs": [],
   "source": [
    "def make_train_valid_dfs():\n",
    "    dataframe = pd.read_csv(f\"{CFG.captions_path}/captions2.csv\")\n",
    "    max_id = dataframe[\"id\"].max() + 1 if not CFG.debug else 100\n",
    "    image_ids = np.arange(0, max_id)\n",
    "    np.random.seed(42)\n",
    "    valid_ids = np.random.choice(\n",
    "        image_ids, size=int(0.2 * len(image_ids)), replace=False\n",
    "    )\n",
    "    train_ids = [id_ for id_ in image_ids if id_ not in valid_ids]\n",
    "    train_dataframe = dataframe[dataframe[\"id\"].isin(train_ids)].reset_index(drop=True)\n",
    "    valid_dataframe = dataframe[dataframe[\"id\"].isin(valid_ids)].reset_index(drop=True)\n",
    "    return train_dataframe, valid_dataframe\n",
    "    return train_dataframe, valid_dataframe\n",
    "\n",
    "\n",
    "def build_loaders(dataframe, tokenizer, mode):\n",
    "    transforms = get_transforms(mode=mode)\n",
    "    dataset = CLIPDataset(\n",
    "        dataframe[\"image\"].values,\n",
    "        dataframe[\"caption\"].values,\n",
    "        tokenizer=tokenizer,\n",
    "        transforms=transforms,\n",
    "    )\n",
    "    dataloader = torch.utils.data.DataLoader(\n",
    "        dataset,\n",
    "        batch_size=CFG.batch_size,\n",
    "        num_workers=CFG.num_workers,\n",
    "        shuffle=True if mode == \"train\" else False,\n",
    "    )\n",
    "    return dataloader"
   ]
  },
  {
   "cell_type": "markdown",
   "id": "incident-symposium",
   "metadata": {
    "papermill": {
     "duration": 0.057547,
     "end_time": "2022-12-25T15:39:06.434555",
     "exception": false,
     "start_time": "2022-12-25T15:39:06.377008",
     "status": "completed"
    },
    "tags": []
   },
   "source": [
    "Here's a handy function to train our model. There's not much happening here; just loading the batches, feeding them to the model and stepping the optimizer and lr_scheduler."
   ]
  },
  {
   "cell_type": "code",
   "execution_count": 39,
   "id": "nominated-childhood",
   "metadata": {
    "execution": {
     "iopub.execute_input": "2022-12-25T15:39:06.565111Z",
     "iopub.status.busy": "2022-12-25T15:39:06.564324Z",
     "iopub.status.idle": "2022-12-25T15:39:06.567195Z",
     "shell.execute_reply": "2022-12-25T15:39:06.566759Z"
    },
    "papermill": {
     "duration": 0.075872,
     "end_time": "2022-12-25T15:39:06.567315",
     "exception": false,
     "start_time": "2022-12-25T15:39:06.491443",
     "status": "completed"
    },
    "tags": []
   },
   "outputs": [],
   "source": [
    "def train_epoch(model, train_loader, optimizer, lr_scheduler, step):\n",
    "    loss_meter = AvgMeter()\n",
    "    tqdm_object = tqdm(train_loader, total=len(train_loader))\n",
    "    for batch in tqdm_object:\n",
    "        batch = {k: v.to(CFG.device) for k, v in batch.items() if k != \"caption\"}\n",
    "        loss = model(batch)\n",
    "        optimizer.zero_grad()\n",
    "        loss.backward()\n",
    "        optimizer.step()\n",
    "        if step == \"batch\":\n",
    "            lr_scheduler.step()\n",
    "\n",
    "        count = batch[\"image\"].size(0)\n",
    "        loss_meter.update(loss.item(), count)\n",
    "\n",
    "        tqdm_object.set_postfix(train_loss=loss_meter.avg, lr=get_lr(optimizer))\n",
    "    return loss_meter\n",
    "\n",
    "\n",
    "def valid_epoch(model, valid_loader):\n",
    "    loss_meter = AvgMeter()\n",
    "\n",
    "    tqdm_object = tqdm(valid_loader, total=len(valid_loader))\n",
    "    for batch in tqdm_object:\n",
    "        batch = {k: v.to(CFG.device) for k, v in batch.items() if k != \"caption\"}\n",
    "        loss = model(batch)\n",
    "\n",
    "        count = batch[\"image\"].size(0)\n",
    "        loss_meter.update(loss.item(), count)\n",
    "\n",
    "        tqdm_object.set_postfix(valid_loss=loss_meter.avg)\n",
    "    return loss_meter\n",
    "\n",
    "\n",
    "def main():\n",
    "    train_df, valid_df = make_train_valid_dfs()\n",
    "    print(train_df.shape, valid_df.shape)\n",
    "#     pause.pause\n",
    "    tokenizer = DistilBertTokenizer.from_pretrained(CFG.text_tokenizer)\n",
    "    train_loader = build_loaders(train_df, tokenizer, mode=\"train\")\n",
    "    valid_loader = build_loaders(valid_df, tokenizer, mode=\"valid\")\n",
    "\n",
    "\n",
    "    model = CLIPModel().to(CFG.device)\n",
    "    params = [\n",
    "        {\"params\": model.image_encoder.parameters(), \"lr\": CFG.image_encoder_lr},\n",
    "        {\"params\": model.text_encoder.parameters(), \"lr\": CFG.text_encoder_lr},\n",
    "        {\"params\": itertools.chain(\n",
    "            model.image_projection.parameters(), model.text_projection.parameters()\n",
    "        ), \"lr\": CFG.head_lr, \"weight_decay\": CFG.weight_decay}\n",
    "    ]\n",
    "    optimizer = torch.optim.AdamW(params, weight_decay=0.)\n",
    "    lr_scheduler = torch.optim.lr_scheduler.ReduceLROnPlateau(\n",
    "        optimizer, mode=\"min\", patience=CFG.patience, factor=CFG.factor\n",
    "    )\n",
    "    step = \"epoch\"\n",
    "\n",
    "    best_loss = float('inf')\n",
    "    for epoch in range(CFG.epochs):\n",
    "        print(f\"Epoch: {epoch + 1}\")\n",
    "        model.train()\n",
    "        train_loss = train_epoch(model, train_loader, optimizer, lr_scheduler, step)\n",
    "        model.eval()\n",
    "        with torch.no_grad():\n",
    "            valid_loss = valid_epoch(model, valid_loader)\n",
    "        \n",
    "        if valid_loss.avg < best_loss:\n",
    "            best_loss = valid_loss.avg\n",
    "            torch.save(model.state_dict(), \"best.pt\")\n",
    "            print(\"Saved Best Model!\")\n",
    "        \n",
    "        lr_scheduler.step(valid_loss.avg)"
   ]
  },
  {
   "cell_type": "markdown",
   "id": "wound-arthritis",
   "metadata": {
    "papermill": {
     "duration": 0.056192,
     "end_time": "2022-12-25T15:39:06.679644",
     "exception": false,
     "start_time": "2022-12-25T15:39:06.623452",
     "status": "completed"
    },
    "tags": []
   },
   "source": [
    "Running the next cell start training the model. Put the kernel on GPU mode. Every epoch should take about 24 minutes on GPU (even one epoch is enough!). It can take one minute before training actually starts because we are going to encode all the captions once in the train and valid dataset, so please don't stop it! Every thing is working fine."
   ]
  },
  {
   "cell_type": "code",
   "execution_count": 40,
   "id": "textile-factory",
   "metadata": {
    "execution": {
     "iopub.execute_input": "2022-12-25T15:39:06.796241Z",
     "iopub.status.busy": "2022-12-25T15:39:06.795267Z",
     "iopub.status.idle": "2022-12-25T15:45:53.446777Z",
     "shell.execute_reply": "2022-12-25T15:45:53.448238Z"
    },
    "papermill": {
     "duration": 406.712956,
     "end_time": "2022-12-25T15:45:53.448550",
     "exception": false,
     "start_time": "2022-12-25T15:39:06.735594",
     "status": "completed"
    },
    "tags": []
   },
   "outputs": [
    {
     "name": "stdout",
     "output_type": "stream",
     "text": [
      "(20320, 4) (5080, 4)\n"
     ]
    },
    {
     "data": {
      "application/vnd.jupyter.widget-view+json": {
       "model_id": "119b793493f54a9798fc805413a26a31",
       "version_major": 2,
       "version_minor": 0
      },
      "text/plain": [
       "Downloading:   0%|          | 0.00/232k [00:00<?, ?B/s]"
      ]
     },
     "metadata": {},
     "output_type": "display_data"
    },
    {
     "data": {
      "application/vnd.jupyter.widget-view+json": {
       "model_id": "068cbf044c39425bb964e2da46cded9c",
       "version_major": 2,
       "version_minor": 0
      },
      "text/plain": [
       "Downloading:   0%|          | 0.00/28.0 [00:00<?, ?B/s]"
      ]
     },
     "metadata": {},
     "output_type": "display_data"
    },
    {
     "data": {
      "application/vnd.jupyter.widget-view+json": {
       "model_id": "fcbc8869f8794d0c81ea2c5bf73a6230",
       "version_major": 2,
       "version_minor": 0
      },
      "text/plain": [
       "Downloading:   0%|          | 0.00/466k [00:00<?, ?B/s]"
      ]
     },
     "metadata": {},
     "output_type": "display_data"
    },
    {
     "name": "stdout",
     "output_type": "stream",
     "text": [
      "20320\n",
      "5080\n"
     ]
    },
    {
     "name": "stderr",
     "output_type": "stream",
     "text": [
      "Downloading: \"https://github.com/rwightman/pytorch-image-models/releases/download/v0.1-rsb-weights/resnet50_a1_0-14fe96d1.pth\" to /root/.cache/torch/hub/checkpoints/resnet50_a1_0-14fe96d1.pth\n"
     ]
    },
    {
     "data": {
      "application/vnd.jupyter.widget-view+json": {
       "model_id": "1c0ebc9fb6a64140b5c5a4ca70d7b36a",
       "version_major": 2,
       "version_minor": 0
      },
      "text/plain": [
       "Downloading:   0%|          | 0.00/483 [00:00<?, ?B/s]"
      ]
     },
     "metadata": {},
     "output_type": "display_data"
    },
    {
     "data": {
      "application/vnd.jupyter.widget-view+json": {
       "model_id": "63d432b4a19641588562197c432ae526",
       "version_major": 2,
       "version_minor": 0
      },
      "text/plain": [
       "Downloading:   0%|          | 0.00/268M [00:00<?, ?B/s]"
      ]
     },
     "metadata": {},
     "output_type": "display_data"
    },
    {
     "name": "stdout",
     "output_type": "stream",
     "text": [
      "Epoch: 1\n"
     ]
    },
    {
     "data": {
      "application/vnd.jupyter.widget-view+json": {
       "model_id": "ff36853d8f0449fbba25a3acc0d0d62c",
       "version_major": 2,
       "version_minor": 0
      },
      "text/plain": [
       "  0%|          | 0/635 [00:00<?, ?it/s]"
      ]
     },
     "metadata": {},
     "output_type": "display_data"
    },
    {
     "data": {
      "application/vnd.jupyter.widget-view+json": {
       "model_id": "3bae0bebbee64d8595961d958631c5a9",
       "version_major": 2,
       "version_minor": 0
      },
      "text/plain": [
       "  0%|          | 0/159 [00:00<?, ?it/s]"
      ]
     },
     "metadata": {},
     "output_type": "display_data"
    },
    {
     "name": "stdout",
     "output_type": "stream",
     "text": [
      "Saved Best Model!\n",
      "Epoch: 2\n"
     ]
    },
    {
     "data": {
      "application/vnd.jupyter.widget-view+json": {
       "model_id": "799638a14508447d852fe4e5a05154ac",
       "version_major": 2,
       "version_minor": 0
      },
      "text/plain": [
       "  0%|          | 0/635 [00:00<?, ?it/s]"
      ]
     },
     "metadata": {},
     "output_type": "display_data"
    },
    {
     "data": {
      "application/vnd.jupyter.widget-view+json": {
       "model_id": "56d9da03c9554184ab49708627daba13",
       "version_major": 2,
       "version_minor": 0
      },
      "text/plain": [
       "  0%|          | 0/159 [00:00<?, ?it/s]"
      ]
     },
     "metadata": {},
     "output_type": "display_data"
    },
    {
     "name": "stdout",
     "output_type": "stream",
     "text": [
      "Saved Best Model!\n"
     ]
    }
   ],
   "source": [
    "main()"
   ]
  },
  {
   "cell_type": "markdown",
   "id": "given-merchant",
   "metadata": {
    "papermill": {
     "duration": 0.069073,
     "end_time": "2022-12-25T15:45:53.581756",
     "exception": false,
     "start_time": "2022-12-25T15:45:53.512683",
     "status": "completed"
    },
    "tags": []
   },
   "source": [
    "## Inference"
   ]
  },
  {
   "cell_type": "markdown",
   "id": "editorial-storage",
   "metadata": {
    "papermill": {
     "duration": 0.060888,
     "end_time": "2022-12-25T15:45:53.703631",
     "exception": false,
     "start_time": "2022-12-25T15:45:53.642743",
     "status": "completed"
    },
    "tags": []
   },
   "source": [
    "Okay! We are done with training the model. Now, we need to do inference which in our case will be giving the model a piece of text and want it to retrieve the most relevant images from an unseen validation (or test) set."
   ]
  },
  {
   "cell_type": "markdown",
   "id": "neural-handle",
   "metadata": {
    "papermill": {
     "duration": 0.060382,
     "end_time": "2022-12-25T15:45:53.824371",
     "exception": false,
     "start_time": "2022-12-25T15:45:53.763989",
     "status": "completed"
    },
    "tags": []
   },
   "source": [
    "### Getting Image Embeddings"
   ]
  },
  {
   "cell_type": "markdown",
   "id": "available-canada",
   "metadata": {
    "papermill": {
     "duration": 0.0605,
     "end_time": "2022-12-25T15:45:53.945552",
     "exception": false,
     "start_time": "2022-12-25T15:45:53.885052",
     "status": "completed"
    },
    "tags": []
   },
   "source": [
    "In this function, we are loading the model that we saved after training, feeding it images in validation set and returning the image_embeddings with shape (valid_set_size, 256) and the model itself."
   ]
  },
  {
   "cell_type": "code",
   "execution_count": 41,
   "id": "architectural-response",
   "metadata": {
    "execution": {
     "iopub.execute_input": "2022-12-25T15:45:54.074246Z",
     "iopub.status.busy": "2022-12-25T15:45:54.073455Z",
     "iopub.status.idle": "2022-12-25T15:45:54.076277Z",
     "shell.execute_reply": "2022-12-25T15:45:54.075766Z"
    },
    "papermill": {
     "duration": 0.07044,
     "end_time": "2022-12-25T15:45:54.076463",
     "exception": false,
     "start_time": "2022-12-25T15:45:54.006023",
     "status": "completed"
    },
    "tags": []
   },
   "outputs": [],
   "source": [
    "def get_image_embeddings(valid_df, model_path):\n",
    "    tokenizer = DistilBertTokenizer.from_pretrained(CFG.text_tokenizer)\n",
    "    valid_loader = build_loaders(valid_df, tokenizer, mode=\"valid\")\n",
    "    \n",
    "    model = CLIPModel().to(CFG.device)\n",
    "    model.load_state_dict(torch.load(model_path, map_location=CFG.device))\n",
    "    model.eval()\n",
    "    \n",
    "    valid_image_embeddings = []\n",
    "    with torch.no_grad():\n",
    "        for batch in tqdm(valid_loader):\n",
    "            image_features = model.image_encoder(batch[\"image\"].to(CFG.device))\n",
    "            image_embeddings = model.image_projection(image_features)\n",
    "            valid_image_embeddings.append(image_embeddings)\n",
    "    return model, torch.cat(valid_image_embeddings)"
   ]
  },
  {
   "cell_type": "code",
   "execution_count": 42,
   "id": "metric-taxation",
   "metadata": {
    "execution": {
     "iopub.execute_input": "2022-12-25T15:45:54.204985Z",
     "iopub.status.busy": "2022-12-25T15:45:54.204291Z",
     "iopub.status.idle": "2022-12-25T15:46:23.429618Z",
     "shell.execute_reply": "2022-12-25T15:46:23.429096Z"
    },
    "papermill": {
     "duration": 29.29156,
     "end_time": "2022-12-25T15:46:23.429761",
     "exception": false,
     "start_time": "2022-12-25T15:45:54.138201",
     "status": "completed"
    },
    "tags": []
   },
   "outputs": [
    {
     "name": "stdout",
     "output_type": "stream",
     "text": [
      "5080\n"
     ]
    },
    {
     "data": {
      "application/vnd.jupyter.widget-view+json": {
       "model_id": "ab2be1bbbb9548c2a49344d482761a15",
       "version_major": 2,
       "version_minor": 0
      },
      "text/plain": [
       "  0%|          | 0/159 [00:00<?, ?it/s]"
      ]
     },
     "metadata": {},
     "output_type": "display_data"
    }
   ],
   "source": [
    "_, valid_df = make_train_valid_dfs()\n",
    "model, image_embeddings = get_image_embeddings(valid_df, \"best.pt\")"
   ]
  },
  {
   "cell_type": "markdown",
   "id": "provincial-legend",
   "metadata": {
    "papermill": {
     "duration": 0.061542,
     "end_time": "2022-12-25T15:46:23.553901",
     "exception": false,
     "start_time": "2022-12-25T15:46:23.492359",
     "status": "completed"
    },
    "tags": []
   },
   "source": [
    "### Finding Matches"
   ]
  },
  {
   "cell_type": "markdown",
   "id": "rapid-clarity",
   "metadata": {
    "papermill": {
     "duration": 0.062235,
     "end_time": "2022-12-25T15:46:23.676930",
     "exception": false,
     "start_time": "2022-12-25T15:46:23.614695",
     "status": "completed"
    },
    "tags": []
   },
   "source": [
    "This function does the final task that we wished our model would be capable of: it gets the model, image_embeddings, and a text query. It will display the most relevant images from the validation set! Isn't it amazing? Let's see how it performs after all!"
   ]
  },
  {
   "cell_type": "code",
   "execution_count": 43,
   "id": "greek-diesel",
   "metadata": {
    "execution": {
     "iopub.execute_input": "2022-12-25T15:46:23.812384Z",
     "iopub.status.busy": "2022-12-25T15:46:23.810603Z",
     "iopub.status.idle": "2022-12-25T15:46:23.812980Z",
     "shell.execute_reply": "2022-12-25T15:46:23.813426Z"
    },
    "papermill": {
     "duration": 0.073843,
     "end_time": "2022-12-25T15:46:23.813571",
     "exception": false,
     "start_time": "2022-12-25T15:46:23.739728",
     "status": "completed"
    },
    "tags": []
   },
   "outputs": [],
   "source": [
    "def find_matches(model, image_embeddings, query, image_filenames, n=9):\n",
    "    tokenizer = DistilBertTokenizer.from_pretrained(CFG.text_tokenizer)\n",
    "    encoded_query = tokenizer([query])\n",
    "    batch = {\n",
    "        key: torch.tensor(values).to(CFG.device)\n",
    "        for key, values in encoded_query.items()\n",
    "    }\n",
    "    with torch.no_grad():\n",
    "        text_features = model.text_encoder(\n",
    "            input_ids=batch[\"input_ids\"], attention_mask=batch[\"attention_mask\"]\n",
    "        )\n",
    "        text_embeddings = model.text_projection(text_features)\n",
    "    \n",
    "    image_embeddings_n = F.normalize(image_embeddings, p=2, dim=-1)\n",
    "    text_embeddings_n = F.normalize(text_embeddings, p=2, dim=-1)\n",
    "    dot_similarity = text_embeddings_n @ image_embeddings_n.T\n",
    "    \n",
    "    values, indices = torch.topk(dot_similarity.squeeze(0), n * 5)\n",
    "    matches = [image_filenames[idx] for idx in indices[::5]]\n",
    "    \n",
    "    _, axes = plt.subplots(3, 3, figsize=(10, 10))\n",
    "    for match, ax in zip(matches, axes.flatten()):\n",
    "        print(match)\n",
    "        image = cv2.imread(f\"{CFG.image_path}/{match}\")\n",
    "        image = cv2.cvtColor(image, cv2.COLOR_BGR2RGB)\n",
    "        ax.imshow(image)\n",
    "        ax.axis(\"off\")\n",
    "    \n",
    "    plt.show()"
   ]
  },
  {
   "cell_type": "markdown",
   "id": "minus-given",
   "metadata": {
    "papermill": {
     "duration": 0.061823,
     "end_time": "2022-12-25T15:46:23.936709",
     "exception": false,
     "start_time": "2022-12-25T15:46:23.874886",
     "status": "completed"
    },
    "tags": []
   },
   "source": [
    "This is how we use this function. Aaaannnndddd the results:"
   ]
  },
  {
   "cell_type": "markdown",
   "id": "flush-sandwich",
   "metadata": {
    "papermill": {
     "duration": 0.062814,
     "end_time": "2022-12-25T15:46:24.108519",
     "exception": false,
     "start_time": "2022-12-25T15:46:24.045705",
     "status": "completed"
    },
    "tags": []
   },
   "source": [
    "To test our model, we use a query from the tabular data. "
   ]
  },
  {
   "cell_type": "markdown",
   "id": "everyday-collective",
   "metadata": {
    "papermill": {
     "duration": 0.06386,
     "end_time": "2022-12-25T15:46:24.237418",
     "exception": false,
     "start_time": "2022-12-25T15:46:24.173558",
     "status": "completed"
    },
    "tags": []
   },
   "source": [
    "<a id=\"6\"></a><br>\n",
    "## Observing the Results"
   ]
  },
  {
   "cell_type": "code",
   "execution_count": 44,
   "id": "living-glossary",
   "metadata": {
    "execution": {
     "iopub.execute_input": "2022-12-25T15:46:24.370885Z",
     "iopub.status.busy": "2022-12-25T15:46:24.370199Z",
     "iopub.status.idle": "2022-12-25T15:46:24.382029Z",
     "shell.execute_reply": "2022-12-25T15:46:24.382634Z"
    },
    "papermill": {
     "duration": 0.082591,
     "end_time": "2022-12-25T15:46:24.382835",
     "exception": false,
     "start_time": "2022-12-25T15:46:24.300244",
     "status": "completed"
    },
    "tags": []
   },
   "outputs": [
    {
     "name": "stdout",
     "output_type": "stream",
     "text": [
      "0 0 0 1 0 0 1 1 1 1 33 5 m asian no no family member\n"
     ]
    },
    {
     "data": {
      "text/plain": [
       "array(['Autistic.993.jpg', 'Autistic.993.jpg', 'Autistic.993.jpg', ...,\n",
       "       'Autistic.1042.jpg', 'Autistic.1042.jpg', 'Autistic.1042.jpg'],\n",
       "      dtype=object)"
      ]
     },
     "execution_count": 44,
     "metadata": {},
     "output_type": "execute_result"
    }
   ],
   "source": [
    "qr = str(vals_1[45])\n",
    "print(qr)\n",
    "valid_df['image'].values"
   ]
  },
  {
   "cell_type": "markdown",
   "id": "reserved-triple",
   "metadata": {
    "papermill": {
     "duration": 0.062568,
     "end_time": "2022-12-25T15:46:24.508011",
     "exception": false,
     "start_time": "2022-12-25T15:46:24.445443",
     "status": "completed"
    },
    "tags": []
   },
   "source": [
    "If the model gives output of the same class as the input, we can be sure that our model works in finding similarities between same class data.\n",
    "\n",
    "**We can observe the class from the image names.**"
   ]
  },
  {
   "cell_type": "code",
   "execution_count": 45,
   "id": "extreme-patch",
   "metadata": {
    "execution": {
     "iopub.execute_input": "2022-12-25T15:46:24.640233Z",
     "iopub.status.busy": "2022-12-25T15:46:24.638118Z",
     "iopub.status.idle": "2022-12-25T15:46:26.101935Z",
     "shell.execute_reply": "2022-12-25T15:46:26.102387Z"
    },
    "papermill": {
     "duration": 1.531956,
     "end_time": "2022-12-25T15:46:26.102548",
     "exception": false,
     "start_time": "2022-12-25T15:46:24.570592",
     "status": "completed"
    },
    "tags": []
   },
   "outputs": [
    {
     "name": "stdout",
     "output_type": "stream",
     "text": [
      "Autistic.301.jpg\n",
      "Autistic.765.jpg\n",
      "Autistic.266.jpg\n",
      "Autistic.412.jpg\n",
      "Autistic.428.jpg\n",
      "Autistic.439.jpg\n",
      "Autistic.1187.jpg\n",
      "Autistic.1187.jpg\n",
      "Autistic.909.jpg\n"
     ]
    },
    {
     "data": {
      "image/png": "[encoded data removed]",
      "text/plain": [
       "<Figure size 720x720 with 9 Axes>"
      ]
     },
     "metadata": {
      "needs_background": "light"
     },
     "output_type": "display_data"
    }
   ],
   "source": [
    "find_matches(model, \n",
    "             image_embeddings,\n",
    "             query=qr,\n",
    "             image_filenames=valid_df['image'].values,\n",
    "             n=9)"
   ]
  },
  {
   "cell_type": "markdown",
   "id": "banner-component",
   "metadata": {
    "papermill": {
     "duration": 0.072802,
     "end_time": "2022-12-25T15:46:26.247619",
     "exception": false,
     "start_time": "2022-12-25T15:46:26.174817",
     "status": "completed"
    },
    "tags": []
   },
   "source": [
    "<a id=\"7\"></a><br>\n",
    "# Conclusion"
   ]
  },
  {
   "cell_type": "markdown",
   "id": "physical-issue",
   "metadata": {
    "papermill": {
     "duration": 0.076794,
     "end_time": "2022-12-25T15:46:26.396808",
     "exception": false,
     "start_time": "2022-12-25T15:46:26.320014",
     "status": "completed"
    },
    "tags": []
   },
   "source": [
    "### Now we need create new tabular data by permutation or sequential gueesing and find the best matching image to create the dataset."
   ]
  }
 ],
 "metadata": {
  "kernelspec": {
   "display_name": "Python 3",
   "language": "python",
   "name": "python3"
  },
  "language_info": {
   "codemirror_mode": {
    "name": "ipython",
    "version": 3
   },
   "file_extension": ".py",
   "mimetype": "text/x-python",
   "name": "python",
   "nbconvert_exporter": "python",
   "pygments_lexer": "ipython3",
   "version": "3.7.9"
  },
  "papermill": {
   "default_parameters": {},
   "duration": 567.668431,
   "end_time": "2022-12-25T15:46:27.782575",
   "environment_variables": {},
   "exception": null,
   "input_path": "__notebook__.ipynb",
   "output_path": "__notebook__.ipynb",
   "parameters": {},
   "start_time": "2022-12-25T15:37:00.114144",
   "version": "2.3.2"
  },
  "widgets": {
   "application/vnd.jupyter.widget-state+json": {
    "state": {
     "0074f4ea124f472a8948c395f0de2970": {
      "model_module": "@jupyter-widgets/controls",
      "model_module_version": "1.5.0",
      "model_name": "DescriptionStyleModel",
      "state": {
       "_model_module": "@jupyter-widgets/controls",
       "_model_module_version": "1.5.0",
       "_model_name": "DescriptionStyleModel",
       "_view_count": null,
       "_view_module": "@jupyter-widgets/base",
       "_view_module_version": "1.2.0",
       "_view_name": "StyleView",
       "description_width": ""
      }
     },
     "017ac7d6b2e04ff5be383d53a09449b8": {
      "model_module": "@jupyter-widgets/base",
      "model_module_version": "1.2.0",
      "model_name": "LayoutModel",
      "state": {
       "_model_module": "@jupyter-widgets/base",
       "_model_module_version": "1.2.0",
       "_model_name": "LayoutModel",
       "_view_count": null,
       "_view_module": "@jupyter-widgets/base",
       "_view_module_version": "1.2.0",
       "_view_name": "LayoutView",
       "align_content": null,
       "align_items": null,
       "align_self": null,
       "border": null,
       "bottom": null,
       "display": null,
       "flex": null,
       "flex_flow": null,
       "grid_area": null,
       "grid_auto_columns": null,
       "grid_auto_flow": null,
       "grid_auto_rows": null,
       "grid_column": null,
       "grid_gap": null,
       "grid_row": null,
       "grid_template_areas": null,
       "grid_template_columns": null,
       "grid_template_rows": null,
       "height": null,
       "justify_content": null,
       "justify_items": null,
       "left": null,
       "margin": null,
       "max_height": null,
       "max_width": null,
       "min_height": null,
       "min_width": null,
       "object_fit": null,
       "object_position": null,
       "order": null,
       "overflow": null,
       "overflow_x": null,
       "overflow_y": null,
       "padding": null,
       "right": null,
       "top": null,
       "visibility": null,
       "width": null
      }
     },
     "020c25a6b3bd4125ae279ee16338bc7d": {
      "model_module": "@jupyter-widgets/controls",
      "model_module_version": "1.5.0",
      "model_name": "DescriptionStyleModel",
      "state": {
       "_model_module": "@jupyter-widgets/controls",
       "_model_module_version": "1.5.0",
       "_model_name": "DescriptionStyleModel",
       "_view_count": null,
       "_view_module": "@jupyter-widgets/base",
       "_view_module_version": "1.2.0",
       "_view_name": "StyleView",
       "description_width": ""
      }
     },
     "025675277a9b4a409a16016120fb9cf6": {
      "model_module": "@jupyter-widgets/controls",
      "model_module_version": "1.5.0",
      "model_name": "ProgressStyleModel",
      "state": {
       "_model_module": "@jupyter-widgets/controls",
       "_model_module_version": "1.5.0",
       "_model_name": "ProgressStyleModel",
       "_view_count": null,
       "_view_module": "@jupyter-widgets/base",
       "_view_module_version": "1.2.0",
       "_view_name": "StyleView",
       "bar_color": null,
       "description_width": ""
      }
     },
     "0598492c785248d6ab65a45003a668f5": {
      "model_module": "@jupyter-widgets/controls",
      "model_module_version": "1.5.0",
      "model_name": "DescriptionStyleModel",
      "state": {
       "_model_module": "@jupyter-widgets/controls",
       "_model_module_version": "1.5.0",
       "_model_name": "DescriptionStyleModel",
       "_view_count": null,
       "_view_module": "@jupyter-widgets/base",
       "_view_module_version": "1.2.0",
       "_view_name": "StyleView",
       "description_width": ""
      }
     },
     "068cbf044c39425bb964e2da46cded9c": {
      "model_module": "@jupyter-widgets/controls",
      "model_module_version": "1.5.0",
      "model_name": "HBoxModel",
      "state": {
       "_dom_classes": [],
       "_model_module": "@jupyter-widgets/controls",
       "_model_module_version": "1.5.0",
       "_model_name": "HBoxModel",
       "_view_count": null,
       "_view_module": "@jupyter-widgets/controls",
       "_view_module_version": "1.5.0",
       "_view_name": "HBoxView",
       "box_style": "",
       "children": [
        "IPY_MODEL_739667884a954b6a85a458f9c616e413",
        "IPY_MODEL_e82da8d5dc95432b852b929ceb61d168",
        "IPY_MODEL_dfc75de18fa340e0be8a18376bb17bad"
       ],
       "layout": "IPY_MODEL_fa1d34bd9cb34d9593a7fb4b71623084"
      }
     },
     "0726864c8da746be9507bbd238bdbf73": {
      "model_module": "@jupyter-widgets/base",
      "model_module_version": "1.2.0",
      "model_name": "LayoutModel",
      "state": {
       "_model_module": "@jupyter-widgets/base",
       "_model_module_version": "1.2.0",
       "_model_name": "LayoutModel",
       "_view_count": null,
       "_view_module": "@jupyter-widgets/base",
       "_view_module_version": "1.2.0",
       "_view_name": "LayoutView",
       "align_content": null,
       "align_items": null,
       "align_self": null,
       "border": null,
       "bottom": null,
       "display": null,
       "flex": null,
       "flex_flow": null,
       "grid_area": null,
       "grid_auto_columns": null,
       "grid_auto_flow": null,
       "grid_auto_rows": null,
       "grid_column": null,
       "grid_gap": null,
       "grid_row": null,
       "grid_template_areas": null,
       "grid_template_columns": null,
       "grid_template_rows": null,
       "height": null,
       "justify_content": null,
       "justify_items": null,
       "left": null,
       "margin": null,
       "max_height": null,
       "max_width": null,
       "min_height": null,
       "min_width": null,
       "object_fit": null,
       "object_position": null,
       "order": null,
       "overflow": null,
       "overflow_x": null,
       "overflow_y": null,
       "padding": null,
       "right": null,
       "top": null,
       "visibility": null,
       "width": null
      }
     },
     "119b793493f54a9798fc805413a26a31": {
      "model_module": "@jupyter-widgets/controls",
      "model_module_version": "1.5.0",
      "model_name": "HBoxModel",
      "state": {
       "_dom_classes": [],
       "_model_module": "@jupyter-widgets/controls",
       "_model_module_version": "1.5.0",
       "_model_name": "HBoxModel",
       "_view_count": null,
       "_view_module": "@jupyter-widgets/controls",
       "_view_module_version": "1.5.0",
       "_view_name": "HBoxView",
       "box_style": "",
       "children": [
        "IPY_MODEL_bb0db1e14ac9484ebe9c6ddfa57716fa",
        "IPY_MODEL_5d5d757197b74cedaa847c5da1b83d70",
        "IPY_MODEL_2c6d3771dd1342e6a84706843f72fb0f"
       ],
       "layout": "IPY_MODEL_afebbbaca5ef4e27b6c2990c1996d715"
      }
     },
     "198eacc8a2744b0bb7775383cc19f676": {
      "model_module": "@jupyter-widgets/controls",
      "model_module_version": "1.5.0",
      "model_name": "DescriptionStyleModel",
      "state": {
       "_model_module": "@jupyter-widgets/controls",
       "_model_module_version": "1.5.0",
       "_model_name": "DescriptionStyleModel",
       "_view_count": null,
       "_view_module": "@jupyter-widgets/base",
       "_view_module_version": "1.2.0",
       "_view_name": "StyleView",
       "description_width": ""
      }
     },
     "1c0ebc9fb6a64140b5c5a4ca70d7b36a": {
      "model_module": "@jupyter-widgets/controls",
      "model_module_version": "1.5.0",
      "model_name": "HBoxModel",
      "state": {
       "_dom_classes": [],
       "_model_module": "@jupyter-widgets/controls",
       "_model_module_version": "1.5.0",
       "_model_name": "HBoxModel",
       "_view_count": null,
       "_view_module": "@jupyter-widgets/controls",
       "_view_module_version": "1.5.0",
       "_view_name": "HBoxView",
       "box_style": "",
       "children": [
        "IPY_MODEL_1fdf5ffeae084b9ea847c33b5f258ea3",
        "IPY_MODEL_76fcc707ca90465a996556fcdf4111a6",
        "IPY_MODEL_8d6539ff583640db9ef70799660746a1"
       ],
       "layout": "IPY_MODEL_4b066903781845e989a394c944446471"
      }
     },
     "1fdf5ffeae084b9ea847c33b5f258ea3": {
      "model_module": "@jupyter-widgets/controls",
      "model_module_version": "1.5.0",
      "model_name": "HTMLModel",
      "state": {
       "_dom_classes": [],
       "_model_module": "@jupyter-widgets/controls",
       "_model_module_version": "1.5.0",
       "_model_name": "HTMLModel",
       "_view_count": null,
       "_view_module": "@jupyter-widgets/controls",
       "_view_module_version": "1.5.0",
       "_view_name": "HTMLView",
       "description": "",
       "description_tooltip": null,
       "layout": "IPY_MODEL_5739b15fc61c43228f0261776118b588",
       "placeholder": "​",
       "style": "IPY_MODEL_3685990fac6343c2824d28e308780212",
       "value": "Downloading: 100%"
      }
     },
     "20a0fadff76746109a63321bdd4b8c71": {
      "model_module": "@jupyter-widgets/base",
      "model_module_version": "1.2.0",
      "model_name": "LayoutModel",
      "state": {
       "_model_module": "@jupyter-widgets/base",
       "_model_module_version": "1.2.0",
       "_model_name": "LayoutModel",
       "_view_count": null,
       "_view_module": "@jupyter-widgets/base",
       "_view_module_version": "1.2.0",
       "_view_name": "LayoutView",
       "align_content": null,
       "align_items": null,
       "align_self": null,
       "border": null,
       "bottom": null,
       "display": null,
       "flex": null,
       "flex_flow": null,
       "grid_area": null,
       "grid_auto_columns": null,
       "grid_auto_flow": null,
       "grid_auto_rows": null,
       "grid_column": null,
       "grid_gap": null,
       "grid_row": null,
       "grid_template_areas": null,
       "grid_template_columns": null,
       "grid_template_rows": null,
       "height": null,
       "justify_content": null,
       "justify_items": null,
       "left": null,
       "margin": null,
       "max_height": null,
       "max_width": null,
       "min_height": null,
       "min_width": null,
       "object_fit": null,
       "object_position": null,
       "order": null,
       "overflow": null,
       "overflow_x": null,
       "overflow_y": null,
       "padding": null,
       "right": null,
       "top": null,
       "visibility": null,
       "width": null
      }
     },
     "22edcea7972b4f97b3721a3252197652": {
      "model_module": "@jupyter-widgets/base",
      "model_module_version": "1.2.0",
      "model_name": "LayoutModel",
      "state": {
       "_model_module": "@jupyter-widgets/base",
       "_model_module_version": "1.2.0",
       "_model_name": "LayoutModel",
       "_view_count": null,
       "_view_module": "@jupyter-widgets/base",
       "_view_module_version": "1.2.0",
       "_view_name": "LayoutView",
       "align_content": null,
       "align_items": null,
       "align_self": null,
       "border": null,
       "bottom": null,
       "display": null,
       "flex": null,
       "flex_flow": null,
       "grid_area": null,
       "grid_auto_columns": null,
       "grid_auto_flow": null,
       "grid_auto_rows": null,
       "grid_column": null,
       "grid_gap": null,
       "grid_row": null,
       "grid_template_areas": null,
       "grid_template_columns": null,
       "grid_template_rows": null,
       "height": null,
       "justify_content": null,
       "justify_items": null,
       "left": null,
       "margin": null,
       "max_height": null,
       "max_width": null,
       "min_height": null,
       "min_width": null,
       "object_fit": null,
       "object_position": null,
       "order": null,
       "overflow": null,
       "overflow_x": null,
       "overflow_y": null,
       "padding": null,
       "right": null,
       "top": null,
       "visibility": null,
       "width": null
      }
     },
     "25c19baf68a746439be6d2fdc72bae96": {
      "model_module": "@jupyter-widgets/base",
      "model_module_version": "1.2.0",
      "model_name": "LayoutModel",
      "state": {
       "_model_module": "@jupyter-widgets/base",
       "_model_module_version": "1.2.0",
       "_model_name": "LayoutModel",
       "_view_count": null,
       "_view_module": "@jupyter-widgets/base",
       "_view_module_version": "1.2.0",
       "_view_name": "LayoutView",
       "align_content": null,
       "align_items": null,
       "align_self": null,
       "border": null,
       "bottom": null,
       "display": null,
       "flex": null,
       "flex_flow": null,
       "grid_area": null,
       "grid_auto_columns": null,
       "grid_auto_flow": null,
       "grid_auto_rows": null,
       "grid_column": null,
       "grid_gap": null,
       "grid_row": null,
       "grid_template_areas": null,
       "grid_template_columns": null,
       "grid_template_rows": null,
       "height": null,
       "justify_content": null,
       "justify_items": null,
       "left": null,
       "margin": null,
       "max_height": null,
       "max_width": null,
       "min_height": null,
       "min_width": null,
       "object_fit": null,
       "object_position": null,
       "order": null,
       "overflow": null,
       "overflow_x": null,
       "overflow_y": null,
       "padding": null,
       "right": null,
       "top": null,
       "visibility": null,
       "width": null
      }
     },
     "2749d8f3395649459923fffed161b4f3": {
      "model_module": "@jupyter-widgets/controls",
      "model_module_version": "1.5.0",
      "model_name": "HTMLModel",
      "state": {
       "_dom_classes": [],
       "_model_module": "@jupyter-widgets/controls",
       "_model_module_version": "1.5.0",
       "_model_name": "HTMLModel",
       "_view_count": null,
       "_view_module": "@jupyter-widgets/controls",
       "_view_module_version": "1.5.0",
       "_view_name": "HTMLView",
       "description": "",
       "description_tooltip": null,
       "layout": "IPY_MODEL_fa89148d7e494387ae4e9bb42acfbec6",
       "placeholder": "​",
       "style": "IPY_MODEL_3e931a0a62424bbdaf5cfe6fde40a4df",
       "value": " 159/159 [00:25&lt;00:00, 10.20it/s, valid_loss=3.03]"
      }
     },
     "2c6d3771dd1342e6a84706843f72fb0f": {
      "model_module": "@jupyter-widgets/controls",
      "model_module_version": "1.5.0",
      "model_name": "HTMLModel",
      "state": {
       "_dom_classes": [],
       "_model_module": "@jupyter-widgets/controls",
       "_model_module_version": "1.5.0",
       "_model_name": "HTMLModel",
       "_view_count": null,
       "_view_module": "@jupyter-widgets/controls",
       "_view_module_version": "1.5.0",
       "_view_name": "HTMLView",
       "description": "",
       "description_tooltip": null,
       "layout": "IPY_MODEL_484ec6229e904215a8f6a7ef38c191d9",
       "placeholder": "​",
       "style": "IPY_MODEL_733f5027ea4543eebe3503ae3f0ac5c2",
       "value": " 232k/232k [00:00&lt;00:00, 2.64MB/s]"
      }
     },
     "2d20276cebcd4fd9b35ba76d9089d4b7": {
      "model_module": "@jupyter-widgets/base",
      "model_module_version": "1.2.0",
      "model_name": "LayoutModel",
      "state": {
       "_model_module": "@jupyter-widgets/base",
       "_model_module_version": "1.2.0",
       "_model_name": "LayoutModel",
       "_view_count": null,
       "_view_module": "@jupyter-widgets/base",
       "_view_module_version": "1.2.0",
       "_view_name": "LayoutView",
       "align_content": null,
       "align_items": null,
       "align_self": null,
       "border": null,
       "bottom": null,
       "display": null,
       "flex": null,
       "flex_flow": null,
       "grid_area": null,
       "grid_auto_columns": null,
       "grid_auto_flow": null,
       "grid_auto_rows": null,
       "grid_column": null,
       "grid_gap": null,
       "grid_row": null,
       "grid_template_areas": null,
       "grid_template_columns": null,
       "grid_template_rows": null,
       "height": null,
       "justify_content": null,
       "justify_items": null,
       "left": null,
       "margin": null,
       "max_height": null,
       "max_width": null,
       "min_height": null,
       "min_width": null,
       "object_fit": null,
       "object_position": null,
       "order": null,
       "overflow": null,
       "overflow_x": null,
       "overflow_y": null,
       "padding": null,
       "right": null,
       "top": null,
       "visibility": null,
       "width": null
      }
     },
     "3685990fac6343c2824d28e308780212": {
      "model_module": "@jupyter-widgets/controls",
      "model_module_version": "1.5.0",
      "model_name": "DescriptionStyleModel",
      "state": {
       "_model_module": "@jupyter-widgets/controls",
       "_model_module_version": "1.5.0",
       "_model_name": "DescriptionStyleModel",
       "_view_count": null,
       "_view_module": "@jupyter-widgets/base",
       "_view_module_version": "1.2.0",
       "_view_name": "StyleView",
       "description_width": ""
      }
     },
     "3a098834f60142e89d345dd8dcf1f47f": {
      "model_module": "@jupyter-widgets/controls",
      "model_module_version": "1.5.0",
      "model_name": "ProgressStyleModel",
      "state": {
       "_model_module": "@jupyter-widgets/controls",
       "_model_module_version": "1.5.0",
       "_model_name": "ProgressStyleModel",
       "_view_count": null,
       "_view_module": "@jupyter-widgets/base",
       "_view_module_version": "1.2.0",
       "_view_name": "StyleView",
       "bar_color": null,
       "description_width": ""
      }
     },
     "3b59fe64ef5d45269261a828613fd1f8": {
      "model_module": "@jupyter-widgets/controls",
      "model_module_version": "1.5.0",
      "model_name": "DescriptionStyleModel",
      "state": {
       "_model_module": "@jupyter-widgets/controls",
       "_model_module_version": "1.5.0",
       "_model_name": "DescriptionStyleModel",
       "_view_count": null,
       "_view_module": "@jupyter-widgets/base",
       "_view_module_version": "1.2.0",
       "_view_name": "StyleView",
       "description_width": ""
      }
     },
     "3bae0bebbee64d8595961d958631c5a9": {
      "model_module": "@jupyter-widgets/controls",
      "model_module_version": "1.5.0",
      "model_name": "HBoxModel",
      "state": {
       "_dom_classes": [],
       "_model_module": "@jupyter-widgets/controls",
       "_model_module_version": "1.5.0",
       "_model_name": "HBoxModel",
       "_view_count": null,
       "_view_module": "@jupyter-widgets/controls",
       "_view_module_version": "1.5.0",
       "_view_name": "HBoxView",
       "box_style": "",
       "children": [
        "IPY_MODEL_89bc5ceb1baa4e7988aaae9e7cfb8648",
        "IPY_MODEL_63f0387c7e404707a31197a502e60772",
        "IPY_MODEL_a8b3dd88b29f45f099cb30cd48f0c3de"
       ],
       "layout": "IPY_MODEL_9c68a4378b80498c9b92c39d6c0115cb"
      }
     },
     "3e3be81e0da94015971e9708360c2d6e": {
      "model_module": "@jupyter-widgets/controls",
      "model_module_version": "1.5.0",
      "model_name": "ProgressStyleModel",
      "state": {
       "_model_module": "@jupyter-widgets/controls",
       "_model_module_version": "1.5.0",
       "_model_name": "ProgressStyleModel",
       "_view_count": null,
       "_view_module": "@jupyter-widgets/base",
       "_view_module_version": "1.2.0",
       "_view_name": "StyleView",
       "bar_color": null,
       "description_width": ""
      }
     },
     "3e931a0a62424bbdaf5cfe6fde40a4df": {
      "model_module": "@jupyter-widgets/controls",
      "model_module_version": "1.5.0",
      "model_name": "DescriptionStyleModel",
      "state": {
       "_model_module": "@jupyter-widgets/controls",
       "_model_module_version": "1.5.0",
       "_model_name": "DescriptionStyleModel",
       "_view_count": null,
       "_view_module": "@jupyter-widgets/base",
       "_view_module_version": "1.2.0",
       "_view_name": "StyleView",
       "description_width": ""
      }
     },
     "3f3b6c1b2e8e44d2abb311f46c672b1f": {
      "model_module": "@jupyter-widgets/base",
      "model_module_version": "1.2.0",
      "model_name": "LayoutModel",
      "state": {
       "_model_module": "@jupyter-widgets/base",
       "_model_module_version": "1.2.0",
       "_model_name": "LayoutModel",
       "_view_count": null,
       "_view_module": "@jupyter-widgets/base",
       "_view_module_version": "1.2.0",
       "_view_name": "LayoutView",
       "align_content": null,
       "align_items": null,
       "align_self": null,
       "border": null,
       "bottom": null,
       "display": null,
       "flex": null,
       "flex_flow": null,
       "grid_area": null,
       "grid_auto_columns": null,
       "grid_auto_flow": null,
       "grid_auto_rows": null,
       "grid_column": null,
       "grid_gap": null,
       "grid_row": null,
       "grid_template_areas": null,
       "grid_template_columns": null,
       "grid_template_rows": null,
       "height": null,
       "justify_content": null,
       "justify_items": null,
       "left": null,
       "margin": null,
       "max_height": null,
       "max_width": null,
       "min_height": null,
       "min_width": null,
       "object_fit": null,
       "object_position": null,
       "order": null,
       "overflow": null,
       "overflow_x": null,
       "overflow_y": null,
       "padding": null,
       "right": null,
       "top": null,
       "visibility": null,
       "width": null
      }
     },
     "46b629c19a9548a7956eee0fd533b35e": {
      "model_module": "@jupyter-widgets/base",
      "model_module_version": "1.2.0",
      "model_name": "LayoutModel",
      "state": {
       "_model_module": "@jupyter-widgets/base",
       "_model_module_version": "1.2.0",
       "_model_name": "LayoutModel",
       "_view_count": null,
       "_view_module": "@jupyter-widgets/base",
       "_view_module_version": "1.2.0",
       "_view_name": "LayoutView",
       "align_content": null,
       "align_items": null,
       "align_self": null,
       "border": null,
       "bottom": null,
       "display": null,
       "flex": null,
       "flex_flow": null,
       "grid_area": null,
       "grid_auto_columns": null,
       "grid_auto_flow": null,
       "grid_auto_rows": null,
       "grid_column": null,
       "grid_gap": null,
       "grid_row": null,
       "grid_template_areas": null,
       "grid_template_columns": null,
       "grid_template_rows": null,
       "height": null,
       "justify_content": null,
       "justify_items": null,
       "left": null,
       "margin": null,
       "max_height": null,
       "max_width": null,
       "min_height": null,
       "min_width": null,
       "object_fit": null,
       "object_position": null,
       "order": null,
       "overflow": null,
       "overflow_x": null,
       "overflow_y": null,
       "padding": null,
       "right": null,
       "top": null,
       "visibility": null,
       "width": null
      }
     },
     "484ec6229e904215a8f6a7ef38c191d9": {
      "model_module": "@jupyter-widgets/base",
      "model_module_version": "1.2.0",
      "model_name": "LayoutModel",
      "state": {
       "_model_module": "@jupyter-widgets/base",
       "_model_module_version": "1.2.0",
       "_model_name": "LayoutModel",
       "_view_count": null,
       "_view_module": "@jupyter-widgets/base",
       "_view_module_version": "1.2.0",
       "_view_name": "LayoutView",
       "align_content": null,
       "align_items": null,
       "align_self": null,
       "border": null,
       "bottom": null,
       "display": null,
       "flex": null,
       "flex_flow": null,
       "grid_area": null,
       "grid_auto_columns": null,
       "grid_auto_flow": null,
       "grid_auto_rows": null,
       "grid_column": null,
       "grid_gap": null,
       "grid_row": null,
       "grid_template_areas": null,
       "grid_template_columns": null,
       "grid_template_rows": null,
       "height": null,
       "justify_content": null,
       "justify_items": null,
       "left": null,
       "margin": null,
       "max_height": null,
       "max_width": null,
       "min_height": null,
       "min_width": null,
       "object_fit": null,
       "object_position": null,
       "order": null,
       "overflow": null,
       "overflow_x": null,
       "overflow_y": null,
       "padding": null,
       "right": null,
       "top": null,
       "visibility": null,
       "width": null
      }
     },
     "4b066903781845e989a394c944446471": {
      "model_module": "@jupyter-widgets/base",
      "model_module_version": "1.2.0",
      "model_name": "LayoutModel",
      "state": {
       "_model_module": "@jupyter-widgets/base",
       "_model_module_version": "1.2.0",
       "_model_name": "LayoutModel",
       "_view_count": null,
       "_view_module": "@jupyter-widgets/base",
       "_view_module_version": "1.2.0",
       "_view_name": "LayoutView",
       "align_content": null,
       "align_items": null,
       "align_self": null,
       "border": null,
       "bottom": null,
       "display": null,
       "flex": null,
       "flex_flow": null,
       "grid_area": null,
       "grid_auto_columns": null,
       "grid_auto_flow": null,
       "grid_auto_rows": null,
       "grid_column": null,
       "grid_gap": null,
       "grid_row": null,
       "grid_template_areas": null,
       "grid_template_columns": null,
       "grid_template_rows": null,
       "height": null,
       "justify_content": null,
       "justify_items": null,
       "left": null,
       "margin": null,
       "max_height": null,
       "max_width": null,
       "min_height": null,
       "min_width": null,
       "object_fit": null,
       "object_position": null,
       "order": null,
       "overflow": null,
       "overflow_x": null,
       "overflow_y": null,
       "padding": null,
       "right": null,
       "top": null,
       "visibility": null,
       "width": null
      }
     },
     "515f592246fe4d09bda274d2c3cf3f9a": {
      "model_module": "@jupyter-widgets/controls",
      "model_module_version": "1.5.0",
      "model_name": "HTMLModel",
      "state": {
       "_dom_classes": [],
       "_model_module": "@jupyter-widgets/controls",
       "_model_module_version": "1.5.0",
       "_model_name": "HTMLModel",
       "_view_count": null,
       "_view_module": "@jupyter-widgets/controls",
       "_view_module_version": "1.5.0",
       "_view_name": "HTMLView",
       "description": "",
       "description_tooltip": null,
       "layout": "IPY_MODEL_970dbc8787a846c3b92571d79cba914d",
       "placeholder": "​",
       "style": "IPY_MODEL_cd3fdd148fc44eed96ba8969f89bac38",
       "value": "100%"
      }
     },
     "5589f2cc9c5a4299af2bb4d76c62dd20": {
      "model_module": "@jupyter-widgets/controls",
      "model_module_version": "1.5.0",
      "model_name": "FloatProgressModel",
      "state": {
       "_dom_classes": [],
       "_model_module": "@jupyter-widgets/controls",
       "_model_module_version": "1.5.0",
       "_model_name": "FloatProgressModel",
       "_view_count": null,
       "_view_module": "@jupyter-widgets/controls",
       "_view_module_version": "1.5.0",
       "_view_name": "ProgressView",
       "bar_style": "success",
       "description": "",
       "description_tooltip": null,
       "layout": "IPY_MODEL_e48dfdd59f5e44978ef5daef33e52b50",
       "max": 635.0,
       "min": 0.0,
       "orientation": "horizontal",
       "style": "IPY_MODEL_3a098834f60142e89d345dd8dcf1f47f",
       "value": 635.0
      }
     },
     "56d9da03c9554184ab49708627daba13": {
      "model_module": "@jupyter-widgets/controls",
      "model_module_version": "1.5.0",
      "model_name": "HBoxModel",
      "state": {
       "_dom_classes": [],
       "_model_module": "@jupyter-widgets/controls",
       "_model_module_version": "1.5.0",
       "_model_name": "HBoxModel",
       "_view_count": null,
       "_view_module": "@jupyter-widgets/controls",
       "_view_module_version": "1.5.0",
       "_view_name": "HBoxView",
       "box_style": "",
       "children": [
        "IPY_MODEL_ba629f3bea5c4a7c9bcac4edd66e4cdd",
        "IPY_MODEL_5e2cdc07decc4979bc435237543198a2",
        "IPY_MODEL_2749d8f3395649459923fffed161b4f3"
       ],
       "layout": "IPY_MODEL_f17c5201bd69409daf9636f1c4c18e79"
      }
     },
     "5739b15fc61c43228f0261776118b588": {
      "model_module": "@jupyter-widgets/base",
      "model_module_version": "1.2.0",
      "model_name": "LayoutModel",
      "state": {
       "_model_module": "@jupyter-widgets/base",
       "_model_module_version": "1.2.0",
       "_model_name": "LayoutModel",
       "_view_count": null,
       "_view_module": "@jupyter-widgets/base",
       "_view_module_version": "1.2.0",
       "_view_name": "LayoutView",
       "align_content": null,
       "align_items": null,
       "align_self": null,
       "border": null,
       "bottom": null,
       "display": null,
       "flex": null,
       "flex_flow": null,
       "grid_area": null,
       "grid_auto_columns": null,
       "grid_auto_flow": null,
       "grid_auto_rows": null,
       "grid_column": null,
       "grid_gap": null,
       "grid_row": null,
       "grid_template_areas": null,
       "grid_template_columns": null,
       "grid_template_rows": null,
       "height": null,
       "justify_content": null,
       "justify_items": null,
       "left": null,
       "margin": null,
       "max_height": null,
       "max_width": null,
       "min_height": null,
       "min_width": null,
       "object_fit": null,
       "object_position": null,
       "order": null,
       "overflow": null,
       "overflow_x": null,
       "overflow_y": null,
       "padding": null,
       "right": null,
       "top": null,
       "visibility": null,
       "width": null
      }
     },
     "593e3a04fd394222932ec308b755bac0": {
      "model_module": "@jupyter-widgets/base",
      "model_module_version": "1.2.0",
      "model_name": "LayoutModel",
      "state": {
       "_model_module": "@jupyter-widgets/base",
       "_model_module_version": "1.2.0",
       "_model_name": "LayoutModel",
       "_view_count": null,
       "_view_module": "@jupyter-widgets/base",
       "_view_module_version": "1.2.0",
       "_view_name": "LayoutView",
       "align_content": null,
       "align_items": null,
       "align_self": null,
       "border": null,
       "bottom": null,
       "display": null,
       "flex": null,
       "flex_flow": null,
       "grid_area": null,
       "grid_auto_columns": null,
       "grid_auto_flow": null,
       "grid_auto_rows": null,
       "grid_column": null,
       "grid_gap": null,
       "grid_row": null,
       "grid_template_areas": null,
       "grid_template_columns": null,
       "grid_template_rows": null,
       "height": null,
       "justify_content": null,
       "justify_items": null,
       "left": null,
       "margin": null,
       "max_height": null,
       "max_width": null,
       "min_height": null,
       "min_width": null,
       "object_fit": null,
       "object_position": null,
       "order": null,
       "overflow": null,
       "overflow_x": null,
       "overflow_y": null,
       "padding": null,
       "right": null,
       "top": null,
       "visibility": null,
       "width": null
      }
     },
     "5a30a699a00548e28504772857c86bdd": {
      "model_module": "@jupyter-widgets/base",
      "model_module_version": "1.2.0",
      "model_name": "LayoutModel",
      "state": {
       "_model_module": "@jupyter-widgets/base",
       "_model_module_version": "1.2.0",
       "_model_name": "LayoutModel",
       "_view_count": null,
       "_view_module": "@jupyter-widgets/base",
       "_view_module_version": "1.2.0",
       "_view_name": "LayoutView",
       "align_content": null,
       "align_items": null,
       "align_self": null,
       "border": null,
       "bottom": null,
       "display": null,
       "flex": null,
       "flex_flow": null,
       "grid_area": null,
       "grid_auto_columns": null,
       "grid_auto_flow": null,
       "grid_auto_rows": null,
       "grid_column": null,
       "grid_gap": null,
       "grid_row": null,
       "grid_template_areas": null,
       "grid_template_columns": null,
       "grid_template_rows": null,
       "height": null,
       "justify_content": null,
       "justify_items": null,
       "left": null,
       "margin": null,
       "max_height": null,
       "max_width": null,
       "min_height": null,
       "min_width": null,
       "object_fit": null,
       "object_position": null,
       "order": null,
       "overflow": null,
       "overflow_x": null,
       "overflow_y": null,
       "padding": null,
       "right": null,
       "top": null,
       "visibility": null,
       "width": null
      }
     },
     "5b52ee1e729d42c7b28feceec58e2d16": {
      "model_module": "@jupyter-widgets/controls",
      "model_module_version": "1.5.0",
      "model_name": "DescriptionStyleModel",
      "state": {
       "_model_module": "@jupyter-widgets/controls",
       "_model_module_version": "1.5.0",
       "_model_name": "DescriptionStyleModel",
       "_view_count": null,
       "_view_module": "@jupyter-widgets/base",
       "_view_module_version": "1.2.0",
       "_view_name": "StyleView",
       "description_width": ""
      }
     },
     "5d4a8727f3d947ca956b8e5473c6853b": {
      "model_module": "@jupyter-widgets/base",
      "model_module_version": "1.2.0",
      "model_name": "LayoutModel",
      "state": {
       "_model_module": "@jupyter-widgets/base",
       "_model_module_version": "1.2.0",
       "_model_name": "LayoutModel",
       "_view_count": null,
       "_view_module": "@jupyter-widgets/base",
       "_view_module_version": "1.2.0",
       "_view_name": "LayoutView",
       "align_content": null,
       "align_items": null,
       "align_self": null,
       "border": null,
       "bottom": null,
       "display": null,
       "flex": null,
       "flex_flow": null,
       "grid_area": null,
       "grid_auto_columns": null,
       "grid_auto_flow": null,
       "grid_auto_rows": null,
       "grid_column": null,
       "grid_gap": null,
       "grid_row": null,
       "grid_template_areas": null,
       "grid_template_columns": null,
       "grid_template_rows": null,
       "height": null,
       "justify_content": null,
       "justify_items": null,
       "left": null,
       "margin": null,
       "max_height": null,
       "max_width": null,
       "min_height": null,
       "min_width": null,
       "object_fit": null,
       "object_position": null,
       "order": null,
       "overflow": null,
       "overflow_x": null,
       "overflow_y": null,
       "padding": null,
       "right": null,
       "top": null,
       "visibility": null,
       "width": null
      }
     },
     "5d5d757197b74cedaa847c5da1b83d70": {
      "model_module": "@jupyter-widgets/controls",
      "model_module_version": "1.5.0",
      "model_name": "FloatProgressModel",
      "state": {
       "_dom_classes": [],
       "_model_module": "@jupyter-widgets/controls",
       "_model_module_version": "1.5.0",
       "_model_name": "FloatProgressModel",
       "_view_count": null,
       "_view_module": "@jupyter-widgets/controls",
       "_view_module_version": "1.5.0",
       "_view_name": "ProgressView",
       "bar_style": "success",
       "description": "",
       "description_tooltip": null,
       "layout": "IPY_MODEL_e4147ed0a6784f3c800390e7dbb48f04",
       "max": 231508.0,
       "min": 0.0,
       "orientation": "horizontal",
       "style": "IPY_MODEL_025675277a9b4a409a16016120fb9cf6",
       "value": 231508.0
      }
     },
     "5e2cdc07decc4979bc435237543198a2": {
      "model_module": "@jupyter-widgets/controls",
      "model_module_version": "1.5.0",
      "model_name": "FloatProgressModel",
      "state": {
       "_dom_classes": [],
       "_model_module": "@jupyter-widgets/controls",
       "_model_module_version": "1.5.0",
       "_model_name": "FloatProgressModel",
       "_view_count": null,
       "_view_module": "@jupyter-widgets/controls",
       "_view_module_version": "1.5.0",
       "_view_name": "ProgressView",
       "bar_style": "success",
       "description": "",
       "description_tooltip": null,
       "layout": "IPY_MODEL_dc66dfbf67bf4d9187935aec4c86bdb9",
       "max": 159.0,
       "min": 0.0,
       "orientation": "horizontal",
       "style": "IPY_MODEL_d1d63dd2d0034695a92d4f43f26b4087",
       "value": 159.0
      }
     },
     "5f1e083d66b343d7be92a0df68a419d8": {
      "model_module": "@jupyter-widgets/base",
      "model_module_version": "1.2.0",
      "model_name": "LayoutModel",
      "state": {
       "_model_module": "@jupyter-widgets/base",
       "_model_module_version": "1.2.0",
       "_model_name": "LayoutModel",
       "_view_count": null,
       "_view_module": "@jupyter-widgets/base",
       "_view_module_version": "1.2.0",
       "_view_name": "LayoutView",
       "align_content": null,
       "align_items": null,
       "align_self": null,
       "border": null,
       "bottom": null,
       "display": null,
       "flex": null,
       "flex_flow": null,
       "grid_area": null,
       "grid_auto_columns": null,
       "grid_auto_flow": null,
       "grid_auto_rows": null,
       "grid_column": null,
       "grid_gap": null,
       "grid_row": null,
       "grid_template_areas": null,
       "grid_template_columns": null,
       "grid_template_rows": null,
       "height": null,
       "justify_content": null,
       "justify_items": null,
       "left": null,
       "margin": null,
       "max_height": null,
       "max_width": null,
       "min_height": null,
       "min_width": null,
       "object_fit": null,
       "object_position": null,
       "order": null,
       "overflow": null,
       "overflow_x": null,
       "overflow_y": null,
       "padding": null,
       "right": null,
       "top": null,
       "visibility": null,
       "width": null
      }
     },
     "62d04f0643b64ffba7e0f266201ca8fc": {
      "model_module": "@jupyter-widgets/controls",
      "model_module_version": "1.5.0",
      "model_name": "DescriptionStyleModel",
      "state": {
       "_model_module": "@jupyter-widgets/controls",
       "_model_module_version": "1.5.0",
       "_model_name": "DescriptionStyleModel",
       "_view_count": null,
       "_view_module": "@jupyter-widgets/base",
       "_view_module_version": "1.2.0",
       "_view_name": "StyleView",
       "description_width": ""
      }
     },
     "63d432b4a19641588562197c432ae526": {
      "model_module": "@jupyter-widgets/controls",
      "model_module_version": "1.5.0",
      "model_name": "HBoxModel",
      "state": {
       "_dom_classes": [],
       "_model_module": "@jupyter-widgets/controls",
       "_model_module_version": "1.5.0",
       "_model_name": "HBoxModel",
       "_view_count": null,
       "_view_module": "@jupyter-widgets/controls",
       "_view_module_version": "1.5.0",
       "_view_name": "HBoxView",
       "box_style": "",
       "children": [
        "IPY_MODEL_8fdce55cca9440669d85b48a7dbf1436",
        "IPY_MODEL_c8486c2a23c24116bbbcf669033b9f88",
        "IPY_MODEL_b423f70e21a54313892150e0298f30f1"
       ],
       "layout": "IPY_MODEL_9828eac408fc4dc887be6ca3d984acc4"
      }
     },
     "63f0387c7e404707a31197a502e60772": {
      "model_module": "@jupyter-widgets/controls",
      "model_module_version": "1.5.0",
      "model_name": "FloatProgressModel",
      "state": {
       "_dom_classes": [],
       "_model_module": "@jupyter-widgets/controls",
       "_model_module_version": "1.5.0",
       "_model_name": "FloatProgressModel",
       "_view_count": null,
       "_view_module": "@jupyter-widgets/controls",
       "_view_module_version": "1.5.0",
       "_view_name": "ProgressView",
       "bar_style": "success",
       "description": "",
       "description_tooltip": null,
       "layout": "IPY_MODEL_d8e6ab606c86466daca67de23e906425",
       "max": 159.0,
       "min": 0.0,
       "orientation": "horizontal",
       "style": "IPY_MODEL_3e3be81e0da94015971e9708360c2d6e",
       "value": 159.0
      }
     },
     "64c46028673148ec95ab55c45cc98a6b": {
      "model_module": "@jupyter-widgets/base",
      "model_module_version": "1.2.0",
      "model_name": "LayoutModel",
      "state": {
       "_model_module": "@jupyter-widgets/base",
       "_model_module_version": "1.2.0",
       "_model_name": "LayoutModel",
       "_view_count": null,
       "_view_module": "@jupyter-widgets/base",
       "_view_module_version": "1.2.0",
       "_view_name": "LayoutView",
       "align_content": null,
       "align_items": null,
       "align_self": null,
       "border": null,
       "bottom": null,
       "display": null,
       "flex": null,
       "flex_flow": null,
       "grid_area": null,
       "grid_auto_columns": null,
       "grid_auto_flow": null,
       "grid_auto_rows": null,
       "grid_column": null,
       "grid_gap": null,
       "grid_row": null,
       "grid_template_areas": null,
       "grid_template_columns": null,
       "grid_template_rows": null,
       "height": null,
       "justify_content": null,
       "justify_items": null,
       "left": null,
       "margin": null,
       "max_height": null,
       "max_width": null,
       "min_height": null,
       "min_width": null,
       "object_fit": null,
       "object_position": null,
       "order": null,
       "overflow": null,
       "overflow_x": null,
       "overflow_y": null,
       "padding": null,
       "right": null,
       "top": null,
       "visibility": null,
       "width": null
      }
     },
     "6b706dd81da84e1282390acdbe487ab9": {
      "model_module": "@jupyter-widgets/controls",
      "model_module_version": "1.5.0",
      "model_name": "DescriptionStyleModel",
      "state": {
       "_model_module": "@jupyter-widgets/controls",
       "_model_module_version": "1.5.0",
       "_model_name": "DescriptionStyleModel",
       "_view_count": null,
       "_view_module": "@jupyter-widgets/base",
       "_view_module_version": "1.2.0",
       "_view_name": "StyleView",
       "description_width": ""
      }
     },
     "6bdf143d5e464cd4b75d63a2f12d6b0b": {
      "model_module": "@jupyter-widgets/base",
      "model_module_version": "1.2.0",
      "model_name": "LayoutModel",
      "state": {
       "_model_module": "@jupyter-widgets/base",
       "_model_module_version": "1.2.0",
       "_model_name": "LayoutModel",
       "_view_count": null,
       "_view_module": "@jupyter-widgets/base",
       "_view_module_version": "1.2.0",
       "_view_name": "LayoutView",
       "align_content": null,
       "align_items": null,
       "align_self": null,
       "border": null,
       "bottom": null,
       "display": null,
       "flex": null,
       "flex_flow": null,
       "grid_area": null,
       "grid_auto_columns": null,
       "grid_auto_flow": null,
       "grid_auto_rows": null,
       "grid_column": null,
       "grid_gap": null,
       "grid_row": null,
       "grid_template_areas": null,
       "grid_template_columns": null,
       "grid_template_rows": null,
       "height": null,
       "justify_content": null,
       "justify_items": null,
       "left": null,
       "margin": null,
       "max_height": null,
       "max_width": null,
       "min_height": null,
       "min_width": null,
       "object_fit": null,
       "object_position": null,
       "order": null,
       "overflow": null,
       "overflow_x": null,
       "overflow_y": null,
       "padding": null,
       "right": null,
       "top": null,
       "visibility": null,
       "width": null
      }
     },
     "6c5d74075d7f44bb8df4b1c3ba6210f9": {
      "model_module": "@jupyter-widgets/base",
      "model_module_version": "1.2.0",
      "model_name": "LayoutModel",
      "state": {
       "_model_module": "@jupyter-widgets/base",
       "_model_module_version": "1.2.0",
       "_model_name": "LayoutModel",
       "_view_count": null,
       "_view_module": "@jupyter-widgets/base",
       "_view_module_version": "1.2.0",
       "_view_name": "LayoutView",
       "align_content": null,
       "align_items": null,
       "align_self": null,
       "border": null,
       "bottom": null,
       "display": null,
       "flex": null,
       "flex_flow": null,
       "grid_area": null,
       "grid_auto_columns": null,
       "grid_auto_flow": null,
       "grid_auto_rows": null,
       "grid_column": null,
       "grid_gap": null,
       "grid_row": null,
       "grid_template_areas": null,
       "grid_template_columns": null,
       "grid_template_rows": null,
       "height": null,
       "justify_content": null,
       "justify_items": null,
       "left": null,
       "margin": null,
       "max_height": null,
       "max_width": null,
       "min_height": null,
       "min_width": null,
       "object_fit": null,
       "object_position": null,
       "order": null,
       "overflow": null,
       "overflow_x": null,
       "overflow_y": null,
       "padding": null,
       "right": null,
       "top": null,
       "visibility": null,
       "width": null
      }
     },
     "733f5027ea4543eebe3503ae3f0ac5c2": {
      "model_module": "@jupyter-widgets/controls",
      "model_module_version": "1.5.0",
      "model_name": "DescriptionStyleModel",
      "state": {
       "_model_module": "@jupyter-widgets/controls",
       "_model_module_version": "1.5.0",
       "_model_name": "DescriptionStyleModel",
       "_view_count": null,
       "_view_module": "@jupyter-widgets/base",
       "_view_module_version": "1.2.0",
       "_view_name": "StyleView",
       "description_width": ""
      }
     },
     "739667884a954b6a85a458f9c616e413": {
      "model_module": "@jupyter-widgets/controls",
      "model_module_version": "1.5.0",
      "model_name": "HTMLModel",
      "state": {
       "_dom_classes": [],
       "_model_module": "@jupyter-widgets/controls",
       "_model_module_version": "1.5.0",
       "_model_name": "HTMLModel",
       "_view_count": null,
       "_view_module": "@jupyter-widgets/controls",
       "_view_module_version": "1.5.0",
       "_view_name": "HTMLView",
       "description": "",
       "description_tooltip": null,
       "layout": "IPY_MODEL_0726864c8da746be9507bbd238bdbf73",
       "placeholder": "​",
       "style": "IPY_MODEL_b5794979d4454ecf81db7c5c6a9d80c8",
       "value": "Downloading: 100%"
      }
     },
     "75adedd7263847d69f3091e0850762d5": {
      "model_module": "@jupyter-widgets/controls",
      "model_module_version": "1.5.0",
      "model_name": "ProgressStyleModel",
      "state": {
       "_model_module": "@jupyter-widgets/controls",
       "_model_module_version": "1.5.0",
       "_model_name": "ProgressStyleModel",
       "_view_count": null,
       "_view_module": "@jupyter-widgets/base",
       "_view_module_version": "1.2.0",
       "_view_name": "StyleView",
       "bar_color": null,
       "description_width": ""
      }
     },
     "76fcc707ca90465a996556fcdf4111a6": {
      "model_module": "@jupyter-widgets/controls",
      "model_module_version": "1.5.0",
      "model_name": "FloatProgressModel",
      "state": {
       "_dom_classes": [],
       "_model_module": "@jupyter-widgets/controls",
       "_model_module_version": "1.5.0",
       "_model_name": "FloatProgressModel",
       "_view_count": null,
       "_view_module": "@jupyter-widgets/controls",
       "_view_module_version": "1.5.0",
       "_view_name": "ProgressView",
       "bar_style": "success",
       "description": "",
       "description_tooltip": null,
       "layout": "IPY_MODEL_5a30a699a00548e28504772857c86bdd",
       "max": 483.0,
       "min": 0.0,
       "orientation": "horizontal",
       "style": "IPY_MODEL_9dc8e6b90f4146bba7b30a145cc94d49",
       "value": 483.0
      }
     },
     "77e37e8001e340f5938e7d3451640722": {
      "model_module": "@jupyter-widgets/base",
      "model_module_version": "1.2.0",
      "model_name": "LayoutModel",
      "state": {
       "_model_module": "@jupyter-widgets/base",
       "_model_module_version": "1.2.0",
       "_model_name": "LayoutModel",
       "_view_count": null,
       "_view_module": "@jupyter-widgets/base",
       "_view_module_version": "1.2.0",
       "_view_name": "LayoutView",
       "align_content": null,
       "align_items": null,
       "align_self": null,
       "border": null,
       "bottom": null,
       "display": null,
       "flex": null,
       "flex_flow": null,
       "grid_area": null,
       "grid_auto_columns": null,
       "grid_auto_flow": null,
       "grid_auto_rows": null,
       "grid_column": null,
       "grid_gap": null,
       "grid_row": null,
       "grid_template_areas": null,
       "grid_template_columns": null,
       "grid_template_rows": null,
       "height": null,
       "justify_content": null,
       "justify_items": null,
       "left": null,
       "margin": null,
       "max_height": null,
       "max_width": null,
       "min_height": null,
       "min_width": null,
       "object_fit": null,
       "object_position": null,
       "order": null,
       "overflow": null,
       "overflow_x": null,
       "overflow_y": null,
       "padding": null,
       "right": null,
       "top": null,
       "visibility": null,
       "width": null
      }
     },
     "781c98612a0f49f99d81be3946849344": {
      "model_module": "@jupyter-widgets/base",
      "model_module_version": "1.2.0",
      "model_name": "LayoutModel",
      "state": {
       "_model_module": "@jupyter-widgets/base",
       "_model_module_version": "1.2.0",
       "_model_name": "LayoutModel",
       "_view_count": null,
       "_view_module": "@jupyter-widgets/base",
       "_view_module_version": "1.2.0",
       "_view_name": "LayoutView",
       "align_content": null,
       "align_items": null,
       "align_self": null,
       "border": null,
       "bottom": null,
       "display": null,
       "flex": null,
       "flex_flow": null,
       "grid_area": null,
       "grid_auto_columns": null,
       "grid_auto_flow": null,
       "grid_auto_rows": null,
       "grid_column": null,
       "grid_gap": null,
       "grid_row": null,
       "grid_template_areas": null,
       "grid_template_columns": null,
       "grid_template_rows": null,
       "height": null,
       "justify_content": null,
       "justify_items": null,
       "left": null,
       "margin": null,
       "max_height": null,
       "max_width": null,
       "min_height": null,
       "min_width": null,
       "object_fit": null,
       "object_position": null,
       "order": null,
       "overflow": null,
       "overflow_x": null,
       "overflow_y": null,
       "padding": null,
       "right": null,
       "top": null,
       "visibility": null,
       "width": null
      }
     },
     "799638a14508447d852fe4e5a05154ac": {
      "model_module": "@jupyter-widgets/controls",
      "model_module_version": "1.5.0",
      "model_name": "HBoxModel",
      "state": {
       "_dom_classes": [],
       "_model_module": "@jupyter-widgets/controls",
       "_model_module_version": "1.5.0",
       "_model_name": "HBoxModel",
       "_view_count": null,
       "_view_module": "@jupyter-widgets/controls",
       "_view_module_version": "1.5.0",
       "_view_name": "HBoxView",
       "box_style": "",
       "children": [
        "IPY_MODEL_fbca536364164dce916f9effb6427db9",
        "IPY_MODEL_5589f2cc9c5a4299af2bb4d76c62dd20",
        "IPY_MODEL_df713d97bef642debf6836ab285a828d"
       ],
       "layout": "IPY_MODEL_ca017b388ab44060b5ad42c812001b6e"
      }
     },
     "831ae13277ce42ae9daacd8ecef9acbf": {
      "model_module": "@jupyter-widgets/base",
      "model_module_version": "1.2.0",
      "model_name": "LayoutModel",
      "state": {
       "_model_module": "@jupyter-widgets/base",
       "_model_module_version": "1.2.0",
       "_model_name": "LayoutModel",
       "_view_count": null,
       "_view_module": "@jupyter-widgets/base",
       "_view_module_version": "1.2.0",
       "_view_name": "LayoutView",
       "align_content": null,
       "align_items": null,
       "align_self": null,
       "border": null,
       "bottom": null,
       "display": null,
       "flex": null,
       "flex_flow": null,
       "grid_area": null,
       "grid_auto_columns": null,
       "grid_auto_flow": null,
       "grid_auto_rows": null,
       "grid_column": null,
       "grid_gap": null,
       "grid_row": null,
       "grid_template_areas": null,
       "grid_template_columns": null,
       "grid_template_rows": null,
       "height": null,
       "justify_content": null,
       "justify_items": null,
       "left": null,
       "margin": null,
       "max_height": null,
       "max_width": null,
       "min_height": null,
       "min_width": null,
       "object_fit": null,
       "object_position": null,
       "order": null,
       "overflow": null,
       "overflow_x": null,
       "overflow_y": null,
       "padding": null,
       "right": null,
       "top": null,
       "visibility": null,
       "width": null
      }
     },
     "89bc5ceb1baa4e7988aaae9e7cfb8648": {
      "model_module": "@jupyter-widgets/controls",
      "model_module_version": "1.5.0",
      "model_name": "HTMLModel",
      "state": {
       "_dom_classes": [],
       "_model_module": "@jupyter-widgets/controls",
       "_model_module_version": "1.5.0",
       "_model_name": "HTMLModel",
       "_view_count": null,
       "_view_module": "@jupyter-widgets/controls",
       "_view_module_version": "1.5.0",
       "_view_name": "HTMLView",
       "description": "",
       "description_tooltip": null,
       "layout": "IPY_MODEL_3f3b6c1b2e8e44d2abb311f46c672b1f",
       "placeholder": "​",
       "style": "IPY_MODEL_6b706dd81da84e1282390acdbe487ab9",
       "value": "100%"
      }
     },
     "8d6539ff583640db9ef70799660746a1": {
      "model_module": "@jupyter-widgets/controls",
      "model_module_version": "1.5.0",
      "model_name": "HTMLModel",
      "state": {
       "_dom_classes": [],
       "_model_module": "@jupyter-widgets/controls",
       "_model_module_version": "1.5.0",
       "_model_name": "HTMLModel",
       "_view_count": null,
       "_view_module": "@jupyter-widgets/controls",
       "_view_module_version": "1.5.0",
       "_view_name": "HTMLView",
       "description": "",
       "description_tooltip": null,
       "layout": "IPY_MODEL_46b629c19a9548a7956eee0fd533b35e",
       "placeholder": "​",
       "style": "IPY_MODEL_62d04f0643b64ffba7e0f266201ca8fc",
       "value": " 483/483 [00:00&lt;00:00, 18.0kB/s]"
      }
     },
     "8e4e65c4c0f04f3a93f31c7087018325": {
      "model_module": "@jupyter-widgets/controls",
      "model_module_version": "1.5.0",
      "model_name": "ProgressStyleModel",
      "state": {
       "_model_module": "@jupyter-widgets/controls",
       "_model_module_version": "1.5.0",
       "_model_name": "ProgressStyleModel",
       "_view_count": null,
       "_view_module": "@jupyter-widgets/base",
       "_view_module_version": "1.2.0",
       "_view_name": "StyleView",
       "bar_color": null,
       "description_width": ""
      }
     },
     "8e74e22e5468447d908e84f028db0a7c": {
      "model_module": "@jupyter-widgets/base",
      "model_module_version": "1.2.0",
      "model_name": "LayoutModel",
      "state": {
       "_model_module": "@jupyter-widgets/base",
       "_model_module_version": "1.2.0",
       "_model_name": "LayoutModel",
       "_view_count": null,
       "_view_module": "@jupyter-widgets/base",
       "_view_module_version": "1.2.0",
       "_view_name": "LayoutView",
       "align_content": null,
       "align_items": null,
       "align_self": null,
       "border": null,
       "bottom": null,
       "display": null,
       "flex": null,
       "flex_flow": null,
       "grid_area": null,
       "grid_auto_columns": null,
       "grid_auto_flow": null,
       "grid_auto_rows": null,
       "grid_column": null,
       "grid_gap": null,
       "grid_row": null,
       "grid_template_areas": null,
       "grid_template_columns": null,
       "grid_template_rows": null,
       "height": null,
       "justify_content": null,
       "justify_items": null,
       "left": null,
       "margin": null,
       "max_height": null,
       "max_width": null,
       "min_height": null,
       "min_width": null,
       "object_fit": null,
       "object_position": null,
       "order": null,
       "overflow": null,
       "overflow_x": null,
       "overflow_y": null,
       "padding": null,
       "right": null,
       "top": null,
       "visibility": null,
       "width": null
      }
     },
     "8eac2354ae0749d78302695cca8b9f8b": {
      "model_module": "@jupyter-widgets/controls",
      "model_module_version": "1.5.0",
      "model_name": "ProgressStyleModel",
      "state": {
       "_model_module": "@jupyter-widgets/controls",
       "_model_module_version": "1.5.0",
       "_model_name": "ProgressStyleModel",
       "_view_count": null,
       "_view_module": "@jupyter-widgets/base",
       "_view_module_version": "1.2.0",
       "_view_name": "StyleView",
       "bar_color": null,
       "description_width": ""
      }
     },
     "8efcc98a260d41d3afb0fc6c5d2f33ed": {
      "model_module": "@jupyter-widgets/base",
      "model_module_version": "1.2.0",
      "model_name": "LayoutModel",
      "state": {
       "_model_module": "@jupyter-widgets/base",
       "_model_module_version": "1.2.0",
       "_model_name": "LayoutModel",
       "_view_count": null,
       "_view_module": "@jupyter-widgets/base",
       "_view_module_version": "1.2.0",
       "_view_name": "LayoutView",
       "align_content": null,
       "align_items": null,
       "align_self": null,
       "border": null,
       "bottom": null,
       "display": null,
       "flex": null,
       "flex_flow": null,
       "grid_area": null,
       "grid_auto_columns": null,
       "grid_auto_flow": null,
       "grid_auto_rows": null,
       "grid_column": null,
       "grid_gap": null,
       "grid_row": null,
       "grid_template_areas": null,
       "grid_template_columns": null,
       "grid_template_rows": null,
       "height": null,
       "justify_content": null,
       "justify_items": null,
       "left": null,
       "margin": null,
       "max_height": null,
       "max_width": null,
       "min_height": null,
       "min_width": null,
       "object_fit": null,
       "object_position": null,
       "order": null,
       "overflow": null,
       "overflow_x": null,
       "overflow_y": null,
       "padding": null,
       "right": null,
       "top": null,
       "visibility": null,
       "width": null
      }
     },
     "8fdce55cca9440669d85b48a7dbf1436": {
      "model_module": "@jupyter-widgets/controls",
      "model_module_version": "1.5.0",
      "model_name": "HTMLModel",
      "state": {
       "_dom_classes": [],
       "_model_module": "@jupyter-widgets/controls",
       "_model_module_version": "1.5.0",
       "_model_name": "HTMLModel",
       "_view_count": null,
       "_view_module": "@jupyter-widgets/controls",
       "_view_module_version": "1.5.0",
       "_view_name": "HTMLView",
       "description": "",
       "description_tooltip": null,
       "layout": "IPY_MODEL_2d20276cebcd4fd9b35ba76d9089d4b7",
       "placeholder": "​",
       "style": "IPY_MODEL_f0f9b8fc18aa45f893538b876298752c",
       "value": "Downloading: 100%"
      }
     },
     "92399f25cf6849f5ba50ae7f5a127991": {
      "model_module": "@jupyter-widgets/base",
      "model_module_version": "1.2.0",
      "model_name": "LayoutModel",
      "state": {
       "_model_module": "@jupyter-widgets/base",
       "_model_module_version": "1.2.0",
       "_model_name": "LayoutModel",
       "_view_count": null,
       "_view_module": "@jupyter-widgets/base",
       "_view_module_version": "1.2.0",
       "_view_name": "LayoutView",
       "align_content": null,
       "align_items": null,
       "align_self": null,
       "border": null,
       "bottom": null,
       "display": null,
       "flex": null,
       "flex_flow": null,
       "grid_area": null,
       "grid_auto_columns": null,
       "grid_auto_flow": null,
       "grid_auto_rows": null,
       "grid_column": null,
       "grid_gap": null,
       "grid_row": null,
       "grid_template_areas": null,
       "grid_template_columns": null,
       "grid_template_rows": null,
       "height": null,
       "justify_content": null,
       "justify_items": null,
       "left": null,
       "margin": null,
       "max_height": null,
       "max_width": null,
       "min_height": null,
       "min_width": null,
       "object_fit": null,
       "object_position": null,
       "order": null,
       "overflow": null,
       "overflow_x": null,
       "overflow_y": null,
       "padding": null,
       "right": null,
       "top": null,
       "visibility": null,
       "width": null
      }
     },
     "92ba59dcbc79403a932ca0cd712fc5a0": {
      "model_module": "@jupyter-widgets/controls",
      "model_module_version": "1.5.0",
      "model_name": "DescriptionStyleModel",
      "state": {
       "_model_module": "@jupyter-widgets/controls",
       "_model_module_version": "1.5.0",
       "_model_name": "DescriptionStyleModel",
       "_view_count": null,
       "_view_module": "@jupyter-widgets/base",
       "_view_module_version": "1.2.0",
       "_view_name": "StyleView",
       "description_width": ""
      }
     },
     "94606e63f1c04b228c00bb2bdbf6e549": {
      "model_module": "@jupyter-widgets/controls",
      "model_module_version": "1.5.0",
      "model_name": "HTMLModel",
      "state": {
       "_dom_classes": [],
       "_model_module": "@jupyter-widgets/controls",
       "_model_module_version": "1.5.0",
       "_model_name": "HTMLModel",
       "_view_count": null,
       "_view_module": "@jupyter-widgets/controls",
       "_view_module_version": "1.5.0",
       "_view_name": "HTMLView",
       "description": "",
       "description_tooltip": null,
       "layout": "IPY_MODEL_5f1e083d66b343d7be92a0df68a419d8",
       "placeholder": "​",
       "style": "IPY_MODEL_92ba59dcbc79403a932ca0cd712fc5a0",
       "value": " 635/635 [02:45&lt;00:00,  4.31it/s, lr=0.0001, train_loss=3.79]"
      }
     },
     "970dbc8787a846c3b92571d79cba914d": {
      "model_module": "@jupyter-widgets/base",
      "model_module_version": "1.2.0",
      "model_name": "LayoutModel",
      "state": {
       "_model_module": "@jupyter-widgets/base",
       "_model_module_version": "1.2.0",
       "_model_name": "LayoutModel",
       "_view_count": null,
       "_view_module": "@jupyter-widgets/base",
       "_view_module_version": "1.2.0",
       "_view_name": "LayoutView",
       "align_content": null,
       "align_items": null,
       "align_self": null,
       "border": null,
       "bottom": null,
       "display": null,
       "flex": null,
       "flex_flow": null,
       "grid_area": null,
       "grid_auto_columns": null,
       "grid_auto_flow": null,
       "grid_auto_rows": null,
       "grid_column": null,
       "grid_gap": null,
       "grid_row": null,
       "grid_template_areas": null,
       "grid_template_columns": null,
       "grid_template_rows": null,
       "height": null,
       "justify_content": null,
       "justify_items": null,
       "left": null,
       "margin": null,
       "max_height": null,
       "max_width": null,
       "min_height": null,
       "min_width": null,
       "object_fit": null,
       "object_position": null,
       "order": null,
       "overflow": null,
       "overflow_x": null,
       "overflow_y": null,
       "padding": null,
       "right": null,
       "top": null,
       "visibility": null,
       "width": null
      }
     },
     "9828eac408fc4dc887be6ca3d984acc4": {
      "model_module": "@jupyter-widgets/base",
      "model_module_version": "1.2.0",
      "model_name": "LayoutModel",
      "state": {
       "_model_module": "@jupyter-widgets/base",
       "_model_module_version": "1.2.0",
       "_model_name": "LayoutModel",
       "_view_count": null,
       "_view_module": "@jupyter-widgets/base",
       "_view_module_version": "1.2.0",
       "_view_name": "LayoutView",
       "align_content": null,
       "align_items": null,
       "align_self": null,
       "border": null,
       "bottom": null,
       "display": null,
       "flex": null,
       "flex_flow": null,
       "grid_area": null,
       "grid_auto_columns": null,
       "grid_auto_flow": null,
       "grid_auto_rows": null,
       "grid_column": null,
       "grid_gap": null,
       "grid_row": null,
       "grid_template_areas": null,
       "grid_template_columns": null,
       "grid_template_rows": null,
       "height": null,
       "justify_content": null,
       "justify_items": null,
       "left": null,
       "margin": null,
       "max_height": null,
       "max_width": null,
       "min_height": null,
       "min_width": null,
       "object_fit": null,
       "object_position": null,
       "order": null,
       "overflow": null,
       "overflow_x": null,
       "overflow_y": null,
       "padding": null,
       "right": null,
       "top": null,
       "visibility": null,
       "width": null
      }
     },
     "9bd41334c7d64a8fab70b71c897b7a7c": {
      "model_module": "@jupyter-widgets/controls",
      "model_module_version": "1.5.0",
      "model_name": "DescriptionStyleModel",
      "state": {
       "_model_module": "@jupyter-widgets/controls",
       "_model_module_version": "1.5.0",
       "_model_name": "DescriptionStyleModel",
       "_view_count": null,
       "_view_module": "@jupyter-widgets/base",
       "_view_module_version": "1.2.0",
       "_view_name": "StyleView",
       "description_width": ""
      }
     },
     "9c68a4378b80498c9b92c39d6c0115cb": {
      "model_module": "@jupyter-widgets/base",
      "model_module_version": "1.2.0",
      "model_name": "LayoutModel",
      "state": {
       "_model_module": "@jupyter-widgets/base",
       "_model_module_version": "1.2.0",
       "_model_name": "LayoutModel",
       "_view_count": null,
       "_view_module": "@jupyter-widgets/base",
       "_view_module_version": "1.2.0",
       "_view_name": "LayoutView",
       "align_content": null,
       "align_items": null,
       "align_self": null,
       "border": null,
       "bottom": null,
       "display": null,
       "flex": null,
       "flex_flow": null,
       "grid_area": null,
       "grid_auto_columns": null,
       "grid_auto_flow": null,
       "grid_auto_rows": null,
       "grid_column": null,
       "grid_gap": null,
       "grid_row": null,
       "grid_template_areas": null,
       "grid_template_columns": null,
       "grid_template_rows": null,
       "height": null,
       "justify_content": null,
       "justify_items": null,
       "left": null,
       "margin": null,
       "max_height": null,
       "max_width": null,
       "min_height": null,
       "min_width": null,
       "object_fit": null,
       "object_position": null,
       "order": null,
       "overflow": null,
       "overflow_x": null,
       "overflow_y": null,
       "padding": null,
       "right": null,
       "top": null,
       "visibility": null,
       "width": null
      }
     },
     "9dc8e6b90f4146bba7b30a145cc94d49": {
      "model_module": "@jupyter-widgets/controls",
      "model_module_version": "1.5.0",
      "model_name": "ProgressStyleModel",
      "state": {
       "_model_module": "@jupyter-widgets/controls",
       "_model_module_version": "1.5.0",
       "_model_name": "ProgressStyleModel",
       "_view_count": null,
       "_view_module": "@jupyter-widgets/base",
       "_view_module_version": "1.2.0",
       "_view_name": "StyleView",
       "bar_color": null,
       "description_width": ""
      }
     },
     "a8b3dd88b29f45f099cb30cd48f0c3de": {
      "model_module": "@jupyter-widgets/controls",
      "model_module_version": "1.5.0",
      "model_name": "HTMLModel",
      "state": {
       "_dom_classes": [],
       "_model_module": "@jupyter-widgets/controls",
       "_model_module_version": "1.5.0",
       "_model_name": "HTMLModel",
       "_view_count": null,
       "_view_module": "@jupyter-widgets/controls",
       "_view_module_version": "1.5.0",
       "_view_name": "HTMLView",
       "description": "",
       "description_tooltip": null,
       "layout": "IPY_MODEL_8e74e22e5468447d908e84f028db0a7c",
       "placeholder": "​",
       "style": "IPY_MODEL_dfc28724808346b281a8bd795ebcc105",
       "value": " 159/159 [00:26&lt;00:00, 11.36it/s, valid_loss=3.32]"
      }
     },
     "a8bd163adf4f453ebd3af34a10fa05fc": {
      "model_module": "@jupyter-widgets/controls",
      "model_module_version": "1.5.0",
      "model_name": "ProgressStyleModel",
      "state": {
       "_model_module": "@jupyter-widgets/controls",
       "_model_module_version": "1.5.0",
       "_model_name": "ProgressStyleModel",
       "_view_count": null,
       "_view_module": "@jupyter-widgets/base",
       "_view_module_version": "1.2.0",
       "_view_name": "StyleView",
       "bar_color": null,
       "description_width": ""
      }
     },
     "ab2be1bbbb9548c2a49344d482761a15": {
      "model_module": "@jupyter-widgets/controls",
      "model_module_version": "1.5.0",
      "model_name": "HBoxModel",
      "state": {
       "_dom_classes": [],
       "_model_module": "@jupyter-widgets/controls",
       "_model_module_version": "1.5.0",
       "_model_name": "HBoxModel",
       "_view_count": null,
       "_view_module": "@jupyter-widgets/controls",
       "_view_module_version": "1.5.0",
       "_view_name": "HBoxView",
       "box_style": "",
       "children": [
        "IPY_MODEL_f82ae49b17d84146bcea67d5de257723",
        "IPY_MODEL_c4c6663cb99c4eb8b42af6fd6b188014",
        "IPY_MODEL_d3576fcbe0754b02a7e3d20d1cbe77fd"
       ],
       "layout": "IPY_MODEL_593e3a04fd394222932ec308b755bac0"
      }
     },
     "ad380cbfb12543e3b7355e04b46333e2": {
      "model_module": "@jupyter-widgets/base",
      "model_module_version": "1.2.0",
      "model_name": "LayoutModel",
      "state": {
       "_model_module": "@jupyter-widgets/base",
       "_model_module_version": "1.2.0",
       "_model_name": "LayoutModel",
       "_view_count": null,
       "_view_module": "@jupyter-widgets/base",
       "_view_module_version": "1.2.0",
       "_view_name": "LayoutView",
       "align_content": null,
       "align_items": null,
       "align_self": null,
       "border": null,
       "bottom": null,
       "display": null,
       "flex": null,
       "flex_flow": null,
       "grid_area": null,
       "grid_auto_columns": null,
       "grid_auto_flow": null,
       "grid_auto_rows": null,
       "grid_column": null,
       "grid_gap": null,
       "grid_row": null,
       "grid_template_areas": null,
       "grid_template_columns": null,
       "grid_template_rows": null,
       "height": null,
       "justify_content": null,
       "justify_items": null,
       "left": null,
       "margin": null,
       "max_height": null,
       "max_width": null,
       "min_height": null,
       "min_width": null,
       "object_fit": null,
       "object_position": null,
       "order": null,
       "overflow": null,
       "overflow_x": null,
       "overflow_y": null,
       "padding": null,
       "right": null,
       "top": null,
       "visibility": null,
       "width": null
      }
     },
     "ae01b2e063014bd7a1a862638f4a341b": {
      "model_module": "@jupyter-widgets/controls",
      "model_module_version": "1.5.0",
      "model_name": "DescriptionStyleModel",
      "state": {
       "_model_module": "@jupyter-widgets/controls",
       "_model_module_version": "1.5.0",
       "_model_name": "DescriptionStyleModel",
       "_view_count": null,
       "_view_module": "@jupyter-widgets/base",
       "_view_module_version": "1.2.0",
       "_view_name": "StyleView",
       "description_width": ""
      }
     },
     "afebbbaca5ef4e27b6c2990c1996d715": {
      "model_module": "@jupyter-widgets/base",
      "model_module_version": "1.2.0",
      "model_name": "LayoutModel",
      "state": {
       "_model_module": "@jupyter-widgets/base",
       "_model_module_version": "1.2.0",
       "_model_name": "LayoutModel",
       "_view_count": null,
       "_view_module": "@jupyter-widgets/base",
       "_view_module_version": "1.2.0",
       "_view_name": "LayoutView",
       "align_content": null,
       "align_items": null,
       "align_self": null,
       "border": null,
       "bottom": null,
       "display": null,
       "flex": null,
       "flex_flow": null,
       "grid_area": null,
       "grid_auto_columns": null,
       "grid_auto_flow": null,
       "grid_auto_rows": null,
       "grid_column": null,
       "grid_gap": null,
       "grid_row": null,
       "grid_template_areas": null,
       "grid_template_columns": null,
       "grid_template_rows": null,
       "height": null,
       "justify_content": null,
       "justify_items": null,
       "left": null,
       "margin": null,
       "max_height": null,
       "max_width": null,
       "min_height": null,
       "min_width": null,
       "object_fit": null,
       "object_position": null,
       "order": null,
       "overflow": null,
       "overflow_x": null,
       "overflow_y": null,
       "padding": null,
       "right": null,
       "top": null,
       "visibility": null,
       "width": null
      }
     },
     "b423f70e21a54313892150e0298f30f1": {
      "model_module": "@jupyter-widgets/controls",
      "model_module_version": "1.5.0",
      "model_name": "HTMLModel",
      "state": {
       "_dom_classes": [],
       "_model_module": "@jupyter-widgets/controls",
       "_model_module_version": "1.5.0",
       "_model_name": "HTMLModel",
       "_view_count": null,
       "_view_module": "@jupyter-widgets/controls",
       "_view_module_version": "1.5.0",
       "_view_name": "HTMLView",
       "description": "",
       "description_tooltip": null,
       "layout": "IPY_MODEL_f6ed6a1bb29846c3a45b4fad4c41b361",
       "placeholder": "​",
       "style": "IPY_MODEL_5b52ee1e729d42c7b28feceec58e2d16",
       "value": " 268M/268M [00:05&lt;00:00, 58.2MB/s]"
      }
     },
     "b5794979d4454ecf81db7c5c6a9d80c8": {
      "model_module": "@jupyter-widgets/controls",
      "model_module_version": "1.5.0",
      "model_name": "DescriptionStyleModel",
      "state": {
       "_model_module": "@jupyter-widgets/controls",
       "_model_module_version": "1.5.0",
       "_model_name": "DescriptionStyleModel",
       "_view_count": null,
       "_view_module": "@jupyter-widgets/base",
       "_view_module_version": "1.2.0",
       "_view_name": "StyleView",
       "description_width": ""
      }
     },
     "b6954bf1c9a64d1f9adbf598a712ef7b": {
      "model_module": "@jupyter-widgets/base",
      "model_module_version": "1.2.0",
      "model_name": "LayoutModel",
      "state": {
       "_model_module": "@jupyter-widgets/base",
       "_model_module_version": "1.2.0",
       "_model_name": "LayoutModel",
       "_view_count": null,
       "_view_module": "@jupyter-widgets/base",
       "_view_module_version": "1.2.0",
       "_view_name": "LayoutView",
       "align_content": null,
       "align_items": null,
       "align_self": null,
       "border": null,
       "bottom": null,
       "display": null,
       "flex": null,
       "flex_flow": null,
       "grid_area": null,
       "grid_auto_columns": null,
       "grid_auto_flow": null,
       "grid_auto_rows": null,
       "grid_column": null,
       "grid_gap": null,
       "grid_row": null,
       "grid_template_areas": null,
       "grid_template_columns": null,
       "grid_template_rows": null,
       "height": null,
       "justify_content": null,
       "justify_items": null,
       "left": null,
       "margin": null,
       "max_height": null,
       "max_width": null,
       "min_height": null,
       "min_width": null,
       "object_fit": null,
       "object_position": null,
       "order": null,
       "overflow": null,
       "overflow_x": null,
       "overflow_y": null,
       "padding": null,
       "right": null,
       "top": null,
       "visibility": null,
       "width": null
      }
     },
     "ba629f3bea5c4a7c9bcac4edd66e4cdd": {
      "model_module": "@jupyter-widgets/controls",
      "model_module_version": "1.5.0",
      "model_name": "HTMLModel",
      "state": {
       "_dom_classes": [],
       "_model_module": "@jupyter-widgets/controls",
       "_model_module_version": "1.5.0",
       "_model_name": "HTMLModel",
       "_view_count": null,
       "_view_module": "@jupyter-widgets/controls",
       "_view_module_version": "1.5.0",
       "_view_name": "HTMLView",
       "description": "",
       "description_tooltip": null,
       "layout": "IPY_MODEL_22edcea7972b4f97b3721a3252197652",
       "placeholder": "​",
       "style": "IPY_MODEL_198eacc8a2744b0bb7775383cc19f676",
       "value": "100%"
      }
     },
     "bb0db1e14ac9484ebe9c6ddfa57716fa": {
      "model_module": "@jupyter-widgets/controls",
      "model_module_version": "1.5.0",
      "model_name": "HTMLModel",
      "state": {
       "_dom_classes": [],
       "_model_module": "@jupyter-widgets/controls",
       "_model_module_version": "1.5.0",
       "_model_name": "HTMLModel",
       "_view_count": null,
       "_view_module": "@jupyter-widgets/controls",
       "_view_module_version": "1.5.0",
       "_view_name": "HTMLView",
       "description": "",
       "description_tooltip": null,
       "layout": "IPY_MODEL_b6954bf1c9a64d1f9adbf598a712ef7b",
       "placeholder": "​",
       "style": "IPY_MODEL_0074f4ea124f472a8948c395f0de2970",
       "value": "Downloading: 100%"
      }
     },
     "c30880d688bd468d939dbd238515abeb": {
      "model_module": "@jupyter-widgets/base",
      "model_module_version": "1.2.0",
      "model_name": "LayoutModel",
      "state": {
       "_model_module": "@jupyter-widgets/base",
       "_model_module_version": "1.2.0",
       "_model_name": "LayoutModel",
       "_view_count": null,
       "_view_module": "@jupyter-widgets/base",
       "_view_module_version": "1.2.0",
       "_view_name": "LayoutView",
       "align_content": null,
       "align_items": null,
       "align_self": null,
       "border": null,
       "bottom": null,
       "display": null,
       "flex": null,
       "flex_flow": null,
       "grid_area": null,
       "grid_auto_columns": null,
       "grid_auto_flow": null,
       "grid_auto_rows": null,
       "grid_column": null,
       "grid_gap": null,
       "grid_row": null,
       "grid_template_areas": null,
       "grid_template_columns": null,
       "grid_template_rows": null,
       "height": null,
       "justify_content": null,
       "justify_items": null,
       "left": null,
       "margin": null,
       "max_height": null,
       "max_width": null,
       "min_height": null,
       "min_width": null,
       "object_fit": null,
       "object_position": null,
       "order": null,
       "overflow": null,
       "overflow_x": null,
       "overflow_y": null,
       "padding": null,
       "right": null,
       "top": null,
       "visibility": null,
       "width": null
      }
     },
     "c4c6663cb99c4eb8b42af6fd6b188014": {
      "model_module": "@jupyter-widgets/controls",
      "model_module_version": "1.5.0",
      "model_name": "FloatProgressModel",
      "state": {
       "_dom_classes": [],
       "_model_module": "@jupyter-widgets/controls",
       "_model_module_version": "1.5.0",
       "_model_name": "FloatProgressModel",
       "_view_count": null,
       "_view_module": "@jupyter-widgets/controls",
       "_view_module_version": "1.5.0",
       "_view_name": "ProgressView",
       "bar_style": "success",
       "description": "",
       "description_tooltip": null,
       "layout": "IPY_MODEL_64c46028673148ec95ab55c45cc98a6b",
       "max": 159.0,
       "min": 0.0,
       "orientation": "horizontal",
       "style": "IPY_MODEL_75adedd7263847d69f3091e0850762d5",
       "value": 159.0
      }
     },
     "c8486c2a23c24116bbbcf669033b9f88": {
      "model_module": "@jupyter-widgets/controls",
      "model_module_version": "1.5.0",
      "model_name": "FloatProgressModel",
      "state": {
       "_dom_classes": [],
       "_model_module": "@jupyter-widgets/controls",
       "_model_module_version": "1.5.0",
       "_model_name": "FloatProgressModel",
       "_view_count": null,
       "_view_module": "@jupyter-widgets/controls",
       "_view_module_version": "1.5.0",
       "_view_name": "ProgressView",
       "bar_style": "success",
       "description": "",
       "description_tooltip": null,
       "layout": "IPY_MODEL_77e37e8001e340f5938e7d3451640722",
       "max": 267967963.0,
       "min": 0.0,
       "orientation": "horizontal",
       "style": "IPY_MODEL_8eac2354ae0749d78302695cca8b9f8b",
       "value": 267967963.0
      }
     },
     "ca017b388ab44060b5ad42c812001b6e": {
      "model_module": "@jupyter-widgets/base",
      "model_module_version": "1.2.0",
      "model_name": "LayoutModel",
      "state": {
       "_model_module": "@jupyter-widgets/base",
       "_model_module_version": "1.2.0",
       "_model_name": "LayoutModel",
       "_view_count": null,
       "_view_module": "@jupyter-widgets/base",
       "_view_module_version": "1.2.0",
       "_view_name": "LayoutView",
       "align_content": null,
       "align_items": null,
       "align_self": null,
       "border": null,
       "bottom": null,
       "display": null,
       "flex": null,
       "flex_flow": null,
       "grid_area": null,
       "grid_auto_columns": null,
       "grid_auto_flow": null,
       "grid_auto_rows": null,
       "grid_column": null,
       "grid_gap": null,
       "grid_row": null,
       "grid_template_areas": null,
       "grid_template_columns": null,
       "grid_template_rows": null,
       "height": null,
       "justify_content": null,
       "justify_items": null,
       "left": null,
       "margin": null,
       "max_height": null,
       "max_width": null,
       "min_height": null,
       "min_width": null,
       "object_fit": null,
       "object_position": null,
       "order": null,
       "overflow": null,
       "overflow_x": null,
       "overflow_y": null,
       "padding": null,
       "right": null,
       "top": null,
       "visibility": null,
       "width": null
      }
     },
     "cd3fdd148fc44eed96ba8969f89bac38": {
      "model_module": "@jupyter-widgets/controls",
      "model_module_version": "1.5.0",
      "model_name": "DescriptionStyleModel",
      "state": {
       "_model_module": "@jupyter-widgets/controls",
       "_model_module_version": "1.5.0",
       "_model_name": "DescriptionStyleModel",
       "_view_count": null,
       "_view_module": "@jupyter-widgets/base",
       "_view_module_version": "1.2.0",
       "_view_name": "StyleView",
       "description_width": ""
      }
     },
     "d1d63dd2d0034695a92d4f43f26b4087": {
      "model_module": "@jupyter-widgets/controls",
      "model_module_version": "1.5.0",
      "model_name": "ProgressStyleModel",
      "state": {
       "_model_module": "@jupyter-widgets/controls",
       "_model_module_version": "1.5.0",
       "_model_name": "ProgressStyleModel",
       "_view_count": null,
       "_view_module": "@jupyter-widgets/base",
       "_view_module_version": "1.2.0",
       "_view_name": "StyleView",
       "bar_color": null,
       "description_width": ""
      }
     },
     "d3576fcbe0754b02a7e3d20d1cbe77fd": {
      "model_module": "@jupyter-widgets/controls",
      "model_module_version": "1.5.0",
      "model_name": "HTMLModel",
      "state": {
       "_dom_classes": [],
       "_model_module": "@jupyter-widgets/controls",
       "_model_module_version": "1.5.0",
       "_model_name": "HTMLModel",
       "_view_count": null,
       "_view_module": "@jupyter-widgets/controls",
       "_view_module_version": "1.5.0",
       "_view_name": "HTMLView",
       "description": "",
       "description_tooltip": null,
       "layout": "IPY_MODEL_6c5d74075d7f44bb8df4b1c3ba6210f9",
       "placeholder": "​",
       "style": "IPY_MODEL_0598492c785248d6ab65a45003a668f5",
       "value": " 159/159 [00:24&lt;00:00, 10.53it/s]"
      }
     },
     "d4b78e0be0544e229ea052631cbc1fa8": {
      "model_module": "@jupyter-widgets/controls",
      "model_module_version": "1.5.0",
      "model_name": "ProgressStyleModel",
      "state": {
       "_model_module": "@jupyter-widgets/controls",
       "_model_module_version": "1.5.0",
       "_model_name": "ProgressStyleModel",
       "_view_count": null,
       "_view_module": "@jupyter-widgets/base",
       "_view_module_version": "1.2.0",
       "_view_name": "StyleView",
       "bar_color": null,
       "description_width": ""
      }
     },
     "d8e6ab606c86466daca67de23e906425": {
      "model_module": "@jupyter-widgets/base",
      "model_module_version": "1.2.0",
      "model_name": "LayoutModel",
      "state": {
       "_model_module": "@jupyter-widgets/base",
       "_model_module_version": "1.2.0",
       "_model_name": "LayoutModel",
       "_view_count": null,
       "_view_module": "@jupyter-widgets/base",
       "_view_module_version": "1.2.0",
       "_view_name": "LayoutView",
       "align_content": null,
       "align_items": null,
       "align_self": null,
       "border": null,
       "bottom": null,
       "display": null,
       "flex": null,
       "flex_flow": null,
       "grid_area": null,
       "grid_auto_columns": null,
       "grid_auto_flow": null,
       "grid_auto_rows": null,
       "grid_column": null,
       "grid_gap": null,
       "grid_row": null,
       "grid_template_areas": null,
       "grid_template_columns": null,
       "grid_template_rows": null,
       "height": null,
       "justify_content": null,
       "justify_items": null,
       "left": null,
       "margin": null,
       "max_height": null,
       "max_width": null,
       "min_height": null,
       "min_width": null,
       "object_fit": null,
       "object_position": null,
       "order": null,
       "overflow": null,
       "overflow_x": null,
       "overflow_y": null,
       "padding": null,
       "right": null,
       "top": null,
       "visibility": null,
       "width": null
      }
     },
     "db24d81f4fc54dfba09d88438f16f7a1": {
      "model_module": "@jupyter-widgets/controls",
      "model_module_version": "1.5.0",
      "model_name": "HTMLModel",
      "state": {
       "_dom_classes": [],
       "_model_module": "@jupyter-widgets/controls",
       "_model_module_version": "1.5.0",
       "_model_name": "HTMLModel",
       "_view_count": null,
       "_view_module": "@jupyter-widgets/controls",
       "_view_module_version": "1.5.0",
       "_view_name": "HTMLView",
       "description": "",
       "description_tooltip": null,
       "layout": "IPY_MODEL_20a0fadff76746109a63321bdd4b8c71",
       "placeholder": "​",
       "style": "IPY_MODEL_ae01b2e063014bd7a1a862638f4a341b",
       "value": "Downloading: 100%"
      }
     },
     "dc66dfbf67bf4d9187935aec4c86bdb9": {
      "model_module": "@jupyter-widgets/base",
      "model_module_version": "1.2.0",
      "model_name": "LayoutModel",
      "state": {
       "_model_module": "@jupyter-widgets/base",
       "_model_module_version": "1.2.0",
       "_model_name": "LayoutModel",
       "_view_count": null,
       "_view_module": "@jupyter-widgets/base",
       "_view_module_version": "1.2.0",
       "_view_name": "LayoutView",
       "align_content": null,
       "align_items": null,
       "align_self": null,
       "border": null,
       "bottom": null,
       "display": null,
       "flex": null,
       "flex_flow": null,
       "grid_area": null,
       "grid_auto_columns": null,
       "grid_auto_flow": null,
       "grid_auto_rows": null,
       "grid_column": null,
       "grid_gap": null,
       "grid_row": null,
       "grid_template_areas": null,
       "grid_template_columns": null,
       "grid_template_rows": null,
       "height": null,
       "justify_content": null,
       "justify_items": null,
       "left": null,
       "margin": null,
       "max_height": null,
       "max_width": null,
       "min_height": null,
       "min_width": null,
       "object_fit": null,
       "object_position": null,
       "order": null,
       "overflow": null,
       "overflow_x": null,
       "overflow_y": null,
       "padding": null,
       "right": null,
       "top": null,
       "visibility": null,
       "width": null
      }
     },
     "dda5b3f106da4bf9a28b1af6ad2e7dc7": {
      "model_module": "@jupyter-widgets/controls",
      "model_module_version": "1.5.0",
      "model_name": "FloatProgressModel",
      "state": {
       "_dom_classes": [],
       "_model_module": "@jupyter-widgets/controls",
       "_model_module_version": "1.5.0",
       "_model_name": "FloatProgressModel",
       "_view_count": null,
       "_view_module": "@jupyter-widgets/controls",
       "_view_module_version": "1.5.0",
       "_view_name": "ProgressView",
       "bar_style": "success",
       "description": "",
       "description_tooltip": null,
       "layout": "IPY_MODEL_92399f25cf6849f5ba50ae7f5a127991",
       "max": 635.0,
       "min": 0.0,
       "orientation": "horizontal",
       "style": "IPY_MODEL_8e4e65c4c0f04f3a93f31c7087018325",
       "value": 635.0
      }
     },
     "df713d97bef642debf6836ab285a828d": {
      "model_module": "@jupyter-widgets/controls",
      "model_module_version": "1.5.0",
      "model_name": "HTMLModel",
      "state": {
       "_dom_classes": [],
       "_model_module": "@jupyter-widgets/controls",
       "_model_module_version": "1.5.0",
       "_model_name": "HTMLModel",
       "_view_count": null,
       "_view_module": "@jupyter-widgets/controls",
       "_view_module_version": "1.5.0",
       "_view_name": "HTMLView",
       "description": "",
       "description_tooltip": null,
       "layout": "IPY_MODEL_8efcc98a260d41d3afb0fc6c5d2f33ed",
       "placeholder": "​",
       "style": "IPY_MODEL_020c25a6b3bd4125ae279ee16338bc7d",
       "value": " 635/635 [02:43&lt;00:00,  4.29it/s, lr=0.0001, train_loss=3.08]"
      }
     },
     "dfc28724808346b281a8bd795ebcc105": {
      "model_module": "@jupyter-widgets/controls",
      "model_module_version": "1.5.0",
      "model_name": "DescriptionStyleModel",
      "state": {
       "_model_module": "@jupyter-widgets/controls",
       "_model_module_version": "1.5.0",
       "_model_name": "DescriptionStyleModel",
       "_view_count": null,
       "_view_module": "@jupyter-widgets/base",
       "_view_module_version": "1.2.0",
       "_view_name": "StyleView",
       "description_width": ""
      }
     },
     "dfc75de18fa340e0be8a18376bb17bad": {
      "model_module": "@jupyter-widgets/controls",
      "model_module_version": "1.5.0",
      "model_name": "HTMLModel",
      "state": {
       "_dom_classes": [],
       "_model_module": "@jupyter-widgets/controls",
       "_model_module_version": "1.5.0",
       "_model_name": "HTMLModel",
       "_view_count": null,
       "_view_module": "@jupyter-widgets/controls",
       "_view_module_version": "1.5.0",
       "_view_name": "HTMLView",
       "description": "",
       "description_tooltip": null,
       "layout": "IPY_MODEL_5d4a8727f3d947ca956b8e5473c6853b",
       "placeholder": "​",
       "style": "IPY_MODEL_ecad0158dd9c49c6b76d097cacd281b0",
       "value": " 28.0/28.0 [00:00&lt;00:00, 697B/s]"
      }
     },
     "e4147ed0a6784f3c800390e7dbb48f04": {
      "model_module": "@jupyter-widgets/base",
      "model_module_version": "1.2.0",
      "model_name": "LayoutModel",
      "state": {
       "_model_module": "@jupyter-widgets/base",
       "_model_module_version": "1.2.0",
       "_model_name": "LayoutModel",
       "_view_count": null,
       "_view_module": "@jupyter-widgets/base",
       "_view_module_version": "1.2.0",
       "_view_name": "LayoutView",
       "align_content": null,
       "align_items": null,
       "align_self": null,
       "border": null,
       "bottom": null,
       "display": null,
       "flex": null,
       "flex_flow": null,
       "grid_area": null,
       "grid_auto_columns": null,
       "grid_auto_flow": null,
       "grid_auto_rows": null,
       "grid_column": null,
       "grid_gap": null,
       "grid_row": null,
       "grid_template_areas": null,
       "grid_template_columns": null,
       "grid_template_rows": null,
       "height": null,
       "justify_content": null,
       "justify_items": null,
       "left": null,
       "margin": null,
       "max_height": null,
       "max_width": null,
       "min_height": null,
       "min_width": null,
       "object_fit": null,
       "object_position": null,
       "order": null,
       "overflow": null,
       "overflow_x": null,
       "overflow_y": null,
       "padding": null,
       "right": null,
       "top": null,
       "visibility": null,
       "width": null
      }
     },
     "e48dfdd59f5e44978ef5daef33e52b50": {
      "model_module": "@jupyter-widgets/base",
      "model_module_version": "1.2.0",
      "model_name": "LayoutModel",
      "state": {
       "_model_module": "@jupyter-widgets/base",
       "_model_module_version": "1.2.0",
       "_model_name": "LayoutModel",
       "_view_count": null,
       "_view_module": "@jupyter-widgets/base",
       "_view_module_version": "1.2.0",
       "_view_name": "LayoutView",
       "align_content": null,
       "align_items": null,
       "align_self": null,
       "border": null,
       "bottom": null,
       "display": null,
       "flex": null,
       "flex_flow": null,
       "grid_area": null,
       "grid_auto_columns": null,
       "grid_auto_flow": null,
       "grid_auto_rows": null,
       "grid_column": null,
       "grid_gap": null,
       "grid_row": null,
       "grid_template_areas": null,
       "grid_template_columns": null,
       "grid_template_rows": null,
       "height": null,
       "justify_content": null,
       "justify_items": null,
       "left": null,
       "margin": null,
       "max_height": null,
       "max_width": null,
       "min_height": null,
       "min_width": null,
       "object_fit": null,
       "object_position": null,
       "order": null,
       "overflow": null,
       "overflow_x": null,
       "overflow_y": null,
       "padding": null,
       "right": null,
       "top": null,
       "visibility": null,
       "width": null
      }
     },
     "e82da8d5dc95432b852b929ceb61d168": {
      "model_module": "@jupyter-widgets/controls",
      "model_module_version": "1.5.0",
      "model_name": "FloatProgressModel",
      "state": {
       "_dom_classes": [],
       "_model_module": "@jupyter-widgets/controls",
       "_model_module_version": "1.5.0",
       "_model_name": "FloatProgressModel",
       "_view_count": null,
       "_view_module": "@jupyter-widgets/controls",
       "_view_module_version": "1.5.0",
       "_view_name": "ProgressView",
       "bar_style": "success",
       "description": "",
       "description_tooltip": null,
       "layout": "IPY_MODEL_831ae13277ce42ae9daacd8ecef9acbf",
       "max": 28.0,
       "min": 0.0,
       "orientation": "horizontal",
       "style": "IPY_MODEL_d4b78e0be0544e229ea052631cbc1fa8",
       "value": 28.0
      }
     },
     "ecad0158dd9c49c6b76d097cacd281b0": {
      "model_module": "@jupyter-widgets/controls",
      "model_module_version": "1.5.0",
      "model_name": "DescriptionStyleModel",
      "state": {
       "_model_module": "@jupyter-widgets/controls",
       "_model_module_version": "1.5.0",
       "_model_name": "DescriptionStyleModel",
       "_view_count": null,
       "_view_module": "@jupyter-widgets/base",
       "_view_module_version": "1.2.0",
       "_view_name": "StyleView",
       "description_width": ""
      }
     },
     "f0f9b8fc18aa45f893538b876298752c": {
      "model_module": "@jupyter-widgets/controls",
      "model_module_version": "1.5.0",
      "model_name": "DescriptionStyleModel",
      "state": {
       "_model_module": "@jupyter-widgets/controls",
       "_model_module_version": "1.5.0",
       "_model_name": "DescriptionStyleModel",
       "_view_count": null,
       "_view_module": "@jupyter-widgets/base",
       "_view_module_version": "1.2.0",
       "_view_name": "StyleView",
       "description_width": ""
      }
     },
     "f17c5201bd69409daf9636f1c4c18e79": {
      "model_module": "@jupyter-widgets/base",
      "model_module_version": "1.2.0",
      "model_name": "LayoutModel",
      "state": {
       "_model_module": "@jupyter-widgets/base",
       "_model_module_version": "1.2.0",
       "_model_name": "LayoutModel",
       "_view_count": null,
       "_view_module": "@jupyter-widgets/base",
       "_view_module_version": "1.2.0",
       "_view_name": "LayoutView",
       "align_content": null,
       "align_items": null,
       "align_self": null,
       "border": null,
       "bottom": null,
       "display": null,
       "flex": null,
       "flex_flow": null,
       "grid_area": null,
       "grid_auto_columns": null,
       "grid_auto_flow": null,
       "grid_auto_rows": null,
       "grid_column": null,
       "grid_gap": null,
       "grid_row": null,
       "grid_template_areas": null,
       "grid_template_columns": null,
       "grid_template_rows": null,
       "height": null,
       "justify_content": null,
       "justify_items": null,
       "left": null,
       "margin": null,
       "max_height": null,
       "max_width": null,
       "min_height": null,
       "min_width": null,
       "object_fit": null,
       "object_position": null,
       "order": null,
       "overflow": null,
       "overflow_x": null,
       "overflow_y": null,
       "padding": null,
       "right": null,
       "top": null,
       "visibility": null,
       "width": null
      }
     },
     "f6ed6a1bb29846c3a45b4fad4c41b361": {
      "model_module": "@jupyter-widgets/base",
      "model_module_version": "1.2.0",
      "model_name": "LayoutModel",
      "state": {
       "_model_module": "@jupyter-widgets/base",
       "_model_module_version": "1.2.0",
       "_model_name": "LayoutModel",
       "_view_count": null,
       "_view_module": "@jupyter-widgets/base",
       "_view_module_version": "1.2.0",
       "_view_name": "LayoutView",
       "align_content": null,
       "align_items": null,
       "align_self": null,
       "border": null,
       "bottom": null,
       "display": null,
       "flex": null,
       "flex_flow": null,
       "grid_area": null,
       "grid_auto_columns": null,
       "grid_auto_flow": null,
       "grid_auto_rows": null,
       "grid_column": null,
       "grid_gap": null,
       "grid_row": null,
       "grid_template_areas": null,
       "grid_template_columns": null,
       "grid_template_rows": null,
       "height": null,
       "justify_content": null,
       "justify_items": null,
       "left": null,
       "margin": null,
       "max_height": null,
       "max_width": null,
       "min_height": null,
       "min_width": null,
       "object_fit": null,
       "object_position": null,
       "order": null,
       "overflow": null,
       "overflow_x": null,
       "overflow_y": null,
       "padding": null,
       "right": null,
       "top": null,
       "visibility": null,
       "width": null
      }
     },
     "f82ae49b17d84146bcea67d5de257723": {
      "model_module": "@jupyter-widgets/controls",
      "model_module_version": "1.5.0",
      "model_name": "HTMLModel",
      "state": {
       "_dom_classes": [],
       "_model_module": "@jupyter-widgets/controls",
       "_model_module_version": "1.5.0",
       "_model_name": "HTMLModel",
       "_view_count": null,
       "_view_module": "@jupyter-widgets/controls",
       "_view_module_version": "1.5.0",
       "_view_name": "HTMLView",
       "description": "",
       "description_tooltip": null,
       "layout": "IPY_MODEL_c30880d688bd468d939dbd238515abeb",
       "placeholder": "​",
       "style": "IPY_MODEL_9bd41334c7d64a8fab70b71c897b7a7c",
       "value": "100%"
      }
     },
     "f9dde36cfd4540a4991980076c11b919": {
      "model_module": "@jupyter-widgets/controls",
      "model_module_version": "1.5.0",
      "model_name": "FloatProgressModel",
      "state": {
       "_dom_classes": [],
       "_model_module": "@jupyter-widgets/controls",
       "_model_module_version": "1.5.0",
       "_model_name": "FloatProgressModel",
       "_view_count": null,
       "_view_module": "@jupyter-widgets/controls",
       "_view_module_version": "1.5.0",
       "_view_name": "ProgressView",
       "bar_style": "success",
       "description": "",
       "description_tooltip": null,
       "layout": "IPY_MODEL_781c98612a0f49f99d81be3946849344",
       "max": 466062.0,
       "min": 0.0,
       "orientation": "horizontal",
       "style": "IPY_MODEL_a8bd163adf4f453ebd3af34a10fa05fc",
       "value": 466062.0
      }
     },
     "f9feb14e30bf4c6f823e71ae7b14460f": {
      "model_module": "@jupyter-widgets/controls",
      "model_module_version": "1.5.0",
      "model_name": "HTMLModel",
      "state": {
       "_dom_classes": [],
       "_model_module": "@jupyter-widgets/controls",
       "_model_module_version": "1.5.0",
       "_model_name": "HTMLModel",
       "_view_count": null,
       "_view_module": "@jupyter-widgets/controls",
       "_view_module_version": "1.5.0",
       "_view_name": "HTMLView",
       "description": "",
       "description_tooltip": null,
       "layout": "IPY_MODEL_017ac7d6b2e04ff5be383d53a09449b8",
       "placeholder": "​",
       "style": "IPY_MODEL_3b59fe64ef5d45269261a828613fd1f8",
       "value": " 466k/466k [00:00&lt;00:00, 2.63MB/s]"
      }
     },
     "fa1d34bd9cb34d9593a7fb4b71623084": {
      "model_module": "@jupyter-widgets/base",
      "model_module_version": "1.2.0",
      "model_name": "LayoutModel",
      "state": {
       "_model_module": "@jupyter-widgets/base",
       "_model_module_version": "1.2.0",
       "_model_name": "LayoutModel",
       "_view_count": null,
       "_view_module": "@jupyter-widgets/base",
       "_view_module_version": "1.2.0",
       "_view_name": "LayoutView",
       "align_content": null,
       "align_items": null,
       "align_self": null,
       "border": null,
       "bottom": null,
       "display": null,
       "flex": null,
       "flex_flow": null,
       "grid_area": null,
       "grid_auto_columns": null,
       "grid_auto_flow": null,
       "grid_auto_rows": null,
       "grid_column": null,
       "grid_gap": null,
       "grid_row": null,
       "grid_template_areas": null,
       "grid_template_columns": null,
       "grid_template_rows": null,
       "height": null,
       "justify_content": null,
       "justify_items": null,
       "left": null,
       "margin": null,
       "max_height": null,
       "max_width": null,
       "min_height": null,
       "min_width": null,
       "object_fit": null,
       "object_position": null,
       "order": null,
       "overflow": null,
       "overflow_x": null,
       "overflow_y": null,
       "padding": null,
       "right": null,
       "top": null,
       "visibility": null,
       "width": null
      }
     },
     "fa89148d7e494387ae4e9bb42acfbec6": {
      "model_module": "@jupyter-widgets/base",
      "model_module_version": "1.2.0",
      "model_name": "LayoutModel",
      "state": {
       "_model_module": "@jupyter-widgets/base",
       "_model_module_version": "1.2.0",
       "_model_name": "LayoutModel",
       "_view_count": null,
       "_view_module": "@jupyter-widgets/base",
       "_view_module_version": "1.2.0",
       "_view_name": "LayoutView",
       "align_content": null,
       "align_items": null,
       "align_self": null,
       "border": null,
       "bottom": null,
       "display": null,
       "flex": null,
       "flex_flow": null,
       "grid_area": null,
       "grid_auto_columns": null,
       "grid_auto_flow": null,
       "grid_auto_rows": null,
       "grid_column": null,
       "grid_gap": null,
       "grid_row": null,
       "grid_template_areas": null,
       "grid_template_columns": null,
       "grid_template_rows": null,
       "height": null,
       "justify_content": null,
       "justify_items": null,
       "left": null,
       "margin": null,
       "max_height": null,
       "max_width": null,
       "min_height": null,
       "min_width": null,
       "object_fit": null,
       "object_position": null,
       "order": null,
       "overflow": null,
       "overflow_x": null,
       "overflow_y": null,
       "padding": null,
       "right": null,
       "top": null,
       "visibility": null,
       "width": null
      }
     },
     "fad689d840ca4c39886cc41611e2d16c": {
      "model_module": "@jupyter-widgets/controls",
      "model_module_version": "1.5.0",
      "model_name": "DescriptionStyleModel",
      "state": {
       "_model_module": "@jupyter-widgets/controls",
       "_model_module_version": "1.5.0",
       "_model_name": "DescriptionStyleModel",
       "_view_count": null,
       "_view_module": "@jupyter-widgets/base",
       "_view_module_version": "1.2.0",
       "_view_name": "StyleView",
       "description_width": ""
      }
     },
     "fbca536364164dce916f9effb6427db9": {
      "model_module": "@jupyter-widgets/controls",
      "model_module_version": "1.5.0",
      "model_name": "HTMLModel",
      "state": {
       "_dom_classes": [],
       "_model_module": "@jupyter-widgets/controls",
       "_model_module_version": "1.5.0",
       "_model_name": "HTMLModel",
       "_view_count": null,
       "_view_module": "@jupyter-widgets/controls",
       "_view_module_version": "1.5.0",
       "_view_name": "HTMLView",
       "description": "",
       "description_tooltip": null,
       "layout": "IPY_MODEL_25c19baf68a746439be6d2fdc72bae96",
       "placeholder": "​",
       "style": "IPY_MODEL_fad689d840ca4c39886cc41611e2d16c",
       "value": "100%"
      }
     },
     "fcbc8869f8794d0c81ea2c5bf73a6230": {
      "model_module": "@jupyter-widgets/controls",
      "model_module_version": "1.5.0",
      "model_name": "HBoxModel",
      "state": {
       "_dom_classes": [],
       "_model_module": "@jupyter-widgets/controls",
       "_model_module_version": "1.5.0",
       "_model_name": "HBoxModel",
       "_view_count": null,
       "_view_module": "@jupyter-widgets/controls",
       "_view_module_version": "1.5.0",
       "_view_name": "HBoxView",
       "box_style": "",
       "children": [
        "IPY_MODEL_db24d81f4fc54dfba09d88438f16f7a1",
        "IPY_MODEL_f9dde36cfd4540a4991980076c11b919",
        "IPY_MODEL_f9feb14e30bf4c6f823e71ae7b14460f"
       ],
       "layout": "IPY_MODEL_ad380cbfb12543e3b7355e04b46333e2"
      }
     },
     "ff36853d8f0449fbba25a3acc0d0d62c": {
      "model_module": "@jupyter-widgets/controls",
      "model_module_version": "1.5.0",
      "model_name": "HBoxModel",
      "state": {
       "_dom_classes": [],
       "_model_module": "@jupyter-widgets/controls",
       "_model_module_version": "1.5.0",
       "_model_name": "HBoxModel",
       "_view_count": null,
       "_view_module": "@jupyter-widgets/controls",
       "_view_module_version": "1.5.0",
       "_view_name": "HBoxView",
       "box_style": "",
       "children": [
        "IPY_MODEL_515f592246fe4d09bda274d2c3cf3f9a",
        "IPY_MODEL_dda5b3f106da4bf9a28b1af6ad2e7dc7",
        "IPY_MODEL_94606e63f1c04b228c00bb2bdbf6e549"
       ],
       "layout": "IPY_MODEL_6bdf143d5e464cd4b75d63a2f12d6b0b"
      }
     }
    },
    "version_major": 2,
    "version_minor": 0
   }
  }
 },
 "nbformat": 4,
 "nbformat_minor": 5
}
